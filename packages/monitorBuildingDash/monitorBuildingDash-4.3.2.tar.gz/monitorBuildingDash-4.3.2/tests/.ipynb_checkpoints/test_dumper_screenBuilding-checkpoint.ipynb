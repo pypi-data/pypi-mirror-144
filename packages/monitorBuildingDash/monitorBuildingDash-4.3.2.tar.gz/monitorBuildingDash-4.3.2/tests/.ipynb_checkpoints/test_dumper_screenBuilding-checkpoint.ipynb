{
 "cells": [
  {
   "cell_type": "code",
   "execution_count": 1,
   "id": "4ffef533-0ce9-4c2d-8125-b11e9748aa9a",
   "metadata": {},
   "outputs": [
    {
     "name": "stdout",
     "output_type": "stream",
     "text": [
      "FINISH LOADING CONFIGURATOR\n",
      "==============================\n",
      "\n",
      "FINISH LOADING CONFIGURATOR\n",
      "==============================\n",
      "\n",
      "vmuc  :  5000.0 ms\n",
      "smartlogger  :  5000.0 ms\n",
      "site_sls  :  60000.0 ms\n"
     ]
    },
    {
     "name": "stderr",
     "output_type": "stream",
     "text": [
      "/home/dorian/pythonDorianLibs/dorianUtils/comUtils.py:121: UserWarning: This pattern has match groups. To actually get the groups, use str.extract.\n",
      "  df = dfplc[dfplc.index.str.contains(patTag,case=False)]\n"
     ]
    }
   ],
   "source": [
    "#!/bin/python\n",
    "import pandas as pd,os\n",
    "import dorianUtils.comUtils as comUtils\n",
    "import time,datetime as dt,sys\n",
    "import monitorBuildingDash.screenBuilding as screenBuilding\n",
    "mb_utils=comUtils.Modebus_utils()\n",
    "dumper_screenBuilding = screenBuilding.ScreeningBuilding_dumper()"
   ]
  },
  {
   "cell_type": "markdown",
   "id": "4890458b-add2-4b6f-b02f-d0bc5174e1fc",
   "metadata": {},
   "source": [
    "## quick collect test"
   ]
  },
  {
   "cell_type": "code",
   "execution_count": null,
   "id": "f4c7782e-73b7-4213-86a1-0c7598bf0670",
   "metadata": {},
   "outputs": [],
   "source": [
    "# deviceClient = dumper_screenBuilding.devices['meteo']\n",
    "deviceClient = dumper_screenBuilding.devices['smartlogger']\n",
    "# deviceClient = dumper_screenBuilding.devices['vmuc']\n",
    "# deviceClient = dumper_screenBuilding.devices['site_sls']\n",
    "# deviceClient.client.connect()\n",
    "# d=deviceClient.get_slave_values(1)\n",
    "# d=pd.DataFrame(d).T\n",
    "start=time.time()\n",
    "# deviceClient.dfInstr = deviceClient.dfInstr.sample(n=150)\n",
    "ptComptage = deviceClient.modebus_map;ptComptage\n",
    "# dfInstr[deviceClient.dfInstr['addrTCP']==1].sort_values(by='intAddress')\n",
    "# deviceClient.bo_in,deviceClient.bo_out='>','>'\n",
    "# d = deviceClient.collectData(tz='UTC')\n",
    "deviceClient.insert_intodb(dumper_screenBuilding.dbParameters,'realtimedata','UTC')\n",
    "# deviceClient.checkConnection()\n",
    "# print('{:.2f} milliseconds'.format((time.time()-start)*1000))\n",
    "# pd.DataFrame(d).T"
   ]
  },
  {
   "cell_type": "markdown",
   "id": "7065bc4a-8b3e-4900-b597-8f273aa4e558",
   "metadata": {},
   "source": [
    "## low level reading"
   ]
  },
  {
   "cell_type": "code",
   "execution_count": null,
   "id": "35fc88c6-40b1-4605-9387-c87b663596ff",
   "metadata": {},
   "outputs": [],
   "source": [
    "from pymodbus.client.sync import ModbusTcpClient as ModbusClient\n",
    "conn = ModbusClient('192.168.194.152')\n",
    "conn.connect()\n",
    "regs=conn.read_holding_registers(2,2,unit=1).registers\n",
    "# struct.unpack('!i',struct.pack(\"!2H\",*regs))\n",
    "# regs\n",
    "mb_utils.quick_modebus_decoder(regs,'UINT32','>','>')"
   ]
  },
  {
   "cell_type": "markdown",
   "id": "e52f90db-e8e2-4c06-b04d-d3bcd9c065ef",
   "metadata": {},
   "source": [
    "### special makram GTC"
   ]
  },
  {
   "cell_type": "code",
   "execution_count": null,
   "id": "95ba2158-2e33-4cf5-bfaa-2902796d9f40",
   "metadata": {},
   "outputs": [],
   "source": [
    "deviceClient = dumper_screenBuilding.devices['gtc_alstom']\n",
    "print(deviceClient.modebus_map)\n",
    "regs = deviceClient.client.read_holding_registers(1052,2,unit=1).registers\n",
    "res.columns=['value','timestamp']\n",
    "makramDebug = deviceClient.modebus_map[['intAddress','type']]\n",
    "makramDebug = pd.concat([makramDebug,deviceClient.dfplc[['DESCRIPTION']]],axis=1)\n",
    "makramDebug = pd.concat([res,makramDebug],axis=1)"
   ]
  },
  {
   "cell_type": "markdown",
   "id": "e88d49da-d8fa-402b-8a79-343a06305fa0",
   "metadata": {},
   "source": [
    "## park the data"
   ]
  },
  {
   "cell_type": "markdown",
   "id": "7c04e5c1-9985-430a-8e51-60cb00326f39",
   "metadata": {},
   "source": [
    "### quick park"
   ]
  },
  {
   "cell_type": "code",
   "execution_count": null,
   "id": "ac5a9d3a-f558-464c-8d77-7bc51f0d1d00",
   "metadata": {},
   "outputs": [],
   "source": [
    "# dumperSmallPower.folderPkl = '/home/sylfen/data_ext/tmp/'\n",
    "dumperSmallPower.folderPkl = '/home/dorian/data/sylfenData/tmp/'\n",
    "dumperSmallPower.park_database()"
   ]
  },
  {
   "cell_type": "markdown",
   "id": "66dddc80-f3a1-498c-91c4-efb2eea0ef86",
   "metadata": {},
   "source": [
    "### debug parking"
   ]
  },
  {
   "cell_type": "code",
   "execution_count": null,
   "id": "3fc213a4-7de9-4200-97e1-9cf70588b8cf",
   "metadata": {},
   "outputs": [],
   "source": [
    "deviceClient = dumper_screenBuilding.devices['smartlogger']\n",
    "dfs = deviceClient.parkallfromdb()\n",
    "\n",
    "k=10\n",
    "tag = 'kVA_sys_B007'\n",
    "import pickle\n",
    "foldermin=vmucDumpingClient.folderPkl+'2021-11-23/20/'\n",
    "df=pickle.load(open(foldermin + '' + str(k) + '/' + tag + '.pkl','rb'))\n",
    "df.index=df.index.tz_convert('CET')\n",
    "df\n",
    "# t1 = pd.Timestamp('2022-01-26 10:00')\n",
    "t1 = pd.Timestamp.now(tz='CET')-pd.Timedelta(hours=1)\n",
    "t0 = t1-dt.timedelta(days=0,hours=0,minutes=50,seconds=59)\n",
    "\n",
    "#feed db with random data\n",
    "# dumper_screenBuilding.feed_db_random_data(t0,t1)\n",
    "#parkage\n",
    "df=dumper_screenBuilding.parkdatabase_daily()\n",
    "\n",
    "# quick load data parked minute check\n",
    "import pickle\n",
    "tag = 'C00000016-A007-kVA L2-JTVA'\n",
    "folderday=dumper_screenBuilding.folderPkl + '/2022-01-24/'\n",
    "dfout=pickle.load(open(folderday + tag + '.pkl','rb'))"
   ]
  },
  {
   "cell_type": "markdown",
   "id": "af6b256f-365a-48b9-a0ee-8603767b4484",
   "metadata": {},
   "source": [
    "## Static Compression"
   ]
  },
  {
   "cell_type": "code",
   "execution_count": null,
   "id": "d7df4660-6694-4dfb-af11-436180294e67",
   "metadata": {},
   "outputs": [],
   "source": [
    "# s=df.iloc[:,0]\n",
    "# s2=streaming.staticCompressionTag(s,s.std(),method='reduce')\n",
    "s=streaming.generateRampPlateau(nbpts=200)\n",
    "precs=np.logspace(-2,0,6)*5\n",
    "results = streaming.testCompareStaticCompression(s,precs)"
   ]
  },
  {
   "cell_type": "markdown",
   "id": "72832d6a-aa72-4193-9579-32993e321ccd",
   "metadata": {},
   "source": [
    "## quick reading into the big brother database"
   ]
  },
  {
   "cell_type": "code",
   "execution_count": null,
   "id": "06a63277-1450-4e35-a9ce-55b87c5a074c",
   "metadata": {},
   "outputs": [],
   "source": [
    "import psycopg2\n",
    "dbParameters={'host': 'localhost',\n",
    " 'port': '5432',\n",
    " 'dbname': 'bigbrother',\n",
    " 'user': 'postgres',\n",
    " 'password': 'sylfenbdd'}\n",
    "conn=psycopg2.connect(''.join([k + \"=\" + v + \" \" for k,v in dbParameters.items()]))\n",
    "# conn=dumper_screenBuilding.connect2db()\n",
    "# df=pd.read_sql(\"select * from realtimedata where tag~'B001.*sys-JTW' order by timestampz desc;\",conn)\n",
    "df= pd.read_sql(\"select * from realtimedata where tag~'PV.*sys-JTW' order by timestampz desc;\",conn)\n",
    "df"
   ]
  },
  {
   "cell_type": "markdown",
   "id": "c9098859-3b2f-45ba-a03e-2ac580818bd2",
   "metadata": {},
   "source": [
    "## comUtils tests"
   ]
  },
  {
   "cell_type": "markdown",
   "id": "043b83fa-bc06-45b6-b19d-c23f900d75e5",
   "metadata": {},
   "source": [
    "### setinterval start on time"
   ]
  },
  {
   "cell_type": "code",
   "execution_count": null,
   "id": "c20207f7-6b40-47be-b7e2-ea5fd9191a6d",
   "metadata": {},
   "outputs": [],
   "source": [
    "from time import sleep\n",
    "def sleepabit():\n",
    "    t0 = dt.datetime.now().astimezone()\n",
    "    print('start time task : ',t0.strftime('%H:%M:%S:%f')[:-4])\n",
    "    value =0.9+np.random.randint(0,20)/100\n",
    "    print('duration task : ',value)\n",
    "    print('')\n",
    "    sleep(value)\n",
    "\n",
    "## initialize a M:S:000 pétante ! #####\n",
    "now =dt.datetime.now().astimezone()\n",
    "time.sleep(1-now.microsecond/1000000)\n",
    "setTest=SetInterval(1,sleepabit)\n",
    "setTest.start()"
   ]
  }
 ],
 "metadata": {
  "kernelspec": {
   "display_name": "Python 3",
   "language": "python",
   "name": "python3"
  },
  "language_info": {
   "codemirror_mode": {
    "name": "ipython",
    "version": 3
   },
   "file_extension": ".py",
   "mimetype": "text/x-python",
   "name": "python",
   "nbconvert_exporter": "python",
   "pygments_lexer": "ipython3",
   "version": "3.8.10"
  }
 },
 "nbformat": 4,
 "nbformat_minor": 5
}
