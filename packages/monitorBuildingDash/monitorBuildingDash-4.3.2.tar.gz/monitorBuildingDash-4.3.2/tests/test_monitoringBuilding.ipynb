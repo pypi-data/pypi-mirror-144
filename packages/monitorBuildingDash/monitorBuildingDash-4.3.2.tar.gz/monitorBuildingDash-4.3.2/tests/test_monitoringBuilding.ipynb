{
 "cells": [
  {
   "cell_type": "code",
   "execution_count": null,
   "metadata": {
    "tags": []
   },
   "outputs": [],
   "source": [
    "import importlib,re\n",
    "import os,pandas as pd,glob,pickle\n",
    "import dorianUtils.comUtils as comUtils\n",
    "importlib.reload(comUtils)\n",
    "from dorianUtils.utilsD import Utils\n",
    "import time,datetime as dt,sys\n",
    "start=time.time()\n",
    "utils=Utils()\n",
    "import monitorBuildingDash.screenBuilding as screenBuilding\n",
    "cfg = screenBuilding.ScreenBuildingComputer()\n",
    "import plotly.express as px, plotly.graph_objects as go"
   ]
  },
  {
   "cell_type": "markdown",
   "metadata": {},
   "source": [
    "# TEST ScreenBuildingComputer functions"
   ]
  },
  {
   "cell_type": "markdown",
   "metadata": {},
   "source": [
    "## Tests load functions"
   ]
  },
  {
   "cell_type": "markdown",
   "metadata": {},
   "source": [
    "## load data "
   ]
  },
  {
   "cell_type": "code",
   "execution_count": null,
   "metadata": {
    "jupyter": {
     "source_hidden": true
    },
    "tags": []
   },
   "outputs": [],
   "source": [
    "t1 = pd.Timestamp.now(tz='CET')\n",
    "# t1 = pd.Timestamp('2022-02-22 10:01',tz='CET')\n",
    "t0 = t1-pd.Timedelta(days=5)\n",
    "tags = cfg.tag_categories['SLS niveau1 puissances']\n",
    "# df = cfg.streamer.load_tag_daily('C00000012-E001-kWh-JTWH',t0,t1,cfg.folderPkl)\n",
    "# df   = cfg._load_parked_tags(t0,t1,tags)ii\n",
    "# df   = cfg.loadtags_period(t0,t1,tags,'raw')\n",
    "df = cfg.loadtags_period(t0,t1,tags,rsMethod='meanright',rs='60s')\n",
    "df"
   ]
  },
  {
   "cell_type": "markdown",
   "metadata": {},
   "source": [
    "# Test Streamer"
   ]
  },
  {
   "cell_type": "code",
   "execution_count": null,
   "metadata": {
    "jupyter": {
     "source_hidden": true
    }
   },
   "outputs": [],
   "source": [
    "streamer=comUtils.Streamer()\n",
    "t1 = pd.Timestamp('2021-09-10 23:03',tz='CET')\n",
    "folderday = folderparked_days + streamer.to_folderday(t0)\n",
    "localGetTags = lambda x:[k.split('/')[-1].split('.pkl')[0] for k in glob.glob(folderday+x)]\n",
    "pv         = localGetTags('*PV*JTW-00*')\n",
    "sls_global = localGetTags('*[EF]001*sys-JTW*')\n",
    "tags = sls_global+pv\n",
    "# def testLoadDataFolders():\n",
    "start=time.time()\n",
    "# dfs=sbc.loadtags_minutefolder(folderminute,tags)\n",
    "# df=sbc.streaming.dumy_period([t0,t1],sbc.folderPkl,pool=True)\n",
    "# df=sbc.streaming.load_parkedtags_period(tags,[t0,t1],sbc.folderPkl,pool=False)\n",
    "# df=sbc.streaming.load_parkedtags_period(tags,[t0,t1],sbc.folderPkl,pool=True)\n",
    "\n",
    "# df=streamer.load_parkedtags_daily(tags,t0,t1,folderparked_days)\n",
    "print('{:.2f} milliseconds'.format((time.time()-start)*1000))"
   ]
  },
  {
   "cell_type": "markdown",
   "metadata": {},
   "source": [
    "# TEST DUMPER, COLLECT DATA"
   ]
  },
  {
   "cell_type": "code",
   "execution_count": null,
   "metadata": {
    "jupyter": {
     "source_hidden": true
    },
    "tags": []
   },
   "outputs": [],
   "source": [
    "dumper_screenBuilding = screenBuilding.ScreeningBuilding_dumper()"
   ]
  },
  {
   "cell_type": "code",
   "execution_count": null,
   "metadata": {
    "jupyter": {
     "source_hidden": true
    },
    "tags": []
   },
   "outputs": [],
   "source": [
    "# deviceClient = dumper_screenBuilding.devices['meteo']\n",
    "deviceClient = dumper_screenBuilding.devices['smartLogger']\n",
    "# deviceClient = dumper_screenBuilding.devices['SLS_Engie']\n",
    "# deviceClient = dumper_screenBuilding.devices['meteo']\n",
    "# deviceClient = dumper_screenBuilding.devices['gtc_alstom']\n"
   ]
  },
  {
   "cell_type": "code",
   "execution_count": null,
   "metadata": {
    "jupyter": {
     "source_hidden": true
    },
    "tags": []
   },
   "outputs": [],
   "source": [
    "start=time.time()\n",
    "import struct\n",
    "deviceClient.dfInstr\n",
    "# deviceClient.dfInstr = deviceClient.dfInstr.sample(n=150)\n",
    "# ptComptage = deviceClient.dfInstr[deviceClient.dfInstr['addrTCP']==1].sort_values(by='intAddress')\n",
    "# d = deviceClient.getPtComptageValues(1)\n",
    "# regs=conn.read_holding_registers(40560,2,unit=1).registers\n",
    "# struct.unpack('!i',struct.pack(\"!2H\",*regs))\n",
    "# struct.unpack('>i',struct.pack(\"=2H\",*regs))\n",
    "d = deviceClient.collectData()\n",
    "# deviceClient.insert_intodb(dumper_screenBuilding.dbParameters)\n",
    "# deviceClient.checkConnection()\n",
    "# print('{:.2f} milliseconds'.format((time.time()-start)*1000))\n",
    "# print(deviceClient.endpointUrl)\n",
    "res=pd.DataFrame(d).T\n",
    "res\n",
    "# res.columns=['value','heure locale']\n",
    "# res.dtypes\n",
    "# [k.strftime('%d,%m %Y %H:%M:%S') for k in res['heure locale']]\n",
    "# print(pd.Timestamp(res[1][0]).strftime('%d %b %Y -- %H:%M:%S'))"
   ]
  },
  {
   "cell_type": "markdown",
   "metadata": {},
   "source": [
    "## quick modbus reading"
   ]
  },
  {
   "cell_type": "code",
   "execution_count": null,
   "metadata": {
    "jupyter": {
     "source_hidden": true
    }
   },
   "outputs": [],
   "source": [
    "from pymodbus.client.sync import ModbusTcpClient as ModbusClient\n",
    "conn = ModbusClient('192.168.195.30')\n",
    "conn.connect()"
   ]
  },
  {
   "cell_type": "markdown",
   "metadata": {},
   "source": [
    "## quick reading into the big brother database"
   ]
  },
  {
   "cell_type": "code",
   "execution_count": null,
   "metadata": {
    "jupyter": {
     "source_hidden": true
    }
   },
   "outputs": [],
   "source": [
    "dumper_screenBuilding.dbParameters"
   ]
  },
  {
   "cell_type": "code",
   "execution_count": null,
   "metadata": {
    "jupyter": {
     "source_hidden": true
    }
   },
   "outputs": [],
   "source": [
    "import psycopg2\n",
    "dbParameters={'host': 'localhost',\n",
    " 'port': '5432',\n",
    " 'dbname': 'bigbrother',\n",
    " 'user': 'postgres',\n",
    " 'password': 'sylfenbdd'}\n",
    "conn=psycopg2.connect(''.join([k + \"=\" + v + \" \" for k,v in dbParameters.items()]))\n",
    "\n",
    "# conn=dumper_screenBuilding.connect2db()\n",
    "pd.read_sql(\"select * from realtimedata where tag~'B001.*sys-JTW' order by timestampz desc;\",conn)\n",
    "# pd.read_sql(\"select * from realtimedata where tag~'PV.*sys-JTW' order by timestampz desc;\",conn)"
   ]
  },
  {
   "cell_type": "markdown",
   "metadata": {},
   "source": [
    "## TEST writhing formula with markdown/latex/html(mathjax)\n",
    "this is the formula being used : \n",
    "$P(A \\mid B) = \\frac{P(B \\mid A)P(A)}{P(B)}$$P(A \\mid B) = \\frac{P(B \\mid A)P(A)}{P(B)}$"
   ]
  }
 ],
 "metadata": {
  "kernelspec": {
   "display_name": "Python 3",
   "language": "python",
   "name": "python3"
  },
  "language_info": {
   "codemirror_mode": {
    "name": "ipython",
    "version": 3
   },
   "file_extension": ".py",
   "mimetype": "text/x-python",
   "name": "python",
   "nbconvert_exporter": "python",
   "pygments_lexer": "ipython3",
   "version": "3.8.10"
  }
 },
 "nbformat": 4,
 "nbformat_minor": 4
}
