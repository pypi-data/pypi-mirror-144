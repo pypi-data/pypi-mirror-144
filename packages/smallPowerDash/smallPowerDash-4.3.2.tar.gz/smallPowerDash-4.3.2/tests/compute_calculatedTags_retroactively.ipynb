{
 "cells": [
  {
   "cell_type": "markdown",
   "metadata": {},
   "source": [
    "### import and functions"
   ]
  },
  {
   "cell_type": "code",
   "execution_count": null,
   "metadata": {},
   "outputs": [],
   "source": [
    "import os,sys,pickle,glob,pandas as pd,numpy as np\n",
    "import time\n",
    "import dorianUtils.comUtils as comutils\n",
    "from dorianUtils.comUtils import computetimeshow\n",
    "from scipy.signal import butter, lfilter, freqz\n",
    "import plotly.express as px\n",
    "##############\n",
    "#  FUNCTIONS  #\n",
    "##############\n",
    "def butter_lowpass_filter(data, cutoff, fs, order=5):\n",
    "    nyq = 0.5 * fs\n",
    "    normal_cutoff = cutoff / nyq\n",
    "    b, a = butter(order, normal_cutoff, btype='low', analog=False)\n",
    "    y = lfilter(b, a, data)\n",
    "    return y\n",
    "def alphaFilter(y, alpha):\n",
    "    newy=[y[0]]\n",
    "    for t in range(1,len(y)):\n",
    "        newy.append(alpha*y[t]+(1-alpha)*newy[t-1])\n",
    "    return newy\n",
    "def cutoff2alpha(cutoff,fs):\n",
    "    dt    = 1/fs\n",
    "    alpha = 2*np.pi*dt / (dt + 1 / (2 * np.pi * cutoff))\n",
    "    # alpha = dt / (dt + p1 / (2 * np.pi * cutoff))\n",
    "    return alpha\n",
    "def alpha2cutoff(alpha,dt):\n",
    "    fs = 1/dt\n",
    "    fc = alpha/(2*np.pi*dt*(1-alpha))\n",
    "    return fc\n",
    "####################\n",
    "#  INITIALIZATION  #\n",
    "####################\n",
    "if 'sylfen' in os.getenv('HOME'):\n",
    "    baseFolder = '/home/sylfen/data_ext/'\n",
    "else:\n",
    "    baseFolder='/home/dorian/data/sylfenData/'\n",
    "\n",
    "folderdata=baseFolder+'smallPower_daily/'\n",
    "import smallPowerDash.smallPower as smallPower\n",
    "cfg = smallPower.SmallPowerComputer(rebuildConf=True)"
   ]
  },
  {
   "cell_type": "markdown",
   "metadata": {},
   "source": [
    "### tags for computation and calculated tags definition"
   ]
  },
  {
   "cell_type": "code",
   "execution_count": null,
   "metadata": {},
   "outputs": [],
   "source": [
    "start=time.time()\n",
    "LISTDAYS=pd.date_range(start='2022-03-18',end='2022-03-22',tz='CET')\n",
    "# LISTDAYS=pd.date_range(start='2022-02-14',end='2022-02-15',tz='CET')\n",
    "'''format : pd.Series with name Value and timestampz as index'''\n",
    "beckhoff     = cfg.devices['beckhoff']\n",
    "TAGS_CALC = beckhoff.tags_calculated\n",
    "TAGS_FC      = pd.Series(dict((v,k) for k,v in beckhoff.tags_for_computation.iteritems()))\n",
    "MODES_HUB={\n",
    "    'SOEC':0,\n",
    "    'SOFC':1,\n",
    "    # 'BO':10,\n",
    "    # 'BF':20,\n",
    "    # 'stop':30,\n",
    "    'BO':np.nan,\n",
    "    'BF':np.nan,\n",
    "    'stop':np.nan\n",
    "}\n",
    "### initialization of TAG_BUFFER_LASTDAY_VALUE\n",
    "TAG_BUFFER_LASTDAY_VALUE =pd.Series({t:0 for t in TAGS_CALC.index})\n",
    "TAG_BUFFER_LASTDAY_VALUE['modehub']='stop'\n",
    "TAG_BUFFER_LASTDAY_VALUE.name = LISTDAYS[0]-pd.Timedelta(days=1)-pd.Timedelta(microseconds=1)\n",
    "TAG_BUFFER_LASTDAY_VALUE = pd.DataFrame(TAG_BUFFER_LASTDAY_VALUE).T\n",
    "\n",
    "start1=time.time()\n",
    "TAGS_FC"
   ]
  },
  {
   "cell_type": "markdown",
   "metadata": {},
   "source": [
    "### computation real-time"
   ]
  },
  {
   "cell_type": "code",
   "execution_count": null,
   "metadata": {},
   "outputs": [],
   "source": [
    "dumperSmallPower = smallPower.SmallPower_dumper()\n",
    "beckhoff=dumperSmallPower.devices['beckhoff']\n",
    "dumperSmallPower.local_tzname='CET'\n",
    "d= beckhoff.compute_calculated_tags()\n",
    "df = pd.DataFrame(d).T\n",
    "df.columns=['value','timestamp']\n",
    "tagnames = pd.Series(dict((v,k) for k,v in beckhoff.tags_calculated.iteritems()))\n",
    "df['description'] = df.reset_index()['index'].apply(lambda x:tagnames[x]).to_list()\n",
    "df = df.reset_index().set_index('description')[['value','timestamp','index']]\n",
    "# dumperSmallPower.insert_calctags_intodb()"
   ]
  },
  {
   "cell_type": "markdown",
   "metadata": {},
   "source": [
    "### computation of new tags "
   ]
  },
  {
   "cell_type": "code",
   "execution_count": null,
   "metadata": {
    "jupyter": {
     "source_hidden": true
    }
   },
   "outputs": [],
   "source": [
    "for d in LISTDAYS:\n",
    "    print()\n",
    "    print(d.strftime('%d %b %H:%M:%S').rjust(50))\n",
    "    # print(TAG_BUFFER_LASTDAY_VALUE.T)\n",
    "    ###########################\n",
    "    # LOAD THE DATA FOR A DAY #\n",
    "    ###########################\n",
    "    start=time.time()\n",
    "    listtags_computation=beckhoff.tags_for_computation.to_list()\n",
    "    t0 = d\n",
    "    t1 = t0+pd.Timedelta(days=1)-pd.Timedelta(microseconds=1)\n",
    "    df = cfg.loadtags_period(t0,t1,listtags_computation,rs='1s',rsMethod='forwardfill')\n",
    "    # cfg.streamer.zip_day(cfg.folderPkl+d.strftime(cfg.format_dayFolder),'smallpower',baseFolder+'smallPower_daily_zip/')\n",
    "    # dfparked = cfg.streamer.load_parkedtags_daily(t0,t1,listtags_computation,cfg.folderPkl,pool=True,rs='1s',rsMethod='forwardfill')\n",
    "    # df = dfparked.pivot(values='value',columns='tag').sort_index()\n",
    "    ##### rename df column names\n",
    "    df.columns=[TAGS_FC[k] for k in df.columns]\n",
    "    computetimeshow('loading data',start)\n",
    "    # ================================================\n",
    "    # courant en valeur absolue et convention physique\n",
    "    # ================================================\n",
    "    start=time.time()\n",
    "    dfcalc=pd.DataFrame()\n",
    "    for current_tag_name in [k for k in df.columns if 'current_stack' in k]:\n",
    "        tag_current=beckhoff.tags_for_computation[current_tag_name]\n",
    "        dfcalc[tag_current + '.HC09'] = df[current_tag_name].abs()\n",
    "        dfcalc[tag_current + '.HC13'] = -df[current_tag_name]\n",
    "\n",
    "    dfcalc['I_absolue']      = dfcalc[[k for k in dfcalc.columns if 'IT_HM05.HC09' in k]].sum(axis=1)\n",
    "    dfcalc['I_conventionel'] = dfcalc[[k for k in dfcalc.columns if 'IT_HM05.HC13' in k]].sum(axis=1)\n",
    "    computetimeshow('computing currents',start)\n",
    "\n",
    "    # ======================\n",
    "    #       modehub\n",
    "    # ======================\n",
    "    start=time.time()\n",
    "    dfmode = pd.concat([dfcalc['I_conventionel'],df['vanneBF']],axis=1)\n",
    "    dfcalc['modehub']=dfmode.apply(lambda x:beckhoff.detect_modehub(x['I_conventionel'],x['vanneBF']),axis=1)\n",
    "    computetimeshow('mode hub',start)\n",
    "\n",
    "    # ======================\n",
    "    #       fuite air\n",
    "    # ======================\n",
    "    start=time.time()\n",
    "    #--- o2 out of stack\n",
    "    dfcalc['o2_out_alim'] = dfcalc['I_conventionel'].apply(beckhoff.o2_stack_alim)\n",
    "    dfcalc['o2_out_hm05'] = df['air_out_ft']-df['air_in_ft']\n",
    "    #--- fuites\n",
    "    dffuite       = pd.concat([dfcalc[['modehub','o2_out_alim']], df[['air_in_ft','air_out_ft','n2_in_air']]],axis=1)\n",
    "    dfcalc['fuite_air']     = dffuite.apply(lambda x:beckhoff.fuites_air(x['modehub'],x['o2_out_alim'],x['air_in_ft'],x['air_out_ft'],x['n2_in_air']),axis=1)\n",
    "    dfcalc['fuite_air_gfd'] = dfcalc['fuite_air']/df['air_out_pt'].ffill().bfill()\n",
    "    computetimeshow('fuites air',start)\n",
    "    # ======================\n",
    "    #       fuite fuel\n",
    "    # ======================\n",
    "    start=time.time()\n",
    "    #--- h2 out of stack\n",
    "    dfcalc['h2_out_alim'] = dfcalc['I_conventionel'].apply(beckhoff.h2_stack_out)\n",
    "    dfcalc['h2_out_hm05'] = df['fuel_out_ft']-df['h2_in_ft']\n",
    "    #--- fuites\n",
    "    dffuite        = pd.concat([dfcalc[['modehub','h2_out_alim']], df[['h2_in_ft','fuel_out_ft','n2_in_fuel']]],axis=1)\n",
    "    dfcalc['fuite_fuel']     = dffuite.apply(lambda x:beckhoff.fuites_fuel(x['modehub'],x['h2_out_alim'],x['h2_in_ft'],x['fuel_out_ft'],x['n2_in_fuel']),axis=1)\n",
    "    dfcalc['fuite_fuel_gfd'] = dfcalc['fuite_fuel'].bfill()/df['fuel_out_pt'].ffill().bfill()\n",
    "    computetimeshow('fuites fuel',start)\n",
    "\n",
    "    def apply_df_functon(df,dfcalc,varargnames):\n",
    "        '''varargnames should have the names of the arguments '''\n",
    "        dft=df[[k for k in varargnames if k in df.columns]]\n",
    "        dfc=df[[k for k in varargnames if k in dfc.columns]]\n",
    "        df_fun=pd.concat([dft,dfc],axis=1)\n",
    "        return df_fun.apply(lambda x:beckhoff.rendement_sys(*[x[k] for k in varargnames]),axis=1)\n",
    "    # ======================\n",
    "    #   rendement systeme\n",
    "    # ======================\n",
    "    start=time.time()\n",
    "    df_rendement = pd.concat([df['power_total'],dfcalc[['modehub','h2_out_alim']]],axis=1)\n",
    "    dfcalc['rendement_sys'] = df_rendement.apply(lambda x:beckhoff.rendement_sys(x['modehub'],x['power_total'],x['h2_out_alim']),axis=1)\n",
    "    computetimeshow('rendements systeme',start)\n",
    "    # ======================\n",
    "    #   rendement gv       #\n",
    "    # ======================\n",
    "    start=time.time()\n",
    "    df_gv = df[['tt_in_gv','tt_out_gv']]\n",
    "    for gv1 in ['a','b']:\n",
    "        df_gv1 = pd.DataFrame()\n",
    "        df_gv1['power_elec_chauffe'] = df[[k for k in df.columns if 'power_gv_' + gv1 in k]].sum(axis=1)\n",
    "        df_gv1=pd.concat([df_gv1,df_gv,df[['ft_in_gv_' + gv1]]],axis=1)\n",
    "        # dfcalc.loc[:,('rendement_gv_' + gv1)] = df_gv1.apply(lambda x:beckhoff.rendement_gv(x['ft_in_gv_'+gv1],x['tt_in_gv'],x['tt_out_gv'],x['power_elec_chauffe']),axis=1)\n",
    "        dfcalc['rendement_gv_' + gv1] = df_gv1.apply(lambda x:beckhoff.rendement_gv(x['ft_in_gv_'+gv1],x['tt_in_gv'],x['tt_out_gv'],x['power_elec_chauffe']),axis=1)\n",
    "\n",
    "    computetimeshow('rendements gv',start)\n",
    "    # ============================\n",
    "    #   pertes thermiques stack\n",
    "    # ============================\n",
    "    start=time.time()\n",
    "    df_pertes_stack = pd.DataFrame()\n",
    "    df_pertes_stack['fuel_in_ft'] = df['h2_in_ft'] + df['h2_cold_loop_ft']\n",
    "    df_pertes_stack['puissance_four'] = df[['power_chauffant_'+str(k) for k in [1,2,3]]].sum(axis=1)\n",
    "    df_pertes_stack = pd.concat([df_pertes_stack,df[['air_in_tt','air_in_ft','air_stack_tt','fuel_in_tt','fuel_stack_tt']]],axis=1)\n",
    "    dfcalc['pertes_stack'] = df_pertes_stack.apply(lambda x:beckhoff.pertes_thermiques_stack(x['air_in_tt'],\n",
    "                                x['air_in_ft'],x['air_stack_tt'],x['fuel_in_tt'],x['fuel_in_ft'],x['fuel_stack_tt'],x['puissance_four']),axis=1)\n",
    "    computetimeshow('pertes thermiques stack',start)\n",
    "    # ======================\n",
    "    #   compteurs, cumul\n",
    "    # ======================\n",
    "    start=time.time()\n",
    "    # ------ tps fonctionnement T>600°C\n",
    "    tps_T600 = df['T_stacks'].apply(lambda x:1 if x>600 else 0)\n",
    "    dfcalc['tps_T600'] = TAG_BUFFER_LASTDAY_VALUE['tps_T600'][0]+tps_T600.cumsum()/3600\n",
    "\n",
    "    # ------ h2 production/SOEC\n",
    "    tps_SOEC = dfcalc['I_conventionel'].apply(lambda x:1 if x<-0.01 else 0)\n",
    "    dfcalc['tps_SOEC']          = TAG_BUFFER_LASTDAY_VALUE['tps_SOEC'][0]+tps_SOEC.cumsum()/3600\n",
    "    dfcalc['cumul_h2_produced'] = TAG_BUFFER_LASTDAY_VALUE['cumul_h2_produced'][0] + dfcalc['h2_out_hm05']*60/1000*tps_SOEC.cumsum()/3600\n",
    "    # ------ h2 consommation/SOFC\n",
    "    tps_SOFC = dfcalc['I_conventionel'].apply(lambda x:1 if x>0.01 else 0)\n",
    "    dfcalc['tps_SOFC']          = TAG_BUFFER_LASTDAY_VALUE['tps_SOFC'][0] + tps_SOFC.cumsum()/3600\n",
    "    dfcalc['cumul_h2_consumed'] = TAG_BUFFER_LASTDAY_VALUE['cumul_h2_consumed'][0] + df['h2_in_ft']*60/1000*tps_SOFC.cumsum()/3600\n",
    "    # transitions\n",
    "    transitions = pd.concat([TAG_BUFFER_LASTDAY_VALUE['modehub'],dfcalc['modehub']]).apply(lambda x:MODES_HUB[x])\n",
    "    dfcalc['nbTransitions'] = TAG_BUFFER_LASTDAY_VALUE['nbTransitions'][0] + transitions.ffill().bfill().diff().apply(lambda x:1 if x==1 else 0).cumsum()\n",
    "    computetimeshow('cumuls',start)\n",
    "\n",
    "    # ======================\n",
    "    #   check indicators\n",
    "    # def checkIndicator():\n",
    "    ### total current\n",
    "    df_verif = pd.concat([dfcalc,df],axis=1)\n",
    "    df_verif[['I_absolue']+[t for t in df_verif.columns if 'HM05.HC09' in t]]\n",
    "    df_verif[['I_conventionel']+[t for t in df_verif.columns if 'HM05.HC13' in t]]\n",
    "    ### mode hub\n",
    "    df_verif[['modehub','I_conventionel','vanneBF']]\n",
    "    ### fuites air\n",
    "    df_verif[['o2_out_alim','o2_out_hm05','I_conventionel']]\n",
    "    df_verif[['fuite_air','o2_out_alim','fuel_out_pt','fuite_air_gfd']]\n",
    "    ### fuites fuel\n",
    "    df_verif[['fuite_fuel','h2_out_alim','h2_out_hm05','fuel_out_pt','fuite_fuel_gfd']]\n",
    "\n",
    "    # ======================\n",
    "    #   apply lowpassfilter\n",
    "    # ======================\n",
    "    start=time.time()\n",
    "    filtered_tags = {\n",
    "        'fuite_air':0.001,\n",
    "        'fuite_air_gfd':0.001,\n",
    "        'fuite_fuel':0.001,\n",
    "        'fuite_fuel_gfd':0.001,\n",
    "        'rendement_sys':0.001,\n",
    "        'rendement_gv_a':0.001,\n",
    "        'rendement_gv_b':0.001,\n",
    "        'pertes_stack':0.001\n",
    "    }\n",
    "\n",
    "    start=time.time()\n",
    "    for tag,alpha in filtered_tags.items():\n",
    "        dt = 1##seconds\n",
    "        fs = 1/dt\n",
    "        cutoff = alpha2cutoff(alpha,dt)\n",
    "        period_cut=1/cutoff/60### min\n",
    "        # dfcalc[t] = butter_lowpass_filter(dfcalc[tag], cutoff, fs, order=1)\n",
    "        stag = pd.concat([TAG_BUFFER_LASTDAY_VALUE[tag],dfcalc[tag]]).ffill()\n",
    "        dfcalc[tag] = alphaFilter(stag, alpha)[1:]\n",
    "\n",
    "\n",
    "    # df_verif = pd.concat([dfcalc,df],axis=1)\n",
    "    # df_verif[['fuite_air','fuite_air_lpf','o2_out_alim','o2_out_hm05']]\n",
    "    computetimeshow('apply low pass filters',start)\n",
    "    # ======================\n",
    "    #### update the buffer for the next day\n",
    "    TAG_BUFFER_LASTDAY_VALUE = pd.DataFrame(dfcalc.iloc[-1,:]).T\n",
    "    # rename the keys of d_tags_hc\n",
    "    dfcalc.columns = [TAGS_CALC[tagvar] for tagvar in dfcalc.columns]\n",
    "    ## park the data\n",
    "    start=time.time()\n",
    "    folderday=cfg.folderPkl+cfg.streamer.to_folderday(d)\n",
    "    for tag in dfcalc.columns:\n",
    "        # print(tag)\n",
    "        dftag=dfcalc[tag]\n",
    "        dftag.name='value'\n",
    "        dftag.to_pickle(folderday + tag + '.pkl')\n",
    "    computetimeshow('parking',start)\n",
    "    computetimeshow('TOTAL',start1)"
   ]
  },
  {
   "cell_type": "markdown",
   "metadata": {},
   "source": [
    "### look at data"
   ]
  },
  {
   "cell_type": "code",
   "execution_count": null,
   "metadata": {
    "jupyter": {
     "source_hidden": true
    }
   },
   "outputs": [],
   "source": [
    "TAGS_CALC"
   ]
  },
  {
   "cell_type": "markdown",
   "metadata": {},
   "source": [
    "### fuite air "
   ]
  },
  {
   "cell_type": "code",
   "execution_count": null,
   "metadata": {
    "jupyter": {
     "source_hidden": true
    }
   },
   "outputs": [],
   "source": [
    "tags_calc  = TAGS_CALC[16:40]\n",
    "del tags_calc['tps_GN']\n",
    "# t0,t1 = LISTDAYS[0],LISTDAYS[-1]+pd.Timedelta(hours=23)\n",
    "t0,t1 = pd.Timestamp('2022-02-14',tz='CET'),pd.Timestamp('2022-02-20 23:00',tz='CET')\n",
    "# t0,t1 = pd.Timestamp('2022-03-18',tz='CET'),pd.Timestamp('2022-03-22 23:59',tz='CET')\n",
    "tags=tags_calc[['fuite_air_gfd','fuite_air','o2_out_alim','o2_out_hm05','I_conventionel']].to_list()\n",
    "tags+=['SEH01.L138_O2_FT_01.HM05','SEH1.HTBA_HEX_02_TT_01.HM05',\n",
    "       'SEH01.L118_O2_FT_01.HM05','SEH1.STB_GFD_02_PT_01.HM05','SEH1.STB_GFC_02_PT_01.HM05','SEH1.STB_TT_01.HM05']\n",
    "dff = cfg.loadtags_period(t0,t1,tags,rs='600s',rsMethod='meanright')\n",
    "# dff = dff[tags]"
   ]
  },
  {
   "cell_type": "markdown",
   "metadata": {},
   "source": [
    "### fuite fuel "
   ]
  },
  {
   "cell_type": "code",
   "execution_count": null,
   "metadata": {
    "jupyter": {
     "source_hidden": true
    }
   },
   "outputs": [],
   "source": [
    "tags_calc  = TAGS_CALC[16:40]\n",
    "del tags_calc['tps_GN']\n",
    "# t0,t1 = LISTDAYS[0],LISTDAYS[-1]+pd.Timedelta(hours=23)\n",
    "# t0,t1 = pd.Timestamp('2022-02-14',tz='CET'),pd.Timestamp('2022-02-17 00:00',tz='CET')\n",
    "t0,t1 = pd.Timestamp('2022-02-14',tz='CET'),pd.Timestamp('2022-02-20 00:00',tz='CET')\n",
    "tags=tags_calc[['fuite_fuel_gfd','fuite_fuel','h2_out_alim','h2_out_hm05','I_conventionel']].to_list()\n",
    "tags+=['SEH01.L138_O2_FT_01.HM05','SEH1.HTBA_HEX_02_TT_01.HM05',\n",
    "       'SEH01.L118_O2_FT_01.HM05','SEH1.STB_GFD_02_PT_01.HM05','SEH1.STB_GFC_02_PT_01.HM05',\n",
    "       'SEH1.STB_GFD_01_PT_01.HM05','SEH1.STB_GFC_01_PT_01.HM05',\n",
    "      ]\n",
    "dff = cfg.loadtags_period(t0,t1,tags,rs='600s',rsMethod='meanright')\n",
    "# dff = dff[tags]"
   ]
  },
  {
   "cell_type": "code",
   "execution_count": null,
   "metadata": {
    "jupyter": {
     "source_hidden": true
    }
   },
   "outputs": [],
   "source": [
    "fig = cfg.multiUnitGraphSP(dff)\n",
    "# fig = cfg.addTagEnveloppe(fig,'SEH1.STB_H2_FT.HC20',t0,t1,'600s')\n",
    "td  = {k:k+':'+v for k,v in  cfg.toogle_tag_description(dff.columns,'description').items()}\n",
    "fig = cfg.utils.customLegend(fig,td)\n",
    "import subprocess as sp\n",
    "file='tmp6.html'\n",
    "fig.write_html(file)\n",
    "sp.check_output('firefox '+file,shell=True)"
   ]
  },
  {
   "cell_type": "code",
   "execution_count": null,
   "metadata": {
    "jupyter": {
     "source_hidden": true
    }
   },
   "outputs": [],
   "source": []
  },
  {
   "cell_type": "code",
   "execution_count": null,
   "metadata": {
    "jupyter": {
     "source_hidden": true
    }
   },
   "outputs": [],
   "source": [
    "tags=tags_calc[['fuite_fuel','fuite_air','I_conventionel']].to_list()\n",
    "dff = cfg.loadtags_period(t0,t1,tags,rs='600s',rsMethod='meanright')"
   ]
  },
  {
   "cell_type": "markdown",
   "metadata": {},
   "source": [
    "### print figure for report "
   ]
  },
  {
   "cell_type": "code",
   "execution_count": null,
   "metadata": {
    "jupyter": {
     "source_hidden": true
    }
   },
   "outputs": [],
   "source": [
    "fig.update_layout(legend=dict(yanchor=\"bottom\",y=1.01,xanchor=\"left\",x=0.01),\n",
    "font_size=30,font_family=\"Calibri\")\n",
    "fig.write_image('cool.png')"
   ]
  }
 ],
 "metadata": {
  "kernelspec": {
   "display_name": "Python 3",
   "language": "python",
   "name": "python3"
  },
  "language_info": {
   "codemirror_mode": {
    "name": "ipython",
    "version": 3
   },
   "file_extension": ".py",
   "mimetype": "text/x-python",
   "name": "python",
   "nbconvert_exporter": "python",
   "pygments_lexer": "ipython3",
   "version": "3.8.5"
  }
 },
 "nbformat": 4,
 "nbformat_minor": 4
}
