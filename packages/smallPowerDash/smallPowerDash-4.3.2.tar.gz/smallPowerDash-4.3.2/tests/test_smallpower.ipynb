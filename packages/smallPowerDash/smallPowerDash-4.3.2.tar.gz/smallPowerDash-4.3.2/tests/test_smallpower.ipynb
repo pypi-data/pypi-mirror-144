{
 "cells": [
  {
   "cell_type": "code",
   "execution_count": 1,
   "metadata": {},
   "outputs": [
    {
     "name": "stdout",
     "output_type": "stream",
     "text": [
      "29 Mar 19:54:29 : plc_smallpower.pkl loaded in 1.67 ms \n",
      "---------------------------------------\n",
      "\n",
      "FINISH LOADING CONFIGURATOR\n",
      "==============================\n",
      "\n",
      "FINISH LOADING CONFIGURATOR\n",
      "==============================\n",
      "\n",
      "29 Mar 19:54:30 : smallpower_conffiles.pkl loaded in 0.75 ms \n",
      "---------------------------------------\n",
      "\n"
     ]
    }
   ],
   "source": [
    "import time,sys,os,glob,pandas as pd,numpy as np\n",
    "import smallPowerDash.smallPower as smallPower\n",
    "import plotly.graph_objects as go,plotly.express as px\n",
    "import dorianUtils.utilsD as utilsD\n",
    "import dorianUtils.comUtils as comutils\n",
    "cfg = smallPower.SmallPowerComputer(rebuildConf=False)"
   ]
  },
  {
   "cell_type": "markdown",
   "metadata": {},
   "source": [
    "## load data"
   ]
  },
  {
   "cell_type": "markdown",
   "metadata": {},
   "source": [
    "### right now"
   ]
  },
  {
   "cell_type": "code",
   "execution_count": 3,
   "metadata": {},
   "outputs": [
    {
     "data": {
      "text/plain": [
       "['SEH1.STB_GFD_01_PT_01.HM05',\n",
       " 'SEH1.STB_GFD_02_PT_01.HM05',\n",
       " 'SEH1.STB_GFD_01_TT_01.HM05',\n",
       " 'SEH1.STB_GFD_02_TT_01.HM05',\n",
       " 'SEH1.STB_GFD_00_PT_01_HC21']"
      ]
     },
     "execution_count": 3,
     "metadata": {},
     "output_type": "execute_result"
    }
   ],
   "source": [
    "tags=cfg.getTagsTU('stk_01.*et.*09')+cfg.getTagsTU('stk_01.*et.*10')+cfg.getTagsTU('stk_alim_01.*it.*hm05')\n",
    "cfg.getTagsTU('gfd')"
   ]
  },
  {
   "cell_type": "code",
   "execution_count": null,
   "metadata": {},
   "outputs": [],
   "source": [
    "start = time.time()\n",
    "t1 = pd.Timestamp.now(tz='CET')\n",
    "# t1 = pd.Timestamp('2022-03-23 15:20',tz='CET')\n",
    "t0 = t1-pd.Timedelta(minutes=20) \n",
    "# tags = cfg.getTagsTU('STG.*TT_03')\n",
    "tags = cfg.getTagsTU('gf.*PT')\n",
    "# tags+=cfg.getTagsTU('stg.*tt.*0[78]')\n",
    "#tags+=cfg.getTagsTU('gfd.*PT')\n",
    "# tags = cfg.getTagsTU('TT')\n",
    "tags\n",
    "# tags=['SEH1.STB_STK_04.ET_19.HM05']\n",
    "# dfparked = cfg.streamer.load_parkedtags_daily(t0,t1,tags,cfg.folderPkl,pool=True,rsMethod='forwardfill',rs='300s')\n",
    "# dfdb = cfg._load_database_tags(t0,t1,tags,rsMethod='raw',checkTime=False)\n",
    "# dfdb\n",
    "df = cfg.loadtags_period(t0,t1,tags,rsMethod='max',rs='1s',checkTime=False)\n",
    "print(start-time.time()) \n",
    "fig=cfg.multiUnitGraphSP(df)\n",
    "fig.show()\n",
    "print(start-time.time())\n"
   ]
  },
  {
   "cell_type": "code",
   "execution_count": null,
   "metadata": {},
   "outputs": [],
   "source": [
    "# fig.write_html('2022-03-23.html')\n",
    "fig.write_image('2022-03-23.png',width=5000)"
   ]
  },
  {
   "cell_type": "markdown",
   "metadata": {},
   "source": [
    "### in history"
   ]
  },
  {
   "cell_type": "code",
   "execution_count": null,
   "metadata": {},
   "outputs": [],
   "source": [
    "start = time.time()\n",
    "t0 = pd.Timestamp('2022-03-21 00:00',tz='CET')\n",
    "t1 = pd.Timestamp('2022-03-22 23:59',tz='CET')\n",
    "# t1 = pd.Timestamp('2022-02-25 23:59',tz='CET')\n",
    "# t1 = t0+pd.Timedelta(hours=20) \n",
    "\n",
    "# tags = cfg.getTagsTU('STG.*TT_03')\n",
    "# tags = cfg.getTagsTU('ET_03')\n",
    "tags = cfg.getTagsTU('gfd.*PT')+cfg.getTagsTU('alim.*it.*hm05$')\n",
    "# tags=[tags[0]]\n",
    "# dfs=[]\n",
    "# for tag in tags:\n",
    "#     df = cfg.streamer.load_tag_daily(t0,t1,tag,cfg.folderPkl,rsMethod='raw',rs='3600s',timezone='CET',showDay=True)\n",
    "#     df.columns=[tag,'tag']\n",
    "#     dfs.append(df)\n",
    "# df = cfg.streamer.load_parkedtags_daily(t0,t1,tags,cfg.folderPkl,pool=False,rsMethod='meanright',rs='600s')\n",
    "df = cfg.loadtags_period(t0,t1,tags,rsMethod='meanright',rs='3600s',checkTime=True)"
   ]
  },
  {
   "cell_type": "code",
   "execution_count": null,
   "metadata": {},
   "outputs": [],
   "source": [
    "# df2=df.resample('1H').mean()\n",
    "# dft=pd.concat(dfs)\n",
    "df\n",
    "# dfs\n",
    "# dft."
   ]
  },
  {
   "cell_type": "code",
   "execution_count": null,
   "metadata": {},
   "outputs": [],
   "source": [
    "cfg.multiUnitGraphSP(df).show()"
   ]
  },
  {
   "cell_type": "markdown",
   "metadata": {},
   "source": [
    "### raw data"
   ]
  },
  {
   "cell_type": "code",
   "execution_count": 3,
   "metadata": {
    "tags": []
   },
   "outputs": [
    {
     "name": "stdout",
     "output_type": "stream",
     "text": [
      "0.0030183792114257812\n"
     ]
    },
    {
     "data": {
      "text/plain": [
       "timestampz\n",
       "2022-03-29 18:45:35.046016+00:00    506.400024\n",
       "2022-03-29 18:45:35.141890+00:00    506.400024\n",
       "2022-03-29 18:45:35.241927+00:00    506.400024\n",
       "2022-03-29 18:45:35.340311+00:00    506.400024\n",
       "2022-03-29 18:45:35.439639+00:00    506.400024\n",
       "                                       ...    \n",
       "2022-03-29 18:45:59.543419+00:00    506.299988\n",
       "2022-03-29 18:45:59.640784+00:00    506.299988\n",
       "2022-03-29 18:45:59.740575+00:00    506.299988\n",
       "2022-03-29 18:45:59.840829+00:00    506.299988\n",
       "2022-03-29 18:45:59.940792+00:00    506.299988\n",
       "Name: value, Length: 241, dtype: float64"
      ]
     },
     "execution_count": 3,
     "metadata": {},
     "output_type": "execute_result"
    }
   ],
   "source": [
    "# cfg.folderPkl='/home/sylfen/data_ext/smallpower_daily_back/'\n",
    "# cfg.folderPkl='/home/sylfen/data_ext/smallPower_daily/'\n",
    "cfg.folderPkl='/home/dorian/data/sylfenData/smallPower_daily/'\n",
    "# cfg.folderPkl='/home/dorian/data/sylfenData/smallpower_daily_back/'\n",
    "start = time.time()\n",
    "tags = cfg.getTagsTU('gfd')\n",
    "# tags = cfg.getTagsTU('ECV')\n",
    "list_daysfiles=glob.glob(cfg.folderPkl+'/*2022-03-29*')\n",
    "# list_daysfiles.sort()\n",
    "# tags=['SEH1.STB_STK_04.ET_19.HM05']\n",
    "df  = pd.read_pickle(list_daysfiles[0]+'/'+tags[2]+'.pkl')\n",
    "print(time.time()-start)\n",
    "df\n",
    "# cfg.folderPkl\n",
    "# go.Figure(go.Scatter(x=df.index,y=df.value,mode='lines+markers')).show()"
   ]
  },
  {
   "cell_type": "code",
   "execution_count": null,
   "metadata": {},
   "outputs": [],
   "source": [
    "help(cfg.streamer.load_tag_daily)"
   ]
  },
  {
   "cell_type": "markdown",
   "metadata": {},
   "source": [
    "#### quick generate xlsx for Marc/Nicolas/Guillaume..."
   ]
  },
  {
   "cell_type": "code",
   "execution_count": null,
   "metadata": {},
   "outputs": [],
   "source": [
    "df.index=[k.isoformat() for k in df.index]\n",
    "df.to_excel('../data/data_2022_fev.xlsx')"
   ]
  }
 ],
 "metadata": {
  "kernelspec": {
   "display_name": "Python 3",
   "language": "python",
   "name": "python3"
  },
  "language_info": {
   "codemirror_mode": {
    "name": "ipython",
    "version": 3
   },
   "file_extension": ".py",
   "mimetype": "text/x-python",
   "name": "python",
   "nbconvert_exporter": "python",
   "pygments_lexer": "ipython3",
   "version": "3.8.10"
  }
 },
 "nbformat": 4,
 "nbformat_minor": 4
}
