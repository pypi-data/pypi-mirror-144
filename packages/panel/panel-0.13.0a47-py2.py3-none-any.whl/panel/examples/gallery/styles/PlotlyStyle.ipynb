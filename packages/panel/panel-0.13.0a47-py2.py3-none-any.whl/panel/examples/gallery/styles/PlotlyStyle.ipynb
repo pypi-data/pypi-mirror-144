{
 "cells": [
  {
   "cell_type": "code",
   "execution_count": null,
   "id": "1e346904-0807-48a0-84f4-1a1fda1fd4a0",
   "metadata": {},
   "outputs": [],
   "source": [
    "import pandas as pd\n",
    "import panel as pn\n",
    "\n",
    "import plotly.express as px\n",
    "import plotly.io as pio\n",
    "import plotly.graph_objects as go\n",
    "\n",
    "pn.extension(\"plotly\", sizing_mode=\"stretch_width\")"
   ]
  },
  {
   "cell_type": "markdown",
   "id": "d2c9f5b8-5b04-4bca-a9e5-3374d06fc224",
   "metadata": {},
   "source": [
    "## Styling Plotly for Panel\n",
    "\n",
    "In this example we will show how to style Plotly plots with Panel for both the `default` and the `dark` theme.\n",
    "\n",
    "![PlotlyStyle.gif](https://assets.holoviews.org/panel/thumbnails/gallery/styles/plotly-styles.gif)"
   ]
  },
  {
   "cell_type": "markdown",
   "id": "50675675-737a-4597-a940-9ac3713bde69",
   "metadata": {},
   "source": [
    "## Get or set the theme\n",
    "\n",
    "When we use the Fast templates the `theme` can be found in the `session_args`."
   ]
  },
  {
   "cell_type": "code",
   "execution_count": null,
   "id": "386dd733-47d6-4ede-8f2d-b3c1491eaf14",
   "metadata": {},
   "outputs": [],
   "source": [
    "def get_theme():\n",
    "    return pn.state.session_args.get(\"theme\", [b'default'])[0].decode()"
   ]
  },
  {
   "cell_type": "code",
   "execution_count": null,
   "id": "09b22f84-8522-4e26-a042-2a93e99cdb30",
   "metadata": {},
   "outputs": [],
   "source": [
    "theme=get_theme()\n",
    "theme"
   ]
  },
  {
   "cell_type": "markdown",
   "id": "cc70e271-f0d2-42cb-a781-b007c8bf87eb",
   "metadata": {},
   "source": [
    "## Select a nice accent color\n",
    "\n",
    "Below we create some functionality to *cycle through* a list of nice accent colors. You would probably just set the `accent_color` and `color` for your specific use case."
   ]
  },
  {
   "cell_type": "code",
   "execution_count": null,
   "id": "708ead12-d5f3-42d4-a3dc-0e0efc2dfc49",
   "metadata": {},
   "outputs": [],
   "source": [
    "nice_accent_colors = [\n",
    "    (\"#00A170\", \"white\"), # Mint\n",
    "    (\"#DAA520\", \"white\"), # Golden Rod\n",
    "    (\"#F08080\", \"white\"), # Light Coral\n",
    "    (\"#4099da\", \"white\"), # Summery Sky\n",
    "    (\"#2F4F4F\", \"white\"), # Dark Slate Grey\n",
    "    (\"#A01346\", \"white\"), # Fast\n",
    "]"
   ]
  },
  {
   "cell_type": "code",
   "execution_count": null,
   "id": "6de7783e-48a4-4101-8644-1301739023f7",
   "metadata": {},
   "outputs": [],
   "source": [
    "def get_nice_accent_color():\n",
    "    \"\"\"Returns the 'next' nice accent color\"\"\"\n",
    "    if not \"color_index\" in pn.state.cache:\n",
    "        pn.state.cache[\"color_index\"]=0\n",
    "    elif pn.state.cache[\"color_index\"]==len(nice_accent_colors)-1:\n",
    "        pn.state.cache[\"color_index\"]=0\n",
    "    else:\n",
    "        pn.state.cache[\"color_index\"]+=1\n",
    "    return nice_accent_colors[pn.state.cache[\"color_index\"]]"
   ]
  },
  {
   "cell_type": "code",
   "execution_count": null,
   "id": "e667c6b1-0241-4c4b-a8cc-68eba61cc743",
   "metadata": {},
   "outputs": [],
   "source": [
    "accent_color, color = get_nice_accent_color()\n",
    "pn.pane.Markdown(f\"# Color: {accent_color}\", background=accent_color, height=70, margin=0, style={\"color\": color, \"padding\": \"10px\"})"
   ]
  },
  {
   "cell_type": "markdown",
   "id": "0c3905bd-5d10-4ecf-a094-3c8b89ccba3e",
   "metadata": {},
   "source": [
    "## Plotly\n",
    "\n",
    "Plotly provides a list of built in templates in `plotly.io.templates`. See the [Plotly Templates Guide](https://plotly.com/python/templates/).\n",
    "\n",
    "Let's define a [`Select`](https://panel.holoviz.org/reference/widgets/Select.html) widget to explore the templates. We will set the default value to `plotly` or `plotly_dark` depending on the theme."
   ]
  },
  {
   "cell_type": "code",
   "execution_count": null,
   "id": "34c14bb7-77fd-4f49-a667-5598b8846f75",
   "metadata": {},
   "outputs": [],
   "source": [
    "plotly_template = pn.widgets.Select(options=sorted(pio.templates))"
   ]
  },
  {
   "cell_type": "code",
   "execution_count": null,
   "id": "86bbab1f-072d-4b73-a0d7-7b437577bedb",
   "metadata": {},
   "outputs": [],
   "source": [
    "if theme==\"dark\":\n",
    "    plotly_template.value=\"plotly_dark\"\n",
    "else:\n",
    "    plotly_template.value=\"plotly\""
   ]
  },
  {
   "cell_type": "markdown",
   "id": "b1cd377b-757d-4f51-875c-52292c15a4a9",
   "metadata": {},
   "source": [
    "## Plotly Express\n",
    "\n",
    "Plotly Express provides a `template` argument. Let's try to use it."
   ]
  },
  {
   "cell_type": "code",
   "execution_count": null,
   "id": "9b9c8662-e87e-46d0-acc1-7122788922bd",
   "metadata": {},
   "outputs": [],
   "source": [
    "data = pd.DataFrame(\n",
    "    [\n",
    "        (\"Monday\", 7),\n",
    "        (\"Tuesday\", 4),\n",
    "        (\"Wednesday\", 9),\n",
    "        (\"Thursday\", 4),\n",
    "        (\"Friday\", 4),\n",
    "        (\"Saturday\", 4),\n",
    "        (\"Sunay\", 4),\n",
    "    ],\n",
    "    columns=[\"Day\", \"Orders\"],\n",
    ")"
   ]
  },
  {
   "cell_type": "code",
   "execution_count": null,
   "id": "fe090498-7d1c-49bd-835b-dcec40cd2ccb",
   "metadata": {},
   "outputs": [],
   "source": [
    "def get_express_plot(template=plotly_template.value, accent_color=accent_color):\n",
    "    fig = px.line(\n",
    "        data,\n",
    "        x=\"Day\",\n",
    "        y=\"Orders\",\n",
    "        template=template,\n",
    "        color_discrete_sequence=(accent_color,),\n",
    "        title=f\"Orders: '{template}' theme\"\n",
    "    )\n",
    "    fig.update_traces(mode=\"lines+markers\", marker=dict(size=10), line=dict(width=4))\n",
    "    fig.layout.autosize = True\n",
    "    return fig"
   ]
  },
  {
   "cell_type": "markdown",
   "id": "6605b49e-dd94-4046-997e-47414121b3a6",
   "metadata": {},
   "source": [
    "Let's [bind](https://panel.holoviz.org/user_guide/APIs.html#reactive-functions) `get_express_plot` to the `plotly_template` widget and lay out the two in a `Column`."
   ]
  },
  {
   "cell_type": "code",
   "execution_count": null,
   "id": "75772f01-1f17-4750-b044-159b4bd7654f",
   "metadata": {},
   "outputs": [],
   "source": [
    "get_express_plot=pn.bind(get_express_plot, template=plotly_template)"
   ]
  },
  {
   "cell_type": "code",
   "execution_count": null,
   "id": "500676a8-5a39-4ce3-84eb-b6e4ad315d6c",
   "metadata": {},
   "outputs": [],
   "source": [
    "express_plot=pn.pane.panel(get_express_plot, config={\"responsive\": True}, sizing_mode=\"stretch_both\", name=\"EXPRESS\")"
   ]
  },
  {
   "cell_type": "code",
   "execution_count": null,
   "id": "d5255c10-b35f-41bb-a8ab-ff0da3b6ebbe",
   "metadata": {},
   "outputs": [],
   "source": [
    "pn.Column(plotly_template, express_plot, sizing_mode=\"stretch_both\")"
   ]
  },
  {
   "cell_type": "markdown",
   "id": "90dc4750-457e-42cd-8852-5d4be1d35391",
   "metadata": {},
   "source": [
    "## Plotly Graph Objects Figure\n",
    "\n",
    "You can set the theme of a Plotly Graph Objects Figure via the `update_layout` method."
   ]
  },
  {
   "cell_type": "code",
   "execution_count": null,
   "id": "d9be2f55-6c8d-485a-84d9-320e0afdd728",
   "metadata": {},
   "outputs": [],
   "source": [
    "z_data = pd.read_csv(\"https://raw.githubusercontent.com/plotly/datasets/master/api_docs/mt_bruno_elevation.csv\")"
   ]
  },
  {
   "cell_type": "code",
   "execution_count": null,
   "id": "400980ac-c9d2-4e30-984c-b47909c25636",
   "metadata": {},
   "outputs": [],
   "source": [
    "def get_go_plot(template=plotly_template.value, accent_color=accent_color):\n",
    "    figure = go.Figure(\n",
    "        data=go.Surface(z=z_data.values),\n",
    "        layout=go.Layout(\n",
    "            title=\"Mt Bruno Elevation\",\n",
    "        ))\n",
    "    figure.layout.autosize = True\n",
    "    figure.update_layout(template=template, title=\"Mt Bruno Elevation: '%s' theme\" % template)\n",
    "    return figure"
   ]
  },
  {
   "cell_type": "markdown",
   "id": "e8a9d618-3289-419b-85b6-ba0d4837eb63",
   "metadata": {},
   "source": [
    "Letss [bind](https://panel.holoviz.org/user_guide/APIs.html#reactive-functions) `get_go_plot` to the `plotly_template` widget and lay everything using `Tabs`and `Column`."
   ]
  },
  {
   "cell_type": "code",
   "execution_count": null,
   "id": "a66d4d77-6cf3-4b08-bc58-7735b83529e4",
   "metadata": {},
   "outputs": [],
   "source": [
    "get_go_plot=pn.bind(get_go_plot, template=plotly_template)"
   ]
  },
  {
   "cell_type": "code",
   "execution_count": null,
   "id": "ceaa4b31-2b64-40d0-a23a-1a0ca5a9e939",
   "metadata": {},
   "outputs": [],
   "source": [
    "go_plot=pn.pane.panel(get_go_plot, config={\"responsive\": True}, sizing_mode=\"stretch_both\", name=\"GRAPH OBJECTS\")"
   ]
  },
  {
   "cell_type": "code",
   "execution_count": null,
   "id": "8694a54b-f29e-415b-b237-5607a2485048",
   "metadata": {},
   "outputs": [],
   "source": [
    "pn.Column(plotly_template, go_plot, min_height=600)"
   ]
  },
  {
   "cell_type": "markdown",
   "id": "7df66da6-09a1-455d-9cce-6eaa74df24b0",
   "metadata": {},
   "source": [
    "## Wrap it up in a nice template\n",
    "\n",
    "Here we use the [`FastGridTemplate`](https://panel.holoviz.org/reference/templates/FastListTemplate.html#templates-gallery-fastgridtemplate)"
   ]
  },
  {
   "cell_type": "code",
   "execution_count": null,
   "id": "ff611094-913f-497f-a537-5c54dc8eb1a5",
   "metadata": {},
   "outputs": [],
   "source": [
    "template = pn.template.FastGridTemplate(\n",
    "    site=\"Panel\",\n",
    "    title=\"Styling Plotly\",\n",
    "    sidebar=[plotly_template],\n",
    "    accent_base_color=accent_color,\n",
    "    header_background=accent_color,\n",
    "    header_color=color,\n",
    "    row_height=70, \n",
    "    save_layout=True, prevent_collision=True,\n",
    ")"
   ]
  },
  {
   "cell_type": "code",
   "execution_count": null,
   "id": "9b8ccb8a-15ce-45f7-9ff0-3ee2ed9eb8d4",
   "metadata": {},
   "outputs": [],
   "source": [
    "template.main[0:1,:]=plotly_template\n",
    "template.main[1:10,0:6]=express_plot\n",
    "template.main[1:10,6:12]=go_plot"
   ]
  },
  {
   "cell_type": "code",
   "execution_count": null,
   "id": "9f34b2df-572a-43ef-8d4b-d820ec208859",
   "metadata": {},
   "outputs": [],
   "source": [
    "template.servable();"
   ]
  },
  {
   "cell_type": "markdown",
   "id": "20242cb2-9c2f-44a3-bc91-523044bff776",
   "metadata": {},
   "source": [
    "You can serve the app via `panel serve PlotlyStyle.ipynb` and find it at `http://localhost:5006/PlotlyStyle`. You should add the `--autoreload` flag while developing for *hot reloading*."
   ]
  }
 ],
 "metadata": {
  "kernelspec": {
   "display_name": "Python 3 (ipykernel)",
   "language": "python",
   "name": "python3"
  },
  "language_info": {
   "codemirror_mode": {
    "name": "ipython",
    "version": 3
   },
   "file_extension": ".py",
   "mimetype": "text/x-python",
   "name": "python",
   "nbconvert_exporter": "python",
   "pygments_lexer": "ipython3",
   "version": "3.7.10"
  }
 },
 "nbformat": 4,
 "nbformat_minor": 5
}
