{
 "cells": [
  {
   "cell_type": "code",
   "execution_count": null,
   "id": "1e346904-0807-48a0-84f4-1a1fda1fd4a0",
   "metadata": {},
   "outputs": [],
   "source": [
    "import matplotlib.pyplot as plt\n",
    "import numpy as np\n",
    "from matplotlib import cm\n",
    "from matplotlib.figure import Figure\n",
    "import panel as pn\n",
    "\n",
    "pn.extension(sizing_mode=\"stretch_width\", template=\"fast\")"
   ]
  },
  {
   "cell_type": "markdown",
   "id": "d2c9f5b8-5b04-4bca-a9e5-3374d06fc224",
   "metadata": {},
   "source": [
    "## Styling Matplotlib for Panel\n",
    "\n",
    "In this example we will show how to style Matplotlib charts with Panel for both the `default` and the `dark` theme.\n",
    "\n",
    "![MatplotlibStyle.gif](https://assets.holoviews.org/panel/thumbnails/gallery/styles/matplotlib-styles.gif)"
   ]
  },
  {
   "cell_type": "markdown",
   "id": "50675675-737a-4597-a940-9ac3713bde69",
   "metadata": {},
   "source": [
    "## Get or set the theme\n",
    "\n",
    "When we use the Fast templates the `theme` can be found in the `session_args`."
   ]
  },
  {
   "cell_type": "code",
   "execution_count": null,
   "id": "386dd733-47d6-4ede-8f2d-b3c1491eaf14",
   "metadata": {},
   "outputs": [],
   "source": [
    "def get_theme():\n",
    "    return pn.state.session_args.get(\"theme\", [b'default'])[0].decode()"
   ]
  },
  {
   "cell_type": "code",
   "execution_count": null,
   "id": "09b22f84-8522-4e26-a042-2a93e99cdb30",
   "metadata": {},
   "outputs": [],
   "source": [
    "theme=get_theme()\n",
    "theme"
   ]
  },
  {
   "cell_type": "markdown",
   "id": "cc70e271-f0d2-42cb-a781-b007c8bf87eb",
   "metadata": {},
   "source": [
    "## Select a nice accent color\n",
    "\n",
    "Below we create some functionality to *cycle through* a list of nice accent colors. You would probably just set the `accent_color` and `color` for your specific use case."
   ]
  },
  {
   "cell_type": "code",
   "execution_count": null,
   "id": "708ead12-d5f3-42d4-a3dc-0e0efc2dfc49",
   "metadata": {},
   "outputs": [],
   "source": [
    "nice_accent_colors = [\n",
    "    (\"#00A170\", \"white\"), # Mint\n",
    "    (\"#DAA520\", \"white\"), # Golden Rod\n",
    "    (\"#F08080\", \"white\"), # Light Coral\n",
    "    (\"#4099da\", \"white\"), # Summery Sky\n",
    "    (\"#2F4F4F\", \"white\"), # Dark Slate Grey\n",
    "    (\"#A01346\", \"white\"), # Fast\n",
    "]"
   ]
  },
  {
   "cell_type": "code",
   "execution_count": null,
   "id": "6de7783e-48a4-4101-8644-1301739023f7",
   "metadata": {},
   "outputs": [],
   "source": [
    "def get_nice_accent_color():\n",
    "    \"\"\"Returns the 'next' nice accent color\"\"\"\n",
    "    if not \"color_index\" in pn.state.cache:\n",
    "        pn.state.cache[\"color_index\"]=0\n",
    "    elif pn.state.cache[\"color_index\"]==len(nice_accent_colors)-1:\n",
    "        pn.state.cache[\"color_index\"]=0\n",
    "    else:\n",
    "        pn.state.cache[\"color_index\"]+=1\n",
    "    return nice_accent_colors[pn.state.cache[\"color_index\"]]"
   ]
  },
  {
   "cell_type": "code",
   "execution_count": null,
   "id": "e667c6b1-0241-4c4b-a8cc-68eba61cc743",
   "metadata": {},
   "outputs": [],
   "source": [
    "accent_color, color = get_nice_accent_color()\n",
    "pn.pane.Markdown(f\"# Color: {accent_color}\", background=accent_color, height=70, margin=0, style={\"color\": color, \"padding\": \"10px\"})"
   ]
  },
  {
   "cell_type": "markdown",
   "id": "b1cd377b-757d-4f51-875c-52292c15a4a9",
   "metadata": {},
   "source": [
    "## Matplotlib\n",
    "\n",
    "There are nearly 30 builtin styles to matplotlib that can be activated with the `plt.style.use` function. The style names are available in the `plt.style.available` list.\n",
    "\n",
    "Let's define a [`Select`](https://panel.holoviz.org/reference/widgets/Select.html) widget to explore the templates."
   ]
  },
  {
   "cell_type": "code",
   "execution_count": null,
   "id": "fe090498-7d1c-49bd-835b-dcec40cd2ccb",
   "metadata": {},
   "outputs": [],
   "source": [
    "style=pn.widgets.Select(options=[style for style in sorted(plt.style.available) if not style.startswith(\"_\")])"
   ]
  },
  {
   "cell_type": "markdown",
   "id": "d6327887-119f-4501-b13d-a8cc890cd601",
   "metadata": {},
   "source": [
    "If the theme is `dark` we will use the `dark_background` style as the default value."
   ]
  },
  {
   "cell_type": "code",
   "execution_count": null,
   "id": "21cb37a9-68ad-4e89-a717-a10aaa9c2b2d",
   "metadata": {},
   "outputs": [],
   "source": [
    "if theme==\"dark\":\n",
    "    style.value=\"dark_background\""
   ]
  },
  {
   "cell_type": "markdown",
   "id": "35ead006-8222-4967-a6a8-1de5c1b83216",
   "metadata": {},
   "source": [
    "Lets define a plot"
   ]
  },
  {
   "cell_type": "code",
   "execution_count": null,
   "id": "94acee7f-433d-4f8e-b9b9-9920ff56de4c",
   "metadata": {},
   "outputs": [],
   "source": [
    "x = np.arange(-2, 8, .1)\n",
    "y = .1 * x ** 3 - x ** 2 + 3 * x + 2\n",
    "\n",
    "def get_plot(theme=\"default\", accent_color=accent_color, style=style.value):\n",
    "    plt.style.use(\"default\") # Resets to default style. Just in case it was styled to something non-default somewhere else in your app\n",
    "    plt.style.use(style) # changes to the specified style\n",
    "    fig0 = Figure(figsize=(12, 6))\n",
    "    ax0 = fig0.subplots()\n",
    "    ax0.plot(x, y, linewidth=10.0, color=accent_color)\n",
    "    ax0.set_title(f'Matplotlib Style: {style}');\n",
    "    plt.style.use(\"default\") # Resets to default style. Do this if you are styling matplotlib in multiple places in your app.\n",
    "    return fig0"
   ]
  },
  {
   "cell_type": "markdown",
   "id": "fc96b51b-2382-4063-9036-c27623cee8e0",
   "metadata": {},
   "source": [
    "Lets [bind](https://panel.holoviz.org/user_guide/APIs.html#reactive-functions) `get_plot` to the `style` widet and lay out the two in a `Column`."
   ]
  },
  {
   "cell_type": "code",
   "execution_count": null,
   "id": "75772f01-1f17-4750-b044-159b4bd7654f",
   "metadata": {},
   "outputs": [],
   "source": [
    "get_plot=pn.bind(get_plot, style=style)\n",
    "matplotlib_component = pn.Column(style,pn.panel(get_plot, height=500, sizing_mode=\"scale_width\"))\n",
    "matplotlib_component.servable()"
   ]
  },
  {
   "cell_type": "markdown",
   "id": "e142c0f1-a9fc-4a76-ba9f-dd167314d19c",
   "metadata": {},
   "source": [
    "For more check out the [Matplotlib style sheets reference](https://matplotlib.org/stable/gallery/style_sheets/style_sheets_reference.html) and the alternative themes [dracula theme](https://draculatheme.com/matplotlib) and [gadfly](https://towardsdatascience.com/a-new-plot-theme-for-matplotlib-gadfly-2cffc745ff84)."
   ]
  },
  {
   "cell_type": "markdown",
   "id": "7df66da6-09a1-455d-9cce-6eaa74df24b0",
   "metadata": {},
   "source": [
    "## Style the app template"
   ]
  },
  {
   "cell_type": "code",
   "execution_count": null,
   "id": "7511371b-13d6-4964-aed5-6209c8b5cd80",
   "metadata": {},
   "outputs": [],
   "source": [
    "pn.state.template.param.update(accent_base_color=accent_color, header_background=accent_color)"
   ]
  },
  {
   "cell_type": "markdown",
   "id": "20242cb2-9c2f-44a3-bc91-523044bff776",
   "metadata": {},
   "source": [
    "You can serve the app via `panel serve MatplotlibStyle.ipynb` and find it at `http://localhost:5006/MatplotlibStyle`. You should add the `--autoreload` flag while developing for *hot reloading*."
   ]
  }
 ],
 "metadata": {
  "kernelspec": {
   "display_name": "Python 3 (ipykernel)",
   "language": "python",
   "name": "python3"
  },
  "language_info": {
   "codemirror_mode": {
    "name": "ipython",
    "version": 3
   },
   "file_extension": ".py",
   "mimetype": "text/x-python",
   "name": "python",
   "nbconvert_exporter": "python",
   "pygments_lexer": "ipython3",
   "version": "3.7.10"
  }
 },
 "nbformat": 4,
 "nbformat_minor": 5
}
