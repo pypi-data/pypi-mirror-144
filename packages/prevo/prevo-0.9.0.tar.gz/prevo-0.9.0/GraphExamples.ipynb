{
 "cells": [
  {
   "cell_type": "code",
   "execution_count": 1,
   "metadata": {},
   "outputs": [],
   "source": [
    "from random import random\n",
    "from queue import Queue\n",
    "from prevo.misc import PeriodicThreadedSystem\n",
    "from prevo.plot import OscilloGraph, NumericalGraph\n",
    "import oclock\n",
    "%matplotlib qt5"
   ]
  },
  {
   "cell_type": "markdown",
   "metadata": {},
   "source": [
    "# Dummy sensors"
   ]
  },
  {
   "cell_type": "code",
   "execution_count": 2,
   "metadata": {},
   "outputs": [],
   "source": [
    "class ManipBase(PeriodicThreadedSystem):\n",
    "    \n",
    "    def __init__(self, interval=0.1):\n",
    "        super().__init__(interval=interval, precise=False)\n",
    "        self.queue = Queue()\n",
    "        \n",
    "    def get_values(self):\n",
    "        \"\"\"Define in subclasses\"\"\"\n",
    "        pass\n",
    "        \n",
    "    def _update(self):\n",
    "        with oclock.measure_time() as data:\n",
    "            values = self._get_values()\n",
    "        data['values'] = values\n",
    "        data['name'] = self.name\n",
    "        self.queue.put(data)"
   ]
  },
  {
   "cell_type": "code",
   "execution_count": 3,
   "metadata": {},
   "outputs": [],
   "source": [
    "class Manip1(ManipBase):\n",
    "    \n",
    "    name = 'A'\n",
    "    data_types = ('P (Pa)', 'T (°C)', 'P (Pa)')\n",
    "    \n",
    "    def _get_values(self):\n",
    "        val1 = random()\n",
    "        val2 = 25 + 2 * random()\n",
    "        val3 = random()\n",
    "        return val1, val2, val3\n",
    "        \n",
    "        \n",
    "class Manip2(ManipBase):\n",
    "    \n",
    "    name = 'B'\n",
    "    data_types = ('T (°C)', 'valve')\n",
    "    \n",
    "    def _get_values(self):\n",
    "        val1 = 20 + random()\n",
    "        val2 = int(random() * 100)\n",
    "        return val1, val2"
   ]
  },
  {
   "cell_type": "code",
   "execution_count": 4,
   "metadata": {},
   "outputs": [],
   "source": [
    "data_types = {'A': Manip1.data_types,\n",
    "              'B': Manip2.data_types}\n",
    "\n",
    "data_ranges = {'P (Pa)': (0, 1),\n",
    "               'T (°C)': (20, 30),\n",
    "               'valve': (0, 100)}"
   ]
  },
  {
   "cell_type": "code",
   "execution_count": 5,
   "metadata": {},
   "outputs": [],
   "source": [
    "manip1 = Manip1(interval=0.02)\n",
    "manip1.start()\n",
    "\n",
    "manip2 = Manip2(interval=0.1)\n",
    "manip2.start()"
   ]
  },
  {
   "cell_type": "code",
   "execution_count": 6,
   "metadata": {},
   "outputs": [],
   "source": [
    "colors = {'fig': 'lightgrey',  # set color of figure background around axes\n",
    "          'B': ('k', 'b')}      # set color of curves of the two channels of sensor B"
   ]
  },
  {
   "cell_type": "markdown",
   "metadata": {},
   "source": [
    "# Regular numerical plot"
   ]
  },
  {
   "cell_type": "code",
   "execution_count": null,
   "metadata": {},
   "outputs": [],
   "source": [
    "numplot = NumericalGraph(names=('A', 'B'),\n",
    "                         data_types=data_types,\n",
    "                         linestyle='.')\n",
    "\n",
    "numplot.run(q_plot={'A': manip1.queue,\n",
    "                    'B': manip2.queue},\n",
    "            dt_graph=0.2)"
   ]
  },
  {
   "cell_type": "markdown",
   "metadata": {},
   "source": [
    "# Oscilloscope-like graph"
   ]
  },
  {
   "cell_type": "code",
   "execution_count": null,
   "metadata": {},
   "outputs": [],
   "source": [
    "oscillo = OscilloGraph(names=('A', 'B'),\n",
    "                       data_types=data_types,\n",
    "                       data_ranges=data_ranges,\n",
    "                       window_width=10,\n",
    "                       colors=colors,\n",
    "                       linestyle='.-')\n",
    "\n",
    "oscillo.run(q_plot={'A': manip1.queue, 'B': manip2.queue}, dt_graph=0.02)"
   ]
  },
  {
   "cell_type": "markdown",
   "metadata": {},
   "source": [
    "# Stop dummy sensors"
   ]
  },
  {
   "cell_type": "code",
   "execution_count": null,
   "metadata": {},
   "outputs": [],
   "source": [
    "manip1.stop()\n",
    "manip2.stop()"
   ]
  }
 ],
 "metadata": {
  "kernelspec": {
   "display_name": "Python 3",
   "language": "python",
   "name": "python3"
  },
  "language_info": {
   "codemirror_mode": {
    "name": "ipython",
    "version": 3
   },
   "file_extension": ".py",
   "mimetype": "text/x-python",
   "name": "python",
   "nbconvert_exporter": "python",
   "pygments_lexer": "ipython3",
   "version": "3.8.5"
  }
 },
 "nbformat": 4,
 "nbformat_minor": 4
}
