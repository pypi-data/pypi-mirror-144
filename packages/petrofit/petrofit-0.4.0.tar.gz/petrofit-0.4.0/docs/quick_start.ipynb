{
 "cells": [
  {
   "cell_type": "markdown",
   "id": "9699e83a",
   "metadata": {},
   "source": [
    "# Quick Start"
   ]
  },
  {
   "cell_type": "markdown",
   "id": "a68cbd8e",
   "metadata": {},
   "source": [
    "## Loading Example Data\n",
    "\n",
    "The following data is a cutout of a group of bright galaxies in Abell 2744. The original data was acquired by the [Hubble Frontier Fields](https://frontierfields.org) team via the WFC3 instrument in the `F105W` filter and can be directly downloaded from the [Mikulski Archive for Space Telescopes](https://archive.stsci.edu/pub/hlsp/frontier/abell2744/images/hst/v1.0/hlsp_frontier_hst_wfc3-60mas_abell2744_f105w_v1.0_drz.fits). \n",
    "\n",
    "### Loading Image \n",
    "You can use `astropy`'s ``CCDData`` to load the example data and visualize it through `matplotlib`."
   ]
  },
  {
   "cell_type": "code",
   "execution_count": null,
   "id": "33eab6a6",
   "metadata": {},
   "outputs": [],
   "source": [
    "from astropy.nddata import CCDData\n",
    "\n",
    "image = CCDData.read('data/abell_2744_dwarf_galaxy_f105w.fits.gz')"
   ]
  },
  {
   "cell_type": "code",
   "execution_count": null,
   "id": "7c75fd46",
   "metadata": {
    "nbsphinx": "hidden"
   },
   "outputs": [],
   "source": [
    "# Hidden cell\n",
    "\n",
    "%matplotlib inline"
   ]
  },
  {
   "cell_type": "code",
   "execution_count": null,
   "id": "f2f045f6",
   "metadata": {},
   "outputs": [],
   "source": [
    "import numpy as np\n",
    "from matplotlib import pyplot as plt\n",
    "\n",
    "plt.rcParams['figure.figsize'] = [10, 10]\n",
    "plt.rcParams['image.origin'] = 'lower'\n",
    "\n",
    "vmax = 0.05 # Use the image std as max and min of all plots \n",
    "vmin = - vmax \n",
    "\n",
    "plt.imshow(image.data, vmin=vmin, vmax=vmax)\n",
    "plt.title(\"Galaxy in Abell 2744\")\n",
    "plt.xlabel(\"Pixels\")\n",
    "plt.ylabel(\"Pixels\")\n",
    "plt.show()"
   ]
  },
  {
   "cell_type": "markdown",
   "id": "004686be",
   "metadata": {},
   "source": [
    "### Making Cutouts\n",
    "\n",
    "Use `astropy`'s `Cutout2D` function to make cutouts of sources:"
   ]
  },
  {
   "cell_type": "code",
   "execution_count": null,
   "id": "fd575cb6",
   "metadata": {},
   "outputs": [],
   "source": [
    "from astropy.nddata import Cutout2D\n",
    "\n",
    "cutout_image = Cutout2D(image, position=(100,100), size=40)\n",
    "\n",
    "\n",
    "plt.imshow(cutout_image.data, vmin=vmin, vmax=vmax)\n",
    "plt.title(\"Cutout Galaxy\")\n",
    "plt.xlabel(\"Pixels\")\n",
    "plt.ylabel(\"Pixels\")\n",
    "plt.show()"
   ]
  },
  {
   "cell_type": "markdown",
   "id": "0cf2d635",
   "metadata": {},
   "source": [
    "## Defining AstroPy Sérsic Models"
   ]
  },
  {
   "cell_type": "markdown",
   "id": "7af930fe",
   "metadata": {},
   "source": [
    "You can define a 2D Sérsic model using `astropy` as follows. PetroFit provides a helper function `get_default_sersic_bounds` provides a Python dictionary with default parameter bounds, which are useful when fitting (used to constrain the parameter space). \n",
    "\n",
    "```\n",
    "bounds = {\n",
    "    'amplitude': (0., None),\n",
    "    'r_eff': (0, None),\n",
    "    'n': (0, 10),\n",
    "    'ellip': (0, 1),\n",
    "    'theta': (-2 * np.pi, 2 * np.pi),\n",
    "}\n",
    "```"
   ]
  },
  {
   "cell_type": "code",
   "execution_count": null,
   "id": "0b50d7c6",
   "metadata": {},
   "outputs": [],
   "source": [
    "from astropy.modeling import models\n",
    "from petrofit.modeling import get_default_sersic_bounds\n",
    "\n",
    "sersic_model = models.Sersic2D(\n",
    "\n",
    "        amplitude=0.1, # Intensity at r_eff\n",
    "        r_eff=10, # Effective or half-lilght radius\n",
    "        n=1, # Sersic index\n",
    "        x_0=20, # center of model in the x direction\n",
    "        y_0=20, # center of model in the y direction\n",
    "        ellip=0.1, # Ellipticity\n",
    "        theta=0.0, # Rotation angle in radians, counterclockwise from the positive x-axis.\n",
    "    \n",
    "        bounds=get_default_sersic_bounds(), # Parameter bounds\n",
    ")"
   ]
  },
  {
   "cell_type": "markdown",
   "id": "8ec21f0f",
   "metadata": {},
   "source": [
    "To add `x_0` and `y_0` bounds to the default bounds, you can update the dictionary as you would a regular Python dictionary:"
   ]
  },
  {
   "cell_type": "code",
   "execution_count": null,
   "id": "98ab2630",
   "metadata": {},
   "outputs": [],
   "source": [
    "bound_dict = get_default_sersic_bounds()\n",
    "\n",
    "bound_dict.update( {'x_0': (10, 30),  'y_0': (10, 30)} )\n",
    "\n",
    "bound_dict"
   ]
  },
  {
   "cell_type": "markdown",
   "id": "80ec53bd",
   "metadata": {},
   "source": [
    "You can update the model bounds as follows:"
   ]
  },
  {
   "cell_type": "code",
   "execution_count": null,
   "id": "9f0057c0",
   "metadata": {},
   "outputs": [],
   "source": [
    "sersic_model.bounds.update(bound_dict)"
   ]
  },
  {
   "cell_type": "markdown",
   "id": "de7fa4c4",
   "metadata": {},
   "source": [
    "If you need to do this once, you can pass your updates to the `get_default_sersic_bounds` function as follows:"
   ]
  },
  {
   "cell_type": "code",
   "execution_count": null,
   "id": "fa21fd37",
   "metadata": {},
   "outputs": [],
   "source": [
    "bound_dict = get_default_sersic_bounds( {'x_0': (10, 30),  'y_0': (10, 30)} )\n",
    "bound_dict"
   ]
  },
  {
   "cell_type": "markdown",
   "id": "0d9fee69",
   "metadata": {},
   "source": [
    "## Making Compound Models (Combining Models)\n",
    "\n",
    "You can combine multiple models to form a compound model by adding, subtracting, multiplying, and dividing individual models. For example we add the Sersic model from the last section to itself to form a two component sersic model (notice that the number of parameters double):"
   ]
  },
  {
   "cell_type": "code",
   "execution_count": null,
   "id": "e710d764",
   "metadata": {},
   "outputs": [],
   "source": [
    "compound_sersic_model = sersic_model + sersic_model"
   ]
  },
  {
   "cell_type": "code",
   "execution_count": null,
   "id": "1836103d",
   "metadata": {},
   "outputs": [],
   "source": [
    "from petrofit.modeling import print_model_params\n",
    "\n",
    "print_model_params(compound_sersic_model)"
   ]
  },
  {
   "cell_type": "markdown",
   "id": "f1fbe442",
   "metadata": {},
   "source": [
    "## Making a PSF Convolved Model \n",
    "\n",
    "The `petrofit` `PSFConvolvedModel2D` is a `Fittable2DModel` that adds PSF convolution and model to image sampling to `astropy` core models. `PSFConvolvedModel2D` makes an image of the underlying model and samples it onto a grid. The model image is then convolved with a PSF if one is provided. Since `PSFConvolvedModel2D` is a `Fittable2DModel`, it can be used to fit model images to data images. For example, we wrap an `astropy` `Sersic2D` model in this doc with  `PSFConvolvedModel2D`, which produces an oversampled and PSF convolved version of the Sersic profile at each iteration of the Levenberg-Marquardt fitting algorithm. **Note that `PSFModel` is deprecated and replaced by `PSFConvolvedModel2D`.**"
   ]
  },
  {
   "cell_type": "code",
   "execution_count": null,
   "id": "a1d501d2",
   "metadata": {},
   "outputs": [],
   "source": [
    "############\n",
    "# Load PSF #\n",
    "############\n",
    "\n",
    "from astropy.io import fits\n",
    "\n",
    "# Load PSF image (2D array)\n",
    "PSF = fits.getdata('data/f105w_psf.fits.gz')\n",
    "\n",
    "# Normalize PSF \n",
    "PSF = PSF / PSF.sum()\n",
    "\n",
    "# Note that the PSF shape is odd on all sides\n",
    "print(\"PSF Shape = {}\".format(PSF.shape))\n",
    "\n",
    "# Plot PSF and use vmax and vmin to show difraction spikes\n",
    "plt.imshow(PSF, vmin=0, vmax=PSF.std()/10)\n",
    "plt.show()"
   ]
  },
  {
   "cell_type": "code",
   "execution_count": null,
   "id": "0ff9fa9f",
   "metadata": {},
   "outputs": [],
   "source": [
    "from petrofit.modeling import PSFConvolvedModel2D\n",
    "\n",
    "psf_sersic_model = PSFConvolvedModel2D(sersic_model, psf=PSF, oversample=4)"
   ]
  },
  {
   "cell_type": "markdown",
   "id": "a308c0df",
   "metadata": {},
   "source": [
    "## Converting Models to Images\n",
    "\n",
    "To convert any model to an image use the `model_to_image` function."
   ]
  },
  {
   "cell_type": "code",
   "execution_count": null,
   "id": "fbf6b956",
   "metadata": {},
   "outputs": [],
   "source": [
    "from petrofit.modeling import model_to_image\n",
    "\n",
    "# Size of model image\n",
    "size = 40\n",
    "\n",
    "# sersic model image\n",
    "model_image = model_to_image(model=sersic_model, size=size)\n",
    "\n",
    "# PSF convolved model image \n",
    "psf_model_image = model_to_image(model=psf_sersic_model, size=size)"
   ]
  },
  {
   "cell_type": "markdown",
   "id": "39f102fe",
   "metadata": {},
   "source": [
    "Plot model image"
   ]
  },
  {
   "cell_type": "code",
   "execution_count": null,
   "id": "6ca12c73",
   "metadata": {
    "scrolled": false
   },
   "outputs": [],
   "source": [
    "fig, axs = plt.subplots(1,2, figsize=(15,7.5))\n",
    "\n",
    "plt.sca(axs[0])\n",
    "plt.imshow(model_image, vmin=vmin, vmax=vmax)\n",
    "plt.title('Sersic Model Image')\n",
    "\n",
    "plt.sca(axs[1])\n",
    "plt.imshow(psf_model_image, vmin=vmin, vmax=vmax)\n",
    "plt.title('PSF Convolved Model Image')\n",
    "\n",
    "plt.show()"
   ]
  },
  {
   "cell_type": "markdown",
   "id": "5777eea6",
   "metadata": {},
   "source": [
    "## Fitting Model to Image\n",
    "\n",
    "Use the `fit_model` function to fit 2D models to images as follows:"
   ]
  },
  {
   "cell_type": "code",
   "execution_count": null,
   "id": "1f7261ad",
   "metadata": {},
   "outputs": [],
   "source": [
    "%%time\n",
    "\n",
    "from petrofit.modeling import fit_model\n",
    "\n",
    "fitted_model, fit_info = fit_model(\n",
    "    cutout_image.data, psf_sersic_model,\n",
    "    maxiter=10000,\n",
    "    epsilon=1.4901161193847656e-08,\n",
    "    acc=1e-09,\n",
    ")"
   ]
  },
  {
   "cell_type": "markdown",
   "id": "9ad84ae6",
   "metadata": {},
   "source": [
    "Convert the fitted model into an image"
   ]
  },
  {
   "cell_type": "code",
   "execution_count": null,
   "id": "f64c5cf0",
   "metadata": {},
   "outputs": [],
   "source": [
    "from petrofit.modeling import plot_fit\n",
    "\n",
    "axs, model_image, residual_image = plot_fit(fitted_model, cutout_image, return_images=True,\n",
    "                                            vmax=vmax, vmin=vmin, figsize=[24, 12])\n",
    "\n",
    "for ax in axs:\n",
    "    ax.set_xlabel('Pixels')\n",
    "    ax.set_ylabel('Pixels')\n",
    "    \n",
    "plt.show()"
   ]
  },
  {
   "cell_type": "markdown",
   "id": "92619d47",
   "metadata": {},
   "source": [
    "## Fitting Multiple Sources\n",
    "\n",
    "If the locations of the sources are known, one can fit all sources at the same time by creating a compound model. Note that `x_0` and `y_0` are known beforehand using photometric centroids. Below, a compound model of 3 Sérsic components is defined and the original image is fit (i.e not the cutout we have been working with)."
   ]
  },
  {
   "cell_type": "code",
   "execution_count": null,
   "id": "fdd363e4",
   "metadata": {},
   "outputs": [],
   "source": [
    "# Center elliptical galaxy we have been fitting:\n",
    "galaxy_model_1 = models.Sersic2D(\n",
    "\n",
    "        amplitude=0.1, # Intensity at r_eff\n",
    "        r_eff=10, # Effective or half-lilght radius\n",
    "        n=1.7384901, # Sersic index\n",
    "        x_0=99.97722657736085, # center of model in the x direction\n",
    "        y_0=99.12324178530918, # center of model in the y direction\n",
    "        ellip=0.1, # Ellipticity\n",
    "        theta=0.0, # Rotation angle in radians, counterclockwise from the positive x-axis.\n",
    "\n",
    "        bounds=get_default_sersic_bounds(), # Parameter bounds\n",
    ") \n",
    "\n",
    "# Football shaped galaxy \n",
    "galaxy_model_2 = models.Sersic2D(\n",
    "\n",
    "        amplitude=0.1, # Intensity at r_eff\n",
    "        r_eff=10, # Effective or half-lilght radius\n",
    "        n=1, # Sersic index\n",
    "        x_0=138.56315299695075, # center of model in the x direction\n",
    "        y_0=89.27757468116197, # center of model in the y direction\n",
    "        ellip=0.7, # Ellipticity\n",
    "        theta=0.7, # Rotation angle in radians, counterclockwise from the positive x-axis.\n",
    "\n",
    "        bounds=get_default_sersic_bounds(), # Parameter bounds\n",
    ")\n",
    "\n",
    "# Large galaxy near the bottom corner \n",
    "galaxy_model_3 = models.Sersic2D(\n",
    "\n",
    "        amplitude=0.1, # Intensity at r_eff\n",
    "        r_eff=10, # Effective or half-lilght radius\n",
    "        n=1, # Sersic index\n",
    "        x_0=178.72302596615611, # center of model in the x direction\n",
    "        y_0=63.506754312433046\t, # center of model in the y direction\n",
    "        ellip=0.2, # Ellipticity\n",
    "        theta=0.0, # Rotation angle in radians, counterclockwise from the positive x-axis.\n",
    "\n",
    "        bounds=get_default_sersic_bounds(), # Parameter bounds\n",
    ") "
   ]
  },
  {
   "cell_type": "markdown",
   "id": "b211ac6c",
   "metadata": {},
   "source": [
    "Make compound PSF model as follows:"
   ]
  },
  {
   "cell_type": "code",
   "execution_count": null,
   "id": "780fef6e",
   "metadata": {},
   "outputs": [],
   "source": [
    "all_galaxies_model = galaxy_model_1 + galaxy_model_2 + galaxy_model_3\n",
    "\n",
    "all_galaxies_psf_model = PSFConvolvedModel2D(all_galaxies_model, psf=PSF)"
   ]
  },
  {
   "cell_type": "markdown",
   "id": "4c368d95",
   "metadata": {},
   "source": [
    "Fit the model "
   ]
  },
  {
   "cell_type": "code",
   "execution_count": null,
   "id": "5fa15fd3",
   "metadata": {},
   "outputs": [],
   "source": [
    "%%time\n",
    "\n",
    "from petrofit.modeling import fit_model\n",
    "\n",
    "all_galaxies_fitted_model, fit_info = fit_model(\n",
    "    image.data, all_galaxies_psf_model,\n",
    "    maxiter=10000,\n",
    "    epsilon=1.4901161193847656e-08,\n",
    "    acc=1e-09,\n",
    ")"
   ]
  },
  {
   "cell_type": "code",
   "execution_count": null,
   "id": "bb2760ad",
   "metadata": {},
   "outputs": [],
   "source": [
    "plot_fit(all_galaxies_fitted_model, image, return_images=False,\n",
    "         vmax=vmax, vmin=vmin, figsize=[24, 12])\n",
    "plt.show()"
   ]
  },
  {
   "cell_type": "markdown",
   "id": "10207acc",
   "metadata": {},
   "source": [
    "Looks like the bottom corner galaxy is a spiral, let us add another component for the spiral and fit again:"
   ]
  },
  {
   "cell_type": "code",
   "execution_count": null,
   "id": "560572e8",
   "metadata": {},
   "outputs": [],
   "source": [
    "%%time\n",
    "\n",
    "# Redefine model with an extra component for galaxy 3 \n",
    "all_galaxies_model = galaxy_model_1 + galaxy_model_2 + galaxy_model_3 + galaxy_model_3\n",
    "\n",
    "# PSF model\n",
    "all_galaxies_psf_model = PSFConvolvedModel2D(all_galaxies_model, psf=PSF)\n",
    "\n",
    "# Fit the model\n",
    "all_galaxies_fitted_model, fit_info = fit_model(\n",
    "    image.data, all_galaxies_psf_model,\n",
    "    maxiter=10000,\n",
    "    epsilon=1.4901161193847656e-08,\n",
    "    acc=1e-09,\n",
    ")\n",
    "\n",
    "# Plot the fit\n",
    "plot_fit(all_galaxies_fitted_model, image, return_images=False,\n",
    "         vmax=vmax, vmin=vmin, figsize=[24, 12])\n",
    "plt.show()"
   ]
  },
  {
   "cell_type": "markdown",
   "id": "ed638cd8",
   "metadata": {},
   "source": [
    "## Fitting Image Backgrounds \n",
    "\n",
    "The `fit_background` function can be used to fit the background pixels using a 2D plane. It will sigma clip the pixels (sigma value provided by the user) and fit a 2D plane to the clipped image. Users can also provide their own 2D models."
   ]
  },
  {
   "cell_type": "code",
   "execution_count": null,
   "id": "76762285",
   "metadata": {},
   "outputs": [],
   "source": [
    "from petrofit.modeling import fit_background"
   ]
  },
  {
   "cell_type": "code",
   "execution_count": null,
   "id": "0a7f5fb5",
   "metadata": {},
   "outputs": [],
   "source": [
    "bg_model, fit_info = fit_background(image, sigma=3.0)\n",
    "bg_image = model_to_image(bg_model, size=(image.shape[1], image.shape[0]))"
   ]
  },
  {
   "cell_type": "markdown",
   "id": "6cef5365",
   "metadata": {},
   "source": [
    "Plot backround"
   ]
  },
  {
   "cell_type": "code",
   "execution_count": null,
   "id": "d664f153",
   "metadata": {},
   "outputs": [],
   "source": [
    "fig, axs = plt.subplots(1,2)\n",
    "\n",
    "plt.sca(axs[0])\n",
    "plt.imshow(bg_image)\n",
    "plt.title(\"Background Image\")\n",
    "plt.xlabel(\"Pixels\")\n",
    "plt.ylabel(\"Pixels\")\n",
    "\n",
    "plt.sca(axs[1])\n",
    "plt.imshow(image.data - bg_image, vmin=vmin, vmax=vmax)\n",
    "plt.title(\"Background subtracted image\")\n",
    "plt.xlabel(\"Pixels\")\n",
    "plt.ylabel(\"Pixels\")\n",
    "plt.show()"
   ]
  }
 ],
 "metadata": {
  "kernelspec": {
   "display_name": "Python 3 (ipykernel)",
   "language": "python",
   "name": "python3"
  },
  "language_info": {
   "codemirror_mode": {
    "name": "ipython",
    "version": 3
   },
   "file_extension": ".py",
   "mimetype": "text/x-python",
   "name": "python",
   "nbconvert_exporter": "python",
   "pygments_lexer": "ipython3",
   "version": "3.9.0"
  }
 },
 "nbformat": 4,
 "nbformat_minor": 5
}
