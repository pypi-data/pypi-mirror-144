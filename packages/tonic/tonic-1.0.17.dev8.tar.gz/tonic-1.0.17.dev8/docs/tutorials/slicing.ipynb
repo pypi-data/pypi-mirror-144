{
 "cells": [
  {
   "cell_type": "markdown",
   "id": "4d3cfc7a-a8a6-4620-ab0d-d8ed6fa865f6",
   "metadata": {},
   "source": [
    "# Dataset slicing\n",
    "An event recording is somewhat similar to a video. Sometimes it is desirable to slice a single event recording into multiple samples. During training time, we might want to load just a slice of a recording rather than the whole one. This is typically the case when training an ANN on event frames or if one recording contains multiple labels. We specify a `slicer` method which decides how recordings are cut into smaller chunks. Let's look at how we can cut a sample of the DVS gesture dataset into smaller pieces."
   ]
  },
  {
   "cell_type": "code",
   "execution_count": 1,
   "id": "10d81683-553d-49cd-bb7f-a8f6c9cae9a6",
   "metadata": {},
   "outputs": [
    {
     "name": "stdout",
     "output_type": "stream",
     "text": [
      "Downloading https://www.neuromorphic-vision.com/public/downloads/ibmGestureTest.tar.gz to ./data/DVSGesture/ibmGestureTest.tar.gz\n"
     ]
    },
    {
     "data": {
      "application/vnd.jupyter.widget-view+json": {
       "model_id": "27842211bb754c2da98cd1aa56ef208a",
       "version_major": 2,
       "version_minor": 0
      },
      "text/plain": [
       "  0%|          | 0/691455012 [00:00<?, ?it/s]"
      ]
     },
     "metadata": {},
     "output_type": "display_data"
    },
    {
     "name": "stdout",
     "output_type": "stream",
     "text": [
      "Extracting ./data/DVSGesture/ibmGestureTest.tar.gz to ./data/DVSGesture\n",
      "Metadata written to disk.\n"
     ]
    }
   ],
   "source": [
    "import tonic\n",
    "from tonic import SlicedDataset\n",
    "from tonic.slicers import SliceByTime\n",
    "\n",
    "dataset = tonic.datasets.DVSGesture(save_to='./data', train=False)\n",
    "\n",
    "slicing_time_window = 250000\n",
    "slicer = SliceByTime(time_window=slicing_time_window)\n",
    "sliced_dataset = SlicedDataset(dataset, slicer=slicer, metadata_path='./metadata/dvs_gesture')"
   ]
  },
  {
   "cell_type": "code",
   "execution_count": 2,
   "id": "4250d0c3-9906-4ccb-b42b-dd467e39200c",
   "metadata": {},
   "outputs": [
    {
     "name": "stdout",
     "output_type": "stream",
     "text": [
      "Went from 264 samples in the original dataset to 7041 in the sliced version.\n"
     ]
    }
   ],
   "source": [
    "print(f\"Went from {len(dataset)} samples in the original dataset to {len(sliced_dataset)} in the sliced version.\")"
   ]
  },
  {
   "cell_type": "code",
   "execution_count": 3,
   "id": "aebec5a2-72ad-405c-9452-b3474729e9bd",
   "metadata": {},
   "outputs": [],
   "source": [
    "events, targets = sliced_dataset[100]"
   ]
  },
  {
   "cell_type": "markdown",
   "id": "a88c85ed-4d8e-4bc4-bdca-ff838cc56a41",
   "metadata": {},
   "source": [
    "We can verify that the difference between last and first timestamp in the slice is not greater than our slicing time window earlier"
   ]
  },
  {
   "cell_type": "code",
   "execution_count": 4,
   "id": "f112e009-9abe-4bf9-a01d-f1890b636b9a",
   "metadata": {},
   "outputs": [
    {
     "name": "stdout",
     "output_type": "stream",
     "text": [
      "Difference between last and first timestamp in slice: 249878 us\n"
     ]
    }
   ],
   "source": [
    "slice_time_difference = events[\"t\"][-1] - events[\"t\"][0]\n",
    "print(f\"Difference between last and first timestamp in slice: {slice_time_difference} us\")\n",
    "assert slice_time_difference <= slicing_time_window"
   ]
  },
  {
   "cell_type": "markdown",
   "id": "212b8345-3756-41b1-91ea-302e3159043b",
   "metadata": {},
   "source": [
    "## Applying transforms post-slicing\n",
    "As normally, we can specify transform and/or target_transform which will be applied to the slice after loading."
   ]
  },
  {
   "cell_type": "code",
   "execution_count": 5,
   "id": "b28837de-3f38-47d9-bb89-bbf37273c66a",
   "metadata": {},
   "outputs": [
    {
     "name": "stdout",
     "output_type": "stream",
     "text": [
      "Read metadata from disk.\n"
     ]
    }
   ],
   "source": [
    "sensor_size = tonic.datasets.DVSGesture.sensor_size\n",
    "frame_transform = tonic.transforms.ToFrame(sensor_size=sensor_size, \n",
    "                                           time_window=50000, \n",
    "                                           include_incomplete=True)\n",
    "\n",
    "sliced_dataset = SlicedDataset(dataset, slicer=slicer, transform=frame_transform, metadata_path='./metadata/dvs_gesture')"
   ]
  },
  {
   "cell_type": "code",
   "execution_count": 6,
   "id": "488c1135-5928-4ee1-a7b4-19eb4e89a115",
   "metadata": {},
   "outputs": [],
   "source": [
    "frames, targets = sliced_dataset[100]"
   ]
  },
  {
   "cell_type": "markdown",
   "id": "211ea6d8-f9c3-4a3f-923b-a97114a2e31f",
   "metadata": {},
   "source": [
    "We can verify that the sum of events in the frames is the same as the number of events without transform."
   ]
  },
  {
   "cell_type": "code",
   "execution_count": 7,
   "id": "cdece00a-de7b-4572-b879-aa3c166c6577",
   "metadata": {},
   "outputs": [
    {
     "name": "stdout",
     "output_type": "stream",
     "text": [
      "Number of spikes: 16068\n"
     ]
    }
   ],
   "source": [
    "print(\"Number of spikes: \" + str(frames.sum()))\n",
    "assert frames.sum() == len(events)"
   ]
  },
  {
   "cell_type": "markdown",
   "id": "ee0fdeb4-8788-40ff-9e81-7c1dec267899",
   "metadata": {},
   "source": [
    "## Caching a SlicedDataset\n",
    "Additionally, we can wrap our newly sliced dataset in a CachedDataset, which will write the slices to disk. We'll also provide an augmentation transform that is applied post-loading from cache."
   ]
  },
  {
   "cell_type": "code",
   "execution_count": 8,
   "id": "a9c358dd-a2f9-4325-9da9-c0fdb4f26f7c",
   "metadata": {},
   "outputs": [],
   "source": [
    "import torch\n",
    "import torchvision\n",
    "from tonic import CachedDataset\n",
    "torch.manual_seed(1234)\n",
    "\n",
    "augmentation = tonic.transforms.Compose([torch.tensor,\n",
    "                                         torchvision.transforms.RandomRotation([-90,90])])\n",
    "augmented_dataset = CachedDataset(sliced_dataset, cache_path='./cache/slicing', transform=augmentation)"
   ]
  },
  {
   "cell_type": "code",
   "execution_count": 9,
   "id": "e1096bdc-a8f9-4847-bc0d-81f65c9f6520",
   "metadata": {},
   "outputs": [],
   "source": [
    "rotated_frames, targets = augmented_dataset[100]"
   ]
  },
  {
   "cell_type": "code",
   "execution_count": 10,
   "id": "9d8a3ccd-9ad4-46cc-999f-8314b941490b",
   "metadata": {},
   "outputs": [
    {
     "data": {
      "text/plain": [
       "<matplotlib.image.AxesImage at 0x7f8492dcf820>"
      ]
     },
     "execution_count": 10,
     "metadata": {},
     "output_type": "execute_result"
    },
    {
     "data": {
      "image/png": "[encoded data removed]",
      "text/plain": [
       "<Figure size 432x288 with 1 Axes>"
      ]
     },
     "metadata": {
      "needs_background": "light"
     },
     "output_type": "display_data"
    }
   ],
   "source": [
    "%matplotlib inline\n",
    "import matplotlib.pyplot as plt\n",
    "\n",
    "plt.imshow(rotated_frames[0,0])"
   ]
  },
  {
   "cell_type": "code",
   "execution_count": null,
   "id": "c64d913b-a784-4abe-bd97-51f1d0bc1d3d",
   "metadata": {},
   "outputs": [],
   "source": []
  }
 ],
 "metadata": {
  "kernelspec": {
   "display_name": "Python 3 (ipykernel)",
   "language": "python",
   "name": "python3"
  },
  "language_info": {
   "codemirror_mode": {
    "name": "ipython",
    "version": 3
   },
   "file_extension": ".py",
   "mimetype": "text/x-python",
   "name": "python",
   "nbconvert_exporter": "python",
   "pygments_lexer": "ipython3",
   "version": "3.8.11"
  }
 },
 "nbformat": 4,
 "nbformat_minor": 5
}
