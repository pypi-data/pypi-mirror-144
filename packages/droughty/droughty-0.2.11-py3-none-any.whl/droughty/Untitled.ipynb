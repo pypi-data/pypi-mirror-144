{
 "cells": [
  {
   "cell_type": "code",
   "execution_count": 11,
   "id": "56f9c59f",
   "metadata": {},
   "outputs": [],
   "source": [
    "from google.oauth2 import service_account\n",
    "import os\n",
    "import yaml\n",
    "import git\n",
    "\n",
    "## global vars\n",
    "\n",
    "path = os.path.expanduser('~')\n",
    "\n",
    "def get_git_root(path):\n",
    "\n",
    "        git_repo = git.Repo(path, search_parent_directories=True)\n",
    "        git_root = git_repo.git.rev_parse(\"--show-toplevel\")\n",
    "        return (git_root)\n",
    "    \n",
    "    \n",
    "git_def_path = get_git_root(os.getcwd())\n",
    "\n",
    "git_path = git_def_path\n",
    "\n",
    "## profile vars\n",
    "\n",
    "try:\n",
    "\n",
    "    path_source = 'local_vars'\n",
    "\n",
    "    path = os.path.expanduser('~')\n",
    "\n",
    "    profile_pass = os.path.join(path,\".droughty/profile.yaml\")\n",
    "\n",
    "    with open(profile_pass) as f:\n",
    "        lookml_config = yaml.load(f, Loader=yaml.FullLoader)\n",
    "\n",
    "except:\n",
    "\n",
    "    path_source = 'external_vars'\n",
    "\n",
    "    filename = 'profile.yaml'\n",
    "\n",
    "    profile_pass = os.path.join(git_path,filename)\n",
    "\n",
    "    with open(profile_pass) as f:\n",
    "        lookml_config = yaml.load(f, Loader=yaml.FullLoader)\n",
    "\n",
    "## project vars \n",
    "\n",
    "filename = 'droughty_project.yaml'\n",
    "\n",
    "droughty_project = os.path.join(git_path,filename)\n",
    "\n",
    "with open(droughty_project) as f:\n",
    "    environment_project = yaml.load(f, Loader=yaml.FullLoader)\n",
    "    \n",
    "for key,value in environment_project.items():\n",
    "    \n",
    "    if key == 'profile':\n",
    "\n",
    "        if value in lookml_config:\n",
    "\n",
    "            ## global vars\n",
    "            \n",
    "            environment_profile = environment_project['profile']\n",
    "\n",
    "            if path_source == 'local_vars':\n",
    "\n",
    "                warehouse_name =  lookml_config[value]['warehouse_name']\n",
    "                schema_name = lookml_config[value]['schema_name']\n",
    "                test_schemas = lookml_config[value]['test_schemas']\n",
    "\n",
    "            elif path_source == 'external_vars':\n",
    "\n",
    "                warehouse_name =  os.environ.get('warehouse_name')\n",
    "                schema_name = os.environ.get('SCHEMA_NAME')\n",
    "                test_schemas = os.environ.get('TEST_SCHEMAS')\n",
    "\n",
    "            if path_source == 'local_vars':\n",
    "\n",
    "                if warehouse_name == 'big_query':\n",
    "\n",
    "                    ## bigquery vars\n",
    "\n",
    "                    project_name =  lookml_config[value]['project_name']\n",
    "\n",
    "                    service_account_path = lookml_config[value]['key_file']\n",
    "                    service_account = service_account.Credentials.from_service_account_file(\n",
    "                        service_account_path,\n",
    "                    )\n",
    "\n",
    "                elif warehouse_name == 'snowflake':\n",
    "\n",
    "                    ## snowflake vars\n",
    "\n",
    "                    snowflake_account = lookml_config[value]['account']\n",
    "                    snowflake_user = lookml_config[value]['user']\n",
    "                    snowflake_schema = lookml_config[value]['schema_name']\n",
    "                    snowflake_database = lookml_config[value]['database']\n",
    "                    snowflake_password = lookml_config[value]['password']\n",
    "                    snowflake_warehouse = lookml_config[value]['warehouse']\n",
    "                    snowflake_role = lookml_config[value]['role']\n",
    "\n",
    "            elif path_source == 'external_vars':\n",
    "\n",
    "\n",
    "                ## bigquery vars\n",
    "\n",
    "                if warehouse_name == 'big_query':\n",
    "\n",
    "                    project_name =  os.environ.get('PROJECT_NAME')\n",
    "\n",
    "                    service_account_path = \"./droughty-service-account.json\"\n",
    "                    service_account = service_account.Credentials.from_service_account_file(\n",
    "                        service_account_path,\n",
    "                    )\n",
    "\n",
    "                ## snowflake vars\n",
    "\n",
    "                elif warehouse_name == 'snowflake':\n",
    "\n",
    "                    snowflake_account = os.environ.get('ACCOUNT')\n",
    "                    snowflake_user = os.environ.get('USER')\n",
    "                    snowflake_schema = os.environ.get('SCHEMA_NAME')\n",
    "                    snowflake_database = os.environ.get('DATABASE')\n",
    "                    snowflake_password = os.environ.get('PASSWORD')\n",
    "                    snowflake_warehouse = os.environ.get('WAREHOUSE')\n",
    "                    snowflake_role = os.environ.get('ROLE')"
   ]
  },
  {
   "cell_type": "code",
   "execution_count": 12,
   "id": "b8dafa3d",
   "metadata": {},
   "outputs": [
    {
     "data": {
      "text/plain": [
       "{'sytner': {'host': None,\n",
       "  'key_file': \"{{ env_var('DBT_GOOGLE_BIGQUERY_KEYFILE_DEV') }}\",\n",
       "  'password': None,\n",
       "  'port': None,\n",
       "  'project_name': 'sytner-dwh',\n",
       "  'schema_name': 'lewis_analytics_dev',\n",
       "  'user': None,\n",
       "  'warehouse_name': '${{ secrets.WAREHOUSE_NAME }}',\n",
       "  'test_schemas': ['lewis_analytics_dev_staging',\n",
       "   'lewis_analytics_dev_integration',\n",
       "   'lewis_analytics_dev']}}"
      ]
     },
     "execution_count": 12,
     "metadata": {},
     "output_type": "execute_result"
    }
   ],
   "source": [
    "lookml_config"
   ]
  },
  {
   "cell_type": "code",
   "execution_count": 13,
   "id": "403f89d9",
   "metadata": {},
   "outputs": [],
   "source": [
    "warehouse_name"
   ]
  },
  {
   "cell_type": "code",
   "execution_count": 4,
   "id": "c83f10a2",
   "metadata": {},
   "outputs": [
    {
     "data": {
      "text/plain": [
       "'sytner'"
      ]
     },
     "execution_count": 4,
     "metadata": {},
     "output_type": "execute_result"
    }
   ],
   "source": [
    "environment_profile"
   ]
  },
  {
   "cell_type": "code",
   "execution_count": 5,
   "id": "4ace23b5",
   "metadata": {},
   "outputs": [
    {
     "data": {
      "text/plain": [
       "'external_vars'"
      ]
     },
     "execution_count": 5,
     "metadata": {},
     "output_type": "execute_result"
    }
   ],
   "source": [
    "path_source"
   ]
  },
  {
   "cell_type": "code",
   "execution_count": 6,
   "id": "da85c3ea",
   "metadata": {},
   "outputs": [],
   "source": [
    "schema_name"
   ]
  },
  {
   "cell_type": "code",
   "execution_count": 7,
   "id": "9fa4f63e",
   "metadata": {},
   "outputs": [
    {
     "ename": "NameError",
     "evalue": "name 'project_name' is not defined",
     "output_type": "error",
     "traceback": [
      "\u001b[0;31m---------------------------------------------------------------------------\u001b[0m",
      "\u001b[0;31mNameError\u001b[0m                                 Traceback (most recent call last)",
      "Input \u001b[0;32mIn [7]\u001b[0m, in \u001b[0;36m<module>\u001b[0;34m\u001b[0m\n\u001b[0;32m----> 1\u001b[0m \u001b[43mproject_name\u001b[49m\n",
      "\u001b[0;31mNameError\u001b[0m: name 'project_name' is not defined"
     ]
    }
   ],
   "source": [
    "project_name"
   ]
  },
  {
   "cell_type": "code",
   "execution_count": null,
   "id": "5d1d3edc",
   "metadata": {},
   "outputs": [],
   "source": [
    "# Set environment variables\n",
    "os.environ['API_USER'] = 'username'\n",
    "os.environ['API_PASSWORD'] = 'secret'\n",
    "\n",
    "# Get environment variables\n",
    "USER = os.getenv('API_USER')\n",
    "PASSWORD = os.environ.get('API_PASSWORD')"
   ]
  },
  {
   "cell_type": "code",
   "execution_count": null,
   "id": "313deeb1",
   "metadata": {},
   "outputs": [],
   "source": [
    "USER"
   ]
  },
  {
   "cell_type": "code",
   "execution_count": null,
   "id": "eb168195",
   "metadata": {},
   "outputs": [],
   "source": []
  }
 ],
 "metadata": {
  "kernelspec": {
   "display_name": "Python 3 (ipykernel)",
   "language": "python",
   "name": "python3"
  },
  "language_info": {
   "codemirror_mode": {
    "name": "ipython",
    "version": 3
   },
   "file_extension": ".py",
   "mimetype": "text/x-python",
   "name": "python",
   "nbconvert_exporter": "python",
   "pygments_lexer": "ipython3",
   "version": "3.8.12"
  }
 },
 "nbformat": 4,
 "nbformat_minor": 5
}
