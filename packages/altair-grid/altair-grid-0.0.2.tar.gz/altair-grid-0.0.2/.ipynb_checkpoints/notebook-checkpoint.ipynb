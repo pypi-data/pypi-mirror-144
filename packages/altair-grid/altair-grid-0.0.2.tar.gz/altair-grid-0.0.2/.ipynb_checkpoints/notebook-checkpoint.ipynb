{
 "cells": [
  {
   "cell_type": "markdown",
   "metadata": {},
   "source": [
    "# The Grid theme for Altair.\n",
    "\n",
    "Make charts the Grid way using Python's Altair charting library."
   ]
  },
  {
   "cell_type": "markdown",
   "metadata": {},
   "source": [
    "Import and enable the theme."
   ]
  },
  {
   "cell_type": "code",
   "execution_count": 1,
   "metadata": {},
   "outputs": [],
   "source": [
    "import altair as alt\n",
    "import altair_grid as altgrid"
   ]
  },
  {
   "cell_type": "code",
   "execution_count": 2,
   "metadata": {},
   "outputs": [
    {
     "ename": "NameError",
     "evalue": "name 'lat' is not defined",
     "output_type": "error",
     "traceback": [
      "\u001b[0;31m---------------------------------------------------------------------------\u001b[0m",
      "\u001b[0;31mNameError\u001b[0m                                 Traceback (most recent call last)",
      "Input \u001b[0;32mIn [2]\u001b[0m, in \u001b[0;36m<module>\u001b[0;34m\u001b[0m\n\u001b[0;32m----> 1\u001b[0m alt\u001b[38;5;241m.\u001b[39mthemes\u001b[38;5;241m.\u001b[39mregister(\u001b[38;5;124m\"\u001b[39m\u001b[38;5;124mgrid\u001b[39m\u001b[38;5;124m\"\u001b[39m, \u001b[43mlat\u001b[49m\u001b[38;5;241m.\u001b[39mtheme)\n\u001b[1;32m      2\u001b[0m alt\u001b[38;5;241m.\u001b[39mthemes\u001b[38;5;241m.\u001b[39menable(\u001b[38;5;124m\"\u001b[39m\u001b[38;5;124mgrid\u001b[39m\u001b[38;5;124m\"\u001b[39m)\n",
      "\u001b[0;31mNameError\u001b[0m: name 'lat' is not defined"
     ]
    }
   ],
   "source": [
    "alt.themes.register(\"grid\", altgrid.theme)\n",
    "alt.themes.enable(\"grid\")"
   ]
  },
  {
   "cell_type": "markdown",
   "metadata": {},
   "source": [
    "Make some example charts"
   ]
  },
  {
   "cell_type": "code",
   "execution_count": null,
   "metadata": {},
   "outputs": [],
   "source": [
    "import numpy as np\n",
    "import pandas as pd\n",
    "from vega_datasets import data"
   ]
  },
  {
   "cell_type": "code",
   "execution_count": null,
   "metadata": {},
   "outputs": [],
   "source": [
    "source = pd.DataFrame({\n",
    "    'a': ['A', 'B', 'C', 'D', 'E', 'F', 'G', 'H', 'I'],\n",
    "    'b': [28, 55, 43, 91, 81, 53, 19, 87, 52]\n",
    "})\n",
    "\n",
    "alt.Chart(source).mark_bar().encode(\n",
    "    x='a',\n",
    "    y='b'\n",
    ")"
   ]
  },
  {
   "cell_type": "code",
   "execution_count": null,
   "metadata": {},
   "outputs": [],
   "source": [
    "x = np.arange(100)\n",
    "source = pd.DataFrame({\n",
    "  'x': x,\n",
    "  'f(x)': np.sin(x / 5)}\n",
    ")\n",
    "\n",
    "alt.Chart(source).mark_line().encode(\n",
    "    x='x',\n",
    "    y='f(x)'\n",
    ")"
   ]
  },
  {
   "cell_type": "code",
   "execution_count": null,
   "metadata": {},
   "outputs": [],
   "source": [
    "source = pd.DataFrame({\n",
    "    'x': [1, 3, 5, 7, 9],\n",
    "    'y': [1, 3, 5, 7, 9],\n",
    "    'label': ['A', 'B', 'C', 'D', 'E']\n",
    "})\n",
    "\n",
    "bars = alt.Chart(source).mark_point().encode(\n",
    "    x='x:Q',\n",
    "    y='y:Q'\n",
    ")\n",
    "\n",
    "text = bars.mark_text(\n",
    "    align='left',\n",
    "    baseline='middle',\n",
    "    dx=7\n",
    ").encode(\n",
    "    text='label'\n",
    ")\n",
    "\n",
    "bars + text"
   ]
  },
  {
   "cell_type": "code",
   "execution_count": null,
   "metadata": {},
   "outputs": [],
   "source": [
    "source = data.iowa_electricity()\n",
    "\n",
    "alt.Chart(source, title=\"Iowa's renewable energy boom\").mark_area().encode(\n",
    "    x=alt.X(\n",
    "        \"year:T\",\n",
    "        title=\"Year\"\n",
    "    ),\n",
    "    y=alt.Y(\n",
    "        \"net_generation:Q\",\n",
    "        stack=\"normalize\",\n",
    "        title=\"\",\n",
    "        axis=alt.Axis(format=\".0%\"),\n",
    "    ),\n",
    "    color=alt.Color(\n",
    "        \"source:N\",\n",
    "        legend=alt.Legend(title=\"Electricity source\"),\n",
    "    )\n",
    ")"
   ]
  },
  {
   "cell_type": "code",
   "execution_count": null,
   "metadata": {},
   "outputs": [],
   "source": [
    "source = data.cars()\n",
    "\n",
    "alt.Chart(source).mark_circle(size=60).encode(\n",
    "    x='Horsepower',\n",
    "    y='Miles_per_Gallon',\n",
    "    color='Origin',\n",
    "    tooltip=['Name', 'Origin', 'Horsepower', 'Miles_per_Gallon']\n",
    ").interactive()"
   ]
  },
  {
   "cell_type": "code",
   "execution_count": null,
   "metadata": {},
   "outputs": [],
   "source": [
    "source = data.seattle_temps.url\n",
    "\n",
    "alt.Chart(\n",
    "    source,\n",
    "    title=\"2010 Daily High Temperature (F) in Seattle, WA\"\n",
    ").mark_rect().encode(\n",
    "    x=alt.X('date:O', timeUnit='date'),\n",
    "    y=alt.Y('date:O', timeUnit='month'),\n",
    "    color=alt.Color('temp:Q', aggregate='max'),\n",
    "    tooltip=[\n",
    "        alt.Tooltip('date:T', timeUnit='monthdate', title='Date'),\n",
    "        alt.Tooltip('temp:Q', aggregate='max', title='Max Temp')\n",
    "    ]\n",
    ").properties(width=600)"
   ]
  },
  {
   "cell_type": "code",
   "execution_count": null,
   "metadata": {},
   "outputs": [],
   "source": [
    "source = data.wheat()\n",
    "\n",
    "alt.Chart(source).mark_bar().encode(\n",
    "    x='year:O',\n",
    "    y=\"wheat:Q\",\n",
    "    # The highlight will be set on the result of a conditional statement\n",
    "    color=alt.condition(\n",
    "        alt.datum.year == 1810,  # If the year is 1810 this test returns True,\n",
    "        alt.value(altgrid.palette['accent']),     # which sets the bar orange.\n",
    "        alt.value(altgrid.palette['default'])   # And if it's not true it sets the bar steelblue.\n",
    "    )\n",
    ")"
   ]
  },
  {
   "cell_type": "code",
   "execution_count": null,
   "metadata": {},
   "outputs": [],
   "source": [
    "source = data.zipcodes.url\n",
    "\n",
    "alt.Chart(source).mark_circle(size=3).encode(\n",
    "    longitude='longitude:Q',\n",
    "    latitude='latitude:Q',\n",
    "    color='digit:N'\n",
    ").project(\n",
    "    type='albersUsa'\n",
    ").transform_calculate(\n",
    "    \"digit\", alt.expr.substring(alt.datum.zip_code, 0, 1)\n",
    ")"
   ]
  },
  {
   "cell_type": "code",
   "execution_count": null,
   "metadata": {},
   "outputs": [],
   "source": [
    "source = data.barley()\n",
    "\n",
    "alt.Chart(source, title=\"The Morris Mistake\").mark_point().encode(\n",
    "    alt.X(\n",
    "        'yield:Q',\n",
    "        title=\"Barley Yield (bushels/acre)\",\n",
    "        scale=alt.Scale(zero=False),\n",
    "        axis=alt.Axis(grid=False)\n",
    "    ),\n",
    "    alt.Y(\n",
    "        'variety:N',\n",
    "        title=\"\",\n",
    "        sort=alt.EncodingSortField(field='yield', op='sum', order='descending'),\n",
    "        scale=alt.Scale(rangeStep=20),\n",
    "        axis=alt.Axis(grid=True)\n",
    "    ),\n",
    "    color=alt.Color('year:N', legend=alt.Legend(title=\"Year\")),\n",
    "    row=alt.Row(\n",
    "        'site:N',\n",
    "        title=\"\",\n",
    "        sort=alt.EncodingSortField(field='yield', op='sum', order='descending'),\n",
    "    )\n",
    ").configure_view(stroke=\"transparent\", width=400, height=300)"
   ]
  },
  {
   "cell_type": "code",
   "execution_count": null,
   "metadata": {},
   "outputs": [],
   "source": [
    "source = data.movies.url\n",
    "\n",
    "output = alt.Chart(source).mark_bar(size=20, color='highlight').encode(\n",
    "    x=alt.X('IMDB_Rating:Q', bin=True, title='Distribution of IMDB ratings'),\n",
    "    y=alt.Y('count()'),\n",
    ")\n",
    "\n",
    "text = output.mark_text(\n",
    "    align='center',\n",
    "    baseline='middle',\n",
    "    dx=0,\n",
    "    dy=-10,\n",
    "    fontWeight='bold',\n",
    ").encode(\n",
    "    text='count():Q'\n",
    ")\n",
    "\n",
    "median = output.mark_rule(color='#006d8f', opacity=.5).encode(\n",
    "    x='median(IMDB_Rating):Q',\n",
    "    size=alt.value(3)\n",
    ")\n",
    "\n",
    "(output + median + text)"
   ]
  },
  {
   "cell_type": "code",
   "execution_count": null,
   "metadata": {},
   "outputs": [],
   "source": []
  }
 ],
 "metadata": {
  "kernelspec": {
   "display_name": "Python 3 (ipykernel)",
   "language": "python",
   "name": "python3"
  },
  "language_info": {
   "codemirror_mode": {
    "name": "ipython",
    "version": 3
   },
   "file_extension": ".py",
   "mimetype": "text/x-python",
   "name": "python",
   "nbconvert_exporter": "python",
   "pygments_lexer": "ipython3",
   "version": "3.8.9"
  }
 },
 "nbformat": 4,
 "nbformat_minor": 4
}
