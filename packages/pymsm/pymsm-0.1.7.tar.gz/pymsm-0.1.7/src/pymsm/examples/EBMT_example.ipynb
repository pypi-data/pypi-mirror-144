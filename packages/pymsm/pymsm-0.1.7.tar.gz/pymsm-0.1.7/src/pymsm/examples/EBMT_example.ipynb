{
 "cells": [
  {
   "cell_type": "code",
   "execution_count": 6,
   "metadata": {},
   "outputs": [
    {
     "name": "stdout",
     "output_type": "stream",
     "text": [
      "The autoreload extension is already loaded. To reload it, use:\n",
      "  %reload_ext autoreload\n"
     ]
    }
   ],
   "source": [
    "import numpy as np\n",
    "import pandas as pd\n",
    "import matplotlib.pyplot as plt\n",
    "from pymsm.multi_state_competing_risks_model import PathObject, MultiStateModel\n",
    "from pymsm.datasets import prep_ebmt_long\n",
    "from pymsm.plotting import stackplot_state_timesteps, stackplot_state_timesteps_from_paths\n",
    "from pymsm.statistics import (\n",
    "    prob_visited_states,\n",
    "    stats_total_time_at_states,\n",
    "    paths_to_timestep_matrix,\n",
    "    get_state_timestep_probs\n",
    ")\n",
    "from pymsm.survival_tree_fitter import SurvivalTreeWrapper\n",
    "\n",
    "%load_ext autoreload\n",
    "%autoreload 2"
   ]
  },
  {
   "cell_type": "markdown",
   "metadata": {},
   "source": [
    "## The EBMT dataset  \n",
    "Data from the European Society for Blood and Marrow Transplantation (EBMT)  \n",
    "  \n",
    "A data frame of 2279 patients transplanted at the EBMT between 1985 and 1998.  \n",
    "(from R mstate package, see: https://www.rdocumentation.org/packages/mstate/versions/0.3.1/topics/EBMT%20data)  \n"
   ]
  },
  {
   "cell_type": "code",
   "execution_count": 7,
   "metadata": {},
   "outputs": [
    {
     "data": {
      "text/html": [
       "<div>\n",
       "<style scoped>\n",
       "    .dataframe tbody tr th:only-of-type {\n",
       "        vertical-align: middle;\n",
       "    }\n",
       "\n",
       "    .dataframe tbody tr th {\n",
       "        vertical-align: top;\n",
       "    }\n",
       "\n",
       "    .dataframe thead th {\n",
       "        text-align: right;\n",
       "    }\n",
       "</style>\n",
       "<table border=\"1\" class=\"dataframe\">\n",
       "  <thead>\n",
       "    <tr style=\"text-align: right;\">\n",
       "      <th></th>\n",
       "      <th>id</th>\n",
       "      <th>from</th>\n",
       "      <th>to</th>\n",
       "      <th>trans</th>\n",
       "      <th>Tstart</th>\n",
       "      <th>Tstop</th>\n",
       "      <th>time</th>\n",
       "      <th>status</th>\n",
       "      <th>match</th>\n",
       "      <th>proph</th>\n",
       "      <th>year</th>\n",
       "      <th>agecl</th>\n",
       "    </tr>\n",
       "  </thead>\n",
       "  <tbody>\n",
       "    <tr>\n",
       "      <th>1</th>\n",
       "      <td>1</td>\n",
       "      <td>1</td>\n",
       "      <td>2</td>\n",
       "      <td>1</td>\n",
       "      <td>0.0</td>\n",
       "      <td>22.0</td>\n",
       "      <td>22.0</td>\n",
       "      <td>1</td>\n",
       "      <td>no gender mismatch</td>\n",
       "      <td>no</td>\n",
       "      <td>1995-1998</td>\n",
       "      <td>20-40</td>\n",
       "    </tr>\n",
       "    <tr>\n",
       "      <th>2</th>\n",
       "      <td>1</td>\n",
       "      <td>1</td>\n",
       "      <td>3</td>\n",
       "      <td>2</td>\n",
       "      <td>0.0</td>\n",
       "      <td>22.0</td>\n",
       "      <td>22.0</td>\n",
       "      <td>0</td>\n",
       "      <td>no gender mismatch</td>\n",
       "      <td>no</td>\n",
       "      <td>1995-1998</td>\n",
       "      <td>20-40</td>\n",
       "    </tr>\n",
       "    <tr>\n",
       "      <th>3</th>\n",
       "      <td>1</td>\n",
       "      <td>1</td>\n",
       "      <td>5</td>\n",
       "      <td>3</td>\n",
       "      <td>0.0</td>\n",
       "      <td>22.0</td>\n",
       "      <td>22.0</td>\n",
       "      <td>0</td>\n",
       "      <td>no gender mismatch</td>\n",
       "      <td>no</td>\n",
       "      <td>1995-1998</td>\n",
       "      <td>20-40</td>\n",
       "    </tr>\n",
       "    <tr>\n",
       "      <th>4</th>\n",
       "      <td>1</td>\n",
       "      <td>1</td>\n",
       "      <td>6</td>\n",
       "      <td>4</td>\n",
       "      <td>0.0</td>\n",
       "      <td>22.0</td>\n",
       "      <td>22.0</td>\n",
       "      <td>0</td>\n",
       "      <td>no gender mismatch</td>\n",
       "      <td>no</td>\n",
       "      <td>1995-1998</td>\n",
       "      <td>20-40</td>\n",
       "    </tr>\n",
       "    <tr>\n",
       "      <th>5</th>\n",
       "      <td>1</td>\n",
       "      <td>2</td>\n",
       "      <td>4</td>\n",
       "      <td>5</td>\n",
       "      <td>22.0</td>\n",
       "      <td>995.0</td>\n",
       "      <td>973.0</td>\n",
       "      <td>0</td>\n",
       "      <td>no gender mismatch</td>\n",
       "      <td>no</td>\n",
       "      <td>1995-1998</td>\n",
       "      <td>20-40</td>\n",
       "    </tr>\n",
       "  </tbody>\n",
       "</table>\n",
       "</div>"
      ],
      "text/plain": [
       "   id  from  to  trans  Tstart  Tstop   time  status               match  \\\n",
       "1   1     1   2      1     0.0   22.0   22.0       1  no gender mismatch   \n",
       "2   1     1   3      2     0.0   22.0   22.0       0  no gender mismatch   \n",
       "3   1     1   5      3     0.0   22.0   22.0       0  no gender mismatch   \n",
       "4   1     1   6      4     0.0   22.0   22.0       0  no gender mismatch   \n",
       "5   1     2   4      5    22.0  995.0  973.0       0  no gender mismatch   \n",
       "\n",
       "  proph       year  agecl  \n",
       "1    no  1995-1998  20-40  \n",
       "2    no  1995-1998  20-40  \n",
       "3    no  1995-1998  20-40  \n",
       "4    no  1995-1998  20-40  \n",
       "5    no  1995-1998  20-40  "
      ]
     },
     "execution_count": 7,
     "metadata": {},
     "output_type": "execute_result"
    }
   ],
   "source": [
    "from pymsm.datasets import load_ebmt, prep_ebmt_long, plot_ebmt\n",
    "load_ebmt().head()"
   ]
  },
  {
   "cell_type": "code",
   "execution_count": 8,
   "metadata": {},
   "outputs": [
    {
     "data": {
      "text/html": [
       "<div>\n",
       "<style scoped>\n",
       "    .dataframe tbody tr th:only-of-type {\n",
       "        vertical-align: middle;\n",
       "    }\n",
       "\n",
       "    .dataframe tbody tr th {\n",
       "        vertical-align: top;\n",
       "    }\n",
       "\n",
       "    .dataframe thead th {\n",
       "        text-align: right;\n",
       "    }\n",
       "</style>\n",
       "<table border=\"1\" class=\"dataframe\">\n",
       "  <thead>\n",
       "    <tr style=\"text-align: right;\">\n",
       "      <th></th>\n",
       "      <th>sample_id</th>\n",
       "      <th>origin_state</th>\n",
       "      <th>target_state</th>\n",
       "      <th>time_entry_to_origin</th>\n",
       "      <th>time_transition_to_target</th>\n",
       "      <th>match_no gender mismatch</th>\n",
       "      <th>proph_yes</th>\n",
       "      <th>year_1990-1994</th>\n",
       "      <th>year_1995-1998</th>\n",
       "      <th>agecl_&lt;=20</th>\n",
       "      <th>agecl_&gt;40</th>\n",
       "    </tr>\n",
       "  </thead>\n",
       "  <tbody>\n",
       "    <tr>\n",
       "      <th>0</th>\n",
       "      <td>1</td>\n",
       "      <td>1</td>\n",
       "      <td>2</td>\n",
       "      <td>0.0</td>\n",
       "      <td>22.0</td>\n",
       "      <td>1</td>\n",
       "      <td>0</td>\n",
       "      <td>0</td>\n",
       "      <td>1</td>\n",
       "      <td>0</td>\n",
       "      <td>0</td>\n",
       "    </tr>\n",
       "    <tr>\n",
       "      <th>1</th>\n",
       "      <td>1</td>\n",
       "      <td>2</td>\n",
       "      <td>0</td>\n",
       "      <td>22.0</td>\n",
       "      <td>995.0</td>\n",
       "      <td>1</td>\n",
       "      <td>0</td>\n",
       "      <td>0</td>\n",
       "      <td>1</td>\n",
       "      <td>0</td>\n",
       "      <td>0</td>\n",
       "    </tr>\n",
       "    <tr>\n",
       "      <th>2</th>\n",
       "      <td>2</td>\n",
       "      <td>1</td>\n",
       "      <td>3</td>\n",
       "      <td>0.0</td>\n",
       "      <td>12.0</td>\n",
       "      <td>1</td>\n",
       "      <td>0</td>\n",
       "      <td>0</td>\n",
       "      <td>1</td>\n",
       "      <td>0</td>\n",
       "      <td>0</td>\n",
       "    </tr>\n",
       "    <tr>\n",
       "      <th>3</th>\n",
       "      <td>2</td>\n",
       "      <td>3</td>\n",
       "      <td>4</td>\n",
       "      <td>12.0</td>\n",
       "      <td>29.0</td>\n",
       "      <td>1</td>\n",
       "      <td>0</td>\n",
       "      <td>0</td>\n",
       "      <td>1</td>\n",
       "      <td>0</td>\n",
       "      <td>0</td>\n",
       "    </tr>\n",
       "    <tr>\n",
       "      <th>4</th>\n",
       "      <td>2</td>\n",
       "      <td>4</td>\n",
       "      <td>5</td>\n",
       "      <td>29.0</td>\n",
       "      <td>422.0</td>\n",
       "      <td>1</td>\n",
       "      <td>0</td>\n",
       "      <td>0</td>\n",
       "      <td>1</td>\n",
       "      <td>0</td>\n",
       "      <td>0</td>\n",
       "    </tr>\n",
       "  </tbody>\n",
       "</table>\n",
       "</div>"
      ],
      "text/plain": [
       "   sample_id  origin_state  target_state  time_entry_to_origin  \\\n",
       "0          1             1             2                   0.0   \n",
       "1          1             2             0                  22.0   \n",
       "2          2             1             3                   0.0   \n",
       "3          2             3             4                  12.0   \n",
       "4          2             4             5                  29.0   \n",
       "\n",
       "   time_transition_to_target  match_no gender mismatch  proph_yes  \\\n",
       "0                       22.0                         1          0   \n",
       "1                      995.0                         1          0   \n",
       "2                       12.0                         1          0   \n",
       "3                       29.0                         1          0   \n",
       "4                      422.0                         1          0   \n",
       "\n",
       "   year_1990-1994  year_1995-1998  agecl_<=20  agecl_>40  \n",
       "0               0               1           0          0  \n",
       "1               0               1           0          0  \n",
       "2               0               1           0          0  \n",
       "3               0               1           0          0  \n",
       "4               0               1           0          0  "
      ]
     },
     "execution_count": 8,
     "metadata": {},
     "output_type": "execute_result"
    }
   ],
   "source": [
    "competing_risk_dataset, covariate_cols, state_labels = prep_ebmt_long()\n",
    "competing_risk_dataset.head()"
   ]
  },
  {
   "cell_type": "code",
   "execution_count": 10,
   "metadata": {},
   "outputs": [
    {
     "data": {
      "text/html": [
       "<img src=\"https://mermaid.ink/img/c3RhdGVEaWFncmFtLXYyCnMxIDogKDEpIFRyYW5zcGxhbnQKczIgOiAoMikgUmVjCnMzIDogKDMpIEFFCnM0IDogKDQpIEFFICYgUmVjCnM1IDogKDUpIFJlbGFwc2UKczYgOiAoNikgRGVhdGgKczEgLS0+IHMyOiA3ODUgCnMxIC0tPiBzMzogOTA3IApzMSAtLT4gczU6IDk1IApzMSAtLT4gczY6IDE2MCAKczIgLS0+IHM0OiAyMjcgCnMyIC0tPiBzNTogMTEyIApzMiAtLT4gczY6IDM5IApzMyAtLT4gczQ6IDQzMyAKczMgLS0+IHM1OiA1NiAKczMgLS0+IHM2OiAxOTcgCnM0IC0tPiBzNTogMTA3IApzNCAtLT4gczY6IDEzNyAKCg==\"/>"
      ],
      "text/plain": [
       "<IPython.core.display.Image object>"
      ]
     },
     "metadata": {},
     "output_type": "display_data"
    }
   ],
   "source": [
    "plot_ebmt(competing_risk_dataset, state_labels, covariate_cols, terminal_states=[5, 6])"
   ]
  },
  {
   "cell_type": "markdown",
   "metadata": {},
   "source": [
    "## Multi-state model based on Survival-Trees   "
   ]
  },
  {
   "cell_type": "code",
   "execution_count": 13,
   "metadata": {},
   "outputs": [
    {
     "name": "stdout",
     "output_type": "stream",
     "text": [
      "Fitting Model at State: 1\n",
      ">>> Fitting Transition to State: 2, n events: 785\n",
      ">>> Fitting Transition to State: 3, n events: 907\n",
      ">>> Fitting Transition to State: 5, n events: 95\n",
      ">>> Fitting Transition to State: 6, n events: 160\n",
      "Fitting Model at State: 2\n",
      ">>> Fitting Transition to State: 5, n events: 112\n",
      ">>> Fitting Transition to State: 6, n events: 39\n",
      ">>> Fitting Transition to State: 4, n events: 227\n",
      "Fitting Model at State: 3\n",
      ">>> Fitting Transition to State: 4, n events: 433\n",
      ">>> Fitting Transition to State: 6, n events: 197\n",
      ">>> Fitting Transition to State: 5, n events: 56\n",
      "Fitting Model at State: 4\n",
      ">>> Fitting Transition to State: 5, n events: 107\n",
      ">>> Fitting Transition to State: 6, n events: 137\n"
     ]
    },
    {
     "data": {
      "text/html": [
       "<img src=\"https://mermaid.ink/img/c3RhdGVEaWFncmFtLXYyCnMxIDogKDEpIFRyYW5zcGxhbnQKczIgOiAoMikgUmVjCnMzIDogKDMpIEFFCnM0IDogKDQpIEFFICYgUmVjCnM1IDogKDUpIFJlbGFwc2UKczYgOiAoNikgRGVhdGgKczEgLS0+IHMyOiA3ODUgCnMxIC0tPiBzMzogOTA3IApzMSAtLT4gczU6IDk1IApzMSAtLT4gczY6IDE2MCAKczIgLS0+IHM0OiAyMjcgCnMyIC0tPiBzNTogMTEyIApzMiAtLT4gczY6IDM5IApzMyAtLT4gczQ6IDQzMyAKczMgLS0+IHM1OiA1NiAKczMgLS0+IHM2OiAxOTcgCnM0IC0tPiBzNTogMTA3IApzNCAtLT4gczY6IDEzNyAKCg==\"/>"
      ],
      "text/plain": [
       "<IPython.core.display.Image object>"
      ]
     },
     "metadata": {},
     "output_type": "display_data"
    }
   ],
   "source": [
    "from pymsm.survival_tree_fitter import SurvivalTreeWrapper\n",
    "\n",
    "\n",
    "terminal_states = [5, 6]\n",
    "\n",
    "multi_state_model = MultiStateModel(\n",
    "    dataset=competing_risk_dataset,\n",
    "    terminal_states=terminal_states,\n",
    "    covariate_names=covariate_cols,\n",
    "    event_specific_fitter=SurvivalTreeWrapper,\n",
    "    competing_risk_data_format=True,\n",
    "    state_labels=state_labels\n",
    ")\n",
    "\n",
    "\n",
    "multi_state_model.fit()"
   ]
  },
  {
   "cell_type": "markdown",
   "metadata": {},
   "source": [
    "# Single patient statistics"
   ]
  },
  {
   "cell_type": "code",
   "execution_count": 14,
   "metadata": {},
   "outputs": [
    {
     "name": "stderr",
     "output_type": "stream",
     "text": [
      "100%|██████████| 1000/1000 [00:09<00:00, 109.50it/s]\n"
     ]
    }
   ],
   "source": [
    "# Run MC for a sample single patient\n",
    "mc_paths = multi_state_model.run_monte_carlo_simulation(\n",
    "    sample_covariates=competing_risk_dataset.loc[0, covariate_cols].values,\n",
    "    origin_state=1,\n",
    "    current_time=0,\n",
    "    n_random_samples=1000,\n",
    "    max_transitions=10,\n",
    ")\n"
   ]
  },
  {
   "cell_type": "code",
   "execution_count": 15,
   "metadata": {},
   "outputs": [
    {
     "name": "stdout",
     "output_type": "stream",
     "text": [
      "Probabilty of Rec = 0.394\n",
      "Probabilty of AE = 0.37\n",
      "Probabilty of AE & Rec = 0.555\n",
      "Probabilty of Relapse = 0.239\n",
      "Probabilty of Death = 0.761\n",
      "Probabilty of any terminal state = 1.0\n"
     ]
    }
   ],
   "source": [
    "all_states = competing_risk_dataset[\"target_state\"].unique()\n",
    "# Probability of visiting any of the states\n",
    "for state in all_states:\n",
    "    if state == 0:\n",
    "        continue\n",
    "    print(\n",
    "        f\"Probabilty of {state_labels[state]} = {prob_visited_states(mc_paths, states=[state])}\"\n",
    "    )\n",
    "\n",
    "# Probability of terminal states - Death and Relapse\n",
    "print(\n",
    "    f\"Probabilty of any terminal state = {prob_visited_states(mc_paths, states=multi_state_model.terminal_states)}\"\n",
    ")"
   ]
  },
  {
   "cell_type": "code",
   "execution_count": 16,
   "metadata": {},
   "outputs": [
    {
     "data": {
      "text/html": [
       "<div>\n",
       "<style scoped>\n",
       "    .dataframe tbody tr th:only-of-type {\n",
       "        vertical-align: middle;\n",
       "    }\n",
       "\n",
       "    .dataframe tbody tr th {\n",
       "        vertical-align: top;\n",
       "    }\n",
       "\n",
       "    .dataframe thead th {\n",
       "        text-align: right;\n",
       "    }\n",
       "</style>\n",
       "<table border=\"1\" class=\"dataframe\">\n",
       "  <thead>\n",
       "    <tr style=\"text-align: right;\">\n",
       "      <th></th>\n",
       "      <th>time_in_state_mean</th>\n",
       "      <th>time_in_state_std</th>\n",
       "      <th>time_in_state_median</th>\n",
       "      <th>time_in_state_min</th>\n",
       "      <th>time_in_state_max</th>\n",
       "      <th>time_in_state_quantile_0.1</th>\n",
       "      <th>time_in_state_quantile_0.25</th>\n",
       "      <th>time_in_state_quantile_0.75</th>\n",
       "      <th>time_in_state_quantile_0.9</th>\n",
       "    </tr>\n",
       "  </thead>\n",
       "  <tbody>\n",
       "    <tr>\n",
       "      <th>Rec</th>\n",
       "      <td>5.868002</td>\n",
       "      <td>10.814552</td>\n",
       "      <td>0.000000</td>\n",
       "      <td>0.0</td>\n",
       "      <td>73.999936</td>\n",
       "      <td>0.0</td>\n",
       "      <td>0.0</td>\n",
       "      <td>8.250040</td>\n",
       "      <td>20.999915</td>\n",
       "    </tr>\n",
       "    <tr>\n",
       "      <th>AE</th>\n",
       "      <td>34.099998</td>\n",
       "      <td>61.212106</td>\n",
       "      <td>0.000000</td>\n",
       "      <td>0.0</td>\n",
       "      <td>316.000005</td>\n",
       "      <td>0.0</td>\n",
       "      <td>0.0</td>\n",
       "      <td>33.249942</td>\n",
       "      <td>135.099984</td>\n",
       "    </tr>\n",
       "    <tr>\n",
       "      <th>AE &amp; Rec</th>\n",
       "      <td>101.463986</td>\n",
       "      <td>165.080015</td>\n",
       "      <td>42.999949</td>\n",
       "      <td>0.0</td>\n",
       "      <td>1004.999976</td>\n",
       "      <td>0.0</td>\n",
       "      <td>0.0</td>\n",
       "      <td>130.999944</td>\n",
       "      <td>288.099975</td>\n",
       "    </tr>\n",
       "  </tbody>\n",
       "</table>\n",
       "</div>"
      ],
      "text/plain": [
       "          time_in_state_mean  time_in_state_std  time_in_state_median  \\\n",
       "Rec                 5.868002          10.814552              0.000000   \n",
       "AE                 34.099998          61.212106              0.000000   \n",
       "AE & Rec          101.463986         165.080015             42.999949   \n",
       "\n",
       "          time_in_state_min  time_in_state_max  time_in_state_quantile_0.1  \\\n",
       "Rec                     0.0          73.999936                         0.0   \n",
       "AE                      0.0         316.000005                         0.0   \n",
       "AE & Rec                0.0        1004.999976                         0.0   \n",
       "\n",
       "          time_in_state_quantile_0.25  time_in_state_quantile_0.75  \\\n",
       "Rec                               0.0                     8.250040   \n",
       "AE                                0.0                    33.249942   \n",
       "AE & Rec                          0.0                   130.999944   \n",
       "\n",
       "          time_in_state_quantile_0.9  \n",
       "Rec                        20.999915  \n",
       "AE                        135.099984  \n",
       "AE & Rec                  288.099975  "
      ]
     },
     "execution_count": 16,
     "metadata": {},
     "output_type": "execute_result"
    }
   ],
   "source": [
    "# Stats for times at states\n",
    "dfs = []\n",
    "for state in all_states:\n",
    "    if state == 0 or state in terminal_states:\n",
    "        continue\n",
    "    dfs.append(\n",
    "        pd.DataFrame(\n",
    "            data=stats_total_time_at_states(mc_paths, states=[state]),\n",
    "            index=[state_labels[state]],\n",
    "        )\n",
    "    )\n",
    "pd.concat(dfs)\n"
   ]
  },
  {
   "cell_type": "markdown",
   "metadata": {},
   "source": [
    "# Multiple runs stats"
   ]
  },
  {
   "cell_type": "code",
   "execution_count": 17,
   "metadata": {},
   "outputs": [
    {
     "name": "stdout",
     "output_type": "stream",
     "text": [
      "timestep_matrix\n",
      " [[1 2 2 3 0]\n",
      " [1 1 2 2 3]\n",
      " [1 1 5 5 5]]\n",
      "state_timestep_probs\n",
      "\n"
     ]
    },
    {
     "data": {
      "text/plain": [
       "{1: array([1.        , 0.66666667, 0.        , 0.        , 0.        ]),\n",
       " 2: array([0.        , 0.33333333, 0.66666667, 0.33333333, 0.        ]),\n",
       " 3: array([0.        , 0.        , 0.        , 0.33333333, 0.5       ]),\n",
       " 5: array([0.        , 0.        , 0.33333333, 0.33333333, 0.5       ])}"
      ]
     },
     "execution_count": 17,
     "metadata": {},
     "output_type": "execute_result"
    },
    {
     "data": {
      "image/png": "[encoded data removed]",
      "text/plain": [
       "<Figure size 432x288 with 1 Axes>"
      ]
     },
     "metadata": {
      "needs_background": "light"
     },
     "output_type": "display_data"
    }
   ],
   "source": [
    "# Test scenario\n",
    "\n",
    "test_paths = [\n",
    "    PathObject(states=[1, 2, 3], time_at_each_state=[1, 2, 1]),\n",
    "    PathObject(states=[1, 2, 3], time_at_each_state=[2, 2, 1]),\n",
    "    PathObject(states=[1, 5], time_at_each_state=[2]),\n",
    "]\n",
    "true_timestep_matrix = np.array([[1, 2, 2, 3, 0], [1, 1, 2, 2, 3], [1, 1, 5, 5, 5]])\n",
    "max_timestep = 5\n",
    "timestep_matrix = paths_to_timestep_matrix(test_paths, max_timestep)\n",
    "print(\"timestep_matrix\\n\", timestep_matrix)\n",
    "\n",
    "state_timestep_probs = get_state_timestep_probs(timestep_matrix)\n",
    "print(\"state_timestep_probs\\n\")\n",
    "\n",
    "\n",
    "stackplot_state_timesteps(state_timestep_probs, order_top=[5], order_bottom=[1, 2, 3,])\n",
    "\n",
    "state_timestep_probs\n"
   ]
  },
  {
   "cell_type": "code",
   "execution_count": 19,
   "metadata": {},
   "outputs": [
    {
     "data": {
      "image/png": "[encoded data removed]",
      "text/plain": [
       "<Figure size 432x288 with 1 Axes>"
      ]
     },
     "metadata": {
      "needs_background": "light"
     },
     "output_type": "display_data"
    }
   ],
   "source": [
    "max_timestep = 500\n",
    "stackplot_state_timesteps_from_paths(\n",
    "    mc_paths, max_timestep, order_top=[1, 2, 3, 4], order_bottom=[5, 6]\n",
    ")"
   ]
  }
 ],
 "metadata": {
  "interpreter": {
   "hash": "75245bec35210ab08e7172c93719ec93a5ec38f67703239b6585339df04b4818"
  },
  "kernelspec": {
   "display_name": "Python 3 (ipykernel)",
   "language": "python",
   "name": "python3"
  },
  "language_info": {
   "codemirror_mode": {
    "name": "ipython",
    "version": 3
   },
   "file_extension": ".py",
   "mimetype": "text/x-python",
   "name": "python",
   "nbconvert_exporter": "python",
   "pygments_lexer": "ipython3",
   "version": "3.9.0"
  }
 },
 "nbformat": 4,
 "nbformat_minor": 2
}
