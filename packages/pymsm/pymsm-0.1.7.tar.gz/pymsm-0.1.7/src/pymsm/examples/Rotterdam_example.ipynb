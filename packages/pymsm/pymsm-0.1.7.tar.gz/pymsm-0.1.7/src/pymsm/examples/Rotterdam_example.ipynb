{
 "cells": [
  {
   "cell_type": "markdown",
   "id": "79ac40ad",
   "metadata": {},
   "source": [
    "# Multi-State Model - rotterdam example"
   ]
  },
  {
   "cell_type": "markdown",
   "id": "c0ab3f1c",
   "metadata": {},
   "source": [
    "## In this notebook  \n",
    "\n",
    "This notebook provides a first example of using the pymsm package, using the rotterdam dataset."
   ]
  },
  {
   "cell_type": "markdown",
   "id": "fed1559e",
   "metadata": {},
   "source": [
    "## Rotterdam dataset"
   ]
  },
  {
   "cell_type": "markdown",
   "id": "d6ec25aa",
   "metadata": {},
   "source": [
    "The rotterdam data set includes 2982 primary breast cancers patients whose data records were included in the Rotterdam tumor bank. Patients were followed for a time ranging between 1 to 231 months (median 107 months), and outcomes were defined as disease recurrence or death from any cause.  \n",
    "\n",
    "This data includes 2982 patients, with 15 covariates, and was extracted from R 'survival' package.  \n",
    "For more information see page 113 in https://cran.r-project.org/web/packages/survival/survival.pdf."
   ]
  },
  {
   "cell_type": "markdown",
   "id": "66fd50a7",
   "metadata": {},
   "source": [
    "Let’s load the dataset, which holds the transitions for each patient between the three states as decribed in the graph below"
   ]
  },
  {
   "cell_type": "code",
   "execution_count": 1,
   "id": "a506cdd6",
   "metadata": {},
   "outputs": [
    {
     "data": {
      "text/html": [
       "<img src=\"https://mermaid.ink/img/c3RhdGVEaWFncmFtLXYyCnMxIDogKDEpIFByaW1hcnkgc3VyZ2VyeQpzMiA6ICgyKSBEaXNlYXNlIHJlY3VycmVuY2UKczMgOiAoMykgRGVhdGgKczEgLS0+IHMyOiAxNTE4IApzMSAtLT4gczM6IDE5NSAKczIgLS0+IHMzOiAxMDc3IAoK\"/>"
      ],
      "text/plain": [
       "<IPython.core.display.Image object>"
      ]
     },
     "metadata": {},
     "output_type": "display_data"
    }
   ],
   "source": [
    "from pymsm.datasets import prep_rotterdam, plot_rotterdam\n",
    "dataset, state_labels = prep_rotterdam()\n",
    "plot_rotterdam(dataset, state_labels)\n"
   ]
  },
  {
   "cell_type": "code",
   "execution_count": 2,
   "id": "8b0c44a4",
   "metadata": {},
   "outputs": [
    {
     "name": "stdout",
     "output_type": "stream",
     "text": [
      "dataset type: <class 'list'>\n",
      "elemnets type: <class 'pymsm.multi_state_competing_risks_model.PathObject'>\n"
     ]
    }
   ],
   "source": [
    "print('dataset type: {}'.format(type(dataset)))\n",
    "print('elemnets type: {}'.format(type(dataset[0])))"
   ]
  },
  {
   "cell_type": "markdown",
   "id": "06dbe190",
   "metadata": {},
   "source": [
    "The dataset is a list of elements from class PathObject. Each PathObject in the list corresponds to a single sample’s (i.e “patient’s”) observed path.\n",
    "\n",
    "Let’s look at one such object in detail:"
   ]
  },
  {
   "cell_type": "code",
   "execution_count": 3,
   "id": "6685dc92",
   "metadata": {},
   "outputs": [
    {
     "name": "stdout",
     "output_type": "stream",
     "text": [
      "Sample id: 1326\n",
      "States: [1, 2, 3]\n",
      "Transition times: [873.999987, 1672.0000989999999]\n",
      "Covariates:\n",
      "year      1990\n",
      "age         44\n",
      "meno         0\n",
      "grade        3\n",
      "nodes       17\n",
      "pgr         40\n",
      "er           7\n",
      "hormon       0\n",
      "chemo        1\n",
      "Name: 1314, dtype: object\n"
     ]
    }
   ],
   "source": [
    "sample_path = dataset[1314]\n",
    "sample_path.print_path()"
   ]
  },
  {
   "cell_type": "markdown",
   "id": "71874bf9",
   "metadata": {},
   "source": [
    "We see the following attributes:\n",
    "\n",
    "1. *sample_id* : (optional) a unique identifier of the patient.\n",
    "\n",
    "2. *states* : These are the observed states the sample visited, encoded as positive integers. Here we can see the patient moved from state 1 to 2, ending with the only terminal state (state 3).\n",
    "\n",
    "3. *time_at_each_state* : These are the observed times spent at each state.\n",
    "\n",
    "4. *covariates* : These are the patient’s covariates\n",
    "    * “year”\n",
    "    * \"age\"\n",
    "    * \"meno\"\n",
    "    * \"grade\"\n",
    "    * \"nodes\"\n",
    "    * \"pge\"\n",
    "    * \"er\"\n",
    "    * \"hormone\"\n",
    "    * \"chemo\"\n",
    "\n",
    "Note: if the last state is a terminal state, then the vector of times should be shorter than the vector of states by 1. Conversely, if the last state is not a terminal state, then the length of the vector of times should be the same as that of the states. In such a case, the sample is inferred to be right censored."
   ]
  },
  {
   "cell_type": "markdown",
   "id": "f62ce491",
   "metadata": {},
   "source": [
    "## Updating Covariates Over Time"
   ]
  },
  {
   "cell_type": "markdown",
   "id": "f1dea7a7",
   "metadata": {},
   "source": [
    "In order to update the patient covariates over time, we need to define a state-transition function.\n",
    "In this simple case, the covariates do not change and the function is trivial"
   ]
  },
  {
   "cell_type": "code",
   "execution_count": 4,
   "id": "4dc0d27d",
   "metadata": {},
   "outputs": [],
   "source": [
    "def default_update_covariates_function(covariates_entering_origin_state, origin_state=None, target_state=None,\n",
    "                                       time_at_origin=None, abs_time_entry_to_target_state=None):\n",
    "    return covariates_entering_origin_state"
   ]
  },
  {
   "cell_type": "markdown",
   "id": "f5ac2ec4",
   "metadata": {},
   "source": [
    "You can define any function, as long as it recieves the following parameter types (in this order): \n",
    "1. pandas Series (sample covariates when entering the origin state)\n",
    "2. int (origin state number)\n",
    "3. int (target state number)\n",
    "4. float (time spent at origin state)\n",
    "5. float (absolute time of entry to target state)\n",
    "\n",
    "If some of the parameters are not used in the function, use a default value of None, as in the example above."
   ]
  },
  {
   "cell_type": "markdown",
   "id": "4f58bee1",
   "metadata": {},
   "source": [
    "## Defining terminal states"
   ]
  },
  {
   "cell_type": "code",
   "execution_count": 5,
   "id": "7eede68f",
   "metadata": {},
   "outputs": [],
   "source": [
    "terminal_states = [3]"
   ]
  },
  {
   "cell_type": "markdown",
   "id": "11c9eed8",
   "metadata": {},
   "source": [
    "## Fitting the model"
   ]
  },
  {
   "cell_type": "markdown",
   "id": "7217fdc4",
   "metadata": {},
   "source": [
    "Import and init the model"
   ]
  },
  {
   "cell_type": "code",
   "execution_count": 6,
   "id": "e9bcd517",
   "metadata": {},
   "outputs": [],
   "source": [
    "from pymsm.multi_state_competing_risks_model import MultiStateModel\n",
    "\n",
    "multi_state_model = MultiStateModel(\n",
    "    dataset=dataset, \n",
    "    terminal_states=terminal_states, \n",
    "    update_covariates_fn=default_update_covariates_function,\n",
    "    state_labels=state_labels\n",
    ")"
   ]
  },
  {
   "cell_type": "markdown",
   "id": "ac1221b2",
   "metadata": {},
   "source": [
    "Fit the model"
   ]
  },
  {
   "cell_type": "code",
   "execution_count": 7,
   "id": "bb9f7bd3",
   "metadata": {},
   "outputs": [
    {
     "name": "stdout",
     "output_type": "stream",
     "text": [
      "Fitting Model at State: 1\n",
      ">>> Fitting Transition to State: 3, n events: 195\n",
      ">>> Fitting Transition to State: 2, n events: 1518\n",
      "Fitting Model at State: 2\n",
      ">>> Fitting Transition to State: 3, n events: 1077\n"
     ]
    },
    {
     "data": {
      "text/html": [
       "<img src=\"https://mermaid.ink/img/c3RhdGVEaWFncmFtLXYyCnMxIDogKDEpIFByaW1hcnkgc3VyZ2VyeQpzMiA6ICgyKSBEaXNlYXNlIHJlY3VycmVuY2UKczMgOiAoMykgRGVhdGgKczEgLS0+IHMyOiAxNTE4IApzMSAtLT4gczM6IDE5NSAKczIgLS0+IHMzOiAxMDc3IAoK\"/>"
      ],
      "text/plain": [
       "<IPython.core.display.Image object>"
      ]
     },
     "metadata": {},
     "output_type": "display_data"
    }
   ],
   "source": [
    "multi_state_model.fit()"
   ]
  },
  {
   "cell_type": "markdown",
   "id": "dbedb9d2",
   "metadata": {},
   "source": [
    "## Making predictions  \n",
    "\n",
    "Predictions are done via monte carlo simulation. Initial patient covariates, along with the patient’s current state are supplied. The next states are sequentially sampled via the model parameters. The process concludes when the patient arrives at a terminal state or the number of transitions exceeds the specified maximum."
   ]
  },
  {
   "cell_type": "code",
   "execution_count": 8,
   "id": "fe227313",
   "metadata": {},
   "outputs": [
    {
     "name": "stderr",
     "output_type": "stream",
     "text": [
      "100%|██████████| 100/100 [00:42<00:00,  2.36it/s]\n"
     ]
    }
   ],
   "source": [
    "import numpy as np\n",
    "\n",
    "all_mcs = multi_state_model.run_monte_carlo_simulation(\n",
    "    # the current covariates of the patient.\n",
    "    # especially important to use updated covariates in case of\n",
    "    # time varying covariates along with a prediction from a point in time\n",
    "    # during hospitalization\n",
    "    sample_covariates=dataset[0].covariates.values,\n",
    "    # in this setting samples start at state 1, but\n",
    "    # in general this can be any non-terminal state which\n",
    "    # then serves as the simulation starting point\n",
    "    origin_state=1,\n",
    "    # in this setting we start predictions from time 0, but\n",
    "    # predictions can be made from any point in time during the\n",
    "    # patient's trajectory\n",
    "    current_time=0,\n",
    "    # If there is an observed upper limit on the number of transitions, we recommend\n",
    "    # setting this value to that limit in order to prevent generation of outlier paths\n",
    "    max_transitions=2,\n",
    "    # the number of paths to simulate:\n",
    "    n_random_samples=100,\n",
    ")\n"
   ]
  },
  {
   "cell_type": "markdown",
   "id": "35931549",
   "metadata": {},
   "source": [
    "## The Simulation Results Format\n",
    "\n",
    "Each run is described by a list of states and times spent at each state (same format as the dataset the model is fit to).  \n",
    "Below are two samples:  "
   ]
  },
  {
   "cell_type": "code",
   "execution_count": 9,
   "id": "e92978c8",
   "metadata": {},
   "outputs": [
    {
     "name": "stdout",
     "output_type": "stream",
     "text": [
      "[1, 2, 3]\n",
      "[5471.999838, 513.0002460000005]\n",
      "[1, 2, 3]\n",
      "[2205.000092, 3962.9997949999997]\n"
     ]
    }
   ],
   "source": [
    "mc = all_mcs[0]\n",
    "print(mc.states)\n",
    "print(mc.time_at_each_state)\n",
    "\n",
    "mc = all_mcs[1]\n",
    "print(mc.states)\n",
    "print(mc.time_at_each_state)"
   ]
  }
 ],
 "metadata": {
  "kernelspec": {
   "display_name": "Python 3 (ipykernel)",
   "language": "python",
   "name": "python3"
  },
  "language_info": {
   "codemirror_mode": {
    "name": "ipython",
    "version": 3
   },
   "file_extension": ".py",
   "mimetype": "text/x-python",
   "name": "python",
   "nbconvert_exporter": "python",
   "pygments_lexer": "ipython3",
   "version": "3.9.1"
  }
 },
 "nbformat": 4,
 "nbformat_minor": 5
}
