{
 "cells": [
  {
   "cell_type": "code",
   "execution_count": 1,
   "id": "09dda63c",
   "metadata": {},
   "outputs": [
    {
     "name": "stdout",
     "output_type": "stream",
     "text": [
      "-- OK! You are using python 3\n",
      "Missing library libtiff, Please install: pylibtiff if you need open some tiff images\n",
      "-- warning: module Image or PIL is not installed, but only used for templateimagematching\n",
      "Number of CPUs available :  8\n"
     ]
    }
   ],
   "source": [
    "import numpy as np\n",
    "import datetime, time\n",
    "from multiprocess import Process, Queue, cpu_count\n",
    "import multiprocess as multip\n",
    "import os, re, glob\n",
    "import _pickle as cPickle\n",
    "from PyQt5 import QtCore\n",
    "\n",
    "import LaueTools.dict_LaueTools as dictLT\n",
    "import LaueTools.IOLaueTools as IOLT\n",
    "import LaueTools.generaltools as GT\n",
    "import LaueTools.CrystalParameters as CP\n",
    "import LaueTools.lauecore as LT\n",
    "import LaueTools.LaueGeometry as Lgeo\n",
    "import LaueTools.readmccd as RMCCD\n",
    "import LaueTools.FitOrient as FitO\n",
    "import LaueTools.findorient as FindO\n",
    "from fast_histogram import histogram1d\n",
    "import networkx as nx\n",
    "import h5py\n",
    "import time\n",
    "import ipywidgets as widgets\n",
    "\n",
    "tensorflow_keras = True\n",
    "try:\n",
    "    from keras.models import model_from_json\n",
    "except:\n",
    "    tensorflow_keras = False\n",
    "\n",
    "from utils_lauenn import Symmetry, Lattice, SGLattice, chunker_list,\\\n",
    "                            rot_mat_to_euler, global_plots, save_sst\n",
    "\n",
    "cpu_count_user = 8#cpu_count()\n",
    "ncpu = cpu_count_user\n",
    "total_progress = 0\n",
    "#timermp1212 = QtCore.QTimer()\n",
    "progress = widgets.FloatProgress(value=0.0, min=0.0, max=1.0)\n",
    "max_progress = 1\n",
    "\n",
    "print(\"Number of CPUs available : \", ncpu)"
   ]
  },
  {
   "cell_type": "code",
   "execution_count": null,
   "id": "863eb00c",
   "metadata": {},
   "outputs": [],
   "source": []
  },
  {
   "cell_type": "code",
   "execution_count": null,
   "id": "4ff9f01f",
   "metadata": {},
   "outputs": [],
   "source": []
  },
  {
   "cell_type": "code",
   "execution_count": null,
   "id": "38f35f19",
   "metadata": {},
   "outputs": [],
   "source": []
  },
  {
   "cell_type": "code",
   "execution_count": null,
   "id": "e7bc9a66",
   "metadata": {},
   "outputs": [],
   "source": []
  },
  {
   "cell_type": "code",
   "execution_count": null,
   "id": "be0bb648",
   "metadata": {},
   "outputs": [],
   "source": []
  },
  {
   "cell_type": "code",
   "execution_count": null,
   "id": "92bf559f",
   "metadata": {},
   "outputs": [],
   "source": []
  },
  {
   "cell_type": "code",
   "execution_count": null,
   "id": "12b5e689",
   "metadata": {},
   "outputs": [],
   "source": []
  },
  {
   "cell_type": "code",
   "execution_count": null,
   "id": "5ee22d1d",
   "metadata": {},
   "outputs": [],
   "source": []
  },
  {
   "cell_type": "code",
   "execution_count": null,
   "id": "c2a43ff5",
   "metadata": {},
   "outputs": [],
   "source": []
  },
  {
   "cell_type": "code",
   "execution_count": null,
   "id": "4c736ead",
   "metadata": {},
   "outputs": [],
   "source": []
  },
  {
   "cell_type": "code",
   "execution_count": null,
   "id": "a33a2c94",
   "metadata": {},
   "outputs": [],
   "source": []
  }
 ],
 "metadata": {
  "kernelspec": {
   "display_name": "Python 3 (ipykernel)",
   "language": "python",
   "name": "python3"
  },
  "language_info": {
   "codemirror_mode": {
    "name": "ipython",
    "version": 3
   },
   "file_extension": ".py",
   "mimetype": "text/x-python",
   "name": "python",
   "nbconvert_exporter": "python",
   "pygments_lexer": "ipython3",
   "version": "3.9.12"
  }
 },
 "nbformat": 4,
 "nbformat_minor": 5
}
