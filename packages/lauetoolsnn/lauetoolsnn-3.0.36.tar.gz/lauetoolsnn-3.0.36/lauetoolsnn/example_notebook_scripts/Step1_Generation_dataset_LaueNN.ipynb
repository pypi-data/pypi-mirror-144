{
 "cells": [
  {
   "cell_type": "markdown",
   "id": "b90dda43",
   "metadata": {},
   "source": [
    "# Notebook script for generation of training dataset (supports single and two phase material)\n",
    "\n",
    "## For case of more than two phase, the code below can be adapted\n",
    "\n",
    "## Different steps of data generation is outlined in this notebook (LaueToolsNN GUI does the same thing)\n",
    "\n",
    "### Define material of interest\n",
    "### Generate class hkl data for Neural Network model (these are the output neurons)\n",
    "### Clean up generated dataset"
   ]
  },
  {
   "cell_type": "code",
   "execution_count": 1,
   "id": "879b9b5e",
   "metadata": {},
   "outputs": [
    {
     "ename": "ModuleNotFoundError",
     "evalue": "No module named 'fast_histogram'",
     "output_type": "error",
     "traceback": [
      "\u001b[1;31m---------------------------------------------------------------------------\u001b[0m",
      "\u001b[1;31mModuleNotFoundError\u001b[0m                       Traceback (most recent call last)",
      "\u001b[1;32m~\\AppData\\Local\\Temp/ipykernel_19104/1805392092.py\u001b[0m in \u001b[0;36m<module>\u001b[1;34m\u001b[0m\n\u001b[0;32m      6\u001b[0m \u001b[1;32mtry\u001b[0m\u001b[1;33m:\u001b[0m\u001b[1;33m\u001b[0m\u001b[1;33m\u001b[0m\u001b[0m\n\u001b[1;32m----> 7\u001b[1;33m     \u001b[1;32mfrom\u001b[0m \u001b[0mlauetoolsnn\u001b[0m\u001b[1;33m.\u001b[0m\u001b[0mutils_lauenn\u001b[0m \u001b[1;32mimport\u001b[0m \u001b[0mgenerate_classHKL\u001b[0m\u001b[1;33m,\u001b[0m \u001b[0mgenerate_dataset\u001b[0m\u001b[1;33m,\u001b[0m\u001b[0;31m \u001b[0m\u001b[0;31m\\\u001b[0m\u001b[1;33m\u001b[0m\u001b[1;33m\u001b[0m\u001b[0m\n\u001b[0m\u001b[0;32m      8\u001b[0m                                 \u001b[0mSGLattice\u001b[0m\u001b[1;33m,\u001b[0m \u001b[0marray_generator\u001b[0m\u001b[1;33m,\u001b[0m \u001b[0mrmv_freq_class\u001b[0m\u001b[1;33m,\u001b[0m\u001b[0;31m \u001b[0m\u001b[0;31m\\\u001b[0m\u001b[1;33m\u001b[0m\u001b[1;33m\u001b[0m\u001b[0m\n",
      "\u001b[1;31mModuleNotFoundError\u001b[0m: No module named 'lauetoolsnn'",
      "\nDuring handling of the above exception, another exception occurred:\n",
      "\u001b[1;31mModuleNotFoundError\u001b[0m                       Traceback (most recent call last)",
      "\u001b[1;32m~\\AppData\\Local\\Temp/ipykernel_19104/1805392092.py\u001b[0m in \u001b[0;36m<module>\u001b[1;34m\u001b[0m\n\u001b[0;32m     14\u001b[0m     \u001b[1;32mimport\u001b[0m \u001b[0msys\u001b[0m\u001b[1;33m\u001b[0m\u001b[1;33m\u001b[0m\u001b[0m\n\u001b[0;32m     15\u001b[0m     \u001b[0msys\u001b[0m\u001b[1;33m.\u001b[0m\u001b[0mpath\u001b[0m\u001b[1;33m.\u001b[0m\u001b[0mappend\u001b[0m\u001b[1;33m(\u001b[0m\u001b[1;34mr\"C:\\Users\\purushot\\Desktop\\github_version_simple\\lauetoolsnn\"\u001b[0m\u001b[1;33m)\u001b[0m\u001b[1;33m\u001b[0m\u001b[1;33m\u001b[0m\u001b[0m\n\u001b[1;32m---> 16\u001b[1;33m     \u001b[1;32mfrom\u001b[0m \u001b[0mutils_lauenn\u001b[0m \u001b[1;32mimport\u001b[0m \u001b[0mgenerate_classHKL\u001b[0m\u001b[1;33m,\u001b[0m \u001b[0mgenerate_dataset\u001b[0m\u001b[1;33m,\u001b[0m\u001b[0;31m \u001b[0m\u001b[0;31m\\\u001b[0m\u001b[1;33m\u001b[0m\u001b[1;33m\u001b[0m\u001b[0m\n\u001b[0m\u001b[0;32m     17\u001b[0m                         \u001b[0mSGLattice\u001b[0m\u001b[1;33m,\u001b[0m \u001b[0marray_generator\u001b[0m\u001b[1;33m,\u001b[0m \u001b[0mrmv_freq_class\u001b[0m\u001b[1;33m,\u001b[0m\u001b[0;31m \u001b[0m\u001b[0;31m\\\u001b[0m\u001b[1;33m\u001b[0m\u001b[1;33m\u001b[0m\u001b[0m\n\u001b[0;32m     18\u001b[0m                         \u001b[0marray_generator_verify\u001b[0m\u001b[1;33m,\u001b[0m \u001b[0mvali_array\u001b[0m\u001b[1;33m,\u001b[0m \u001b[0mget_material_detail\u001b[0m\u001b[1;33m\u001b[0m\u001b[1;33m\u001b[0m\u001b[0m\n",
      "\u001b[1;32m~\\Desktop\\github_version_simple\\lauetoolsnn\\utils_lauenn.py\u001b[0m in \u001b[0;36m<module>\u001b[1;34m\u001b[0m\n\u001b[0;32m     97\u001b[0m \u001b[1;31m## for faster binning of histogram\u001b[0m\u001b[1;33m\u001b[0m\u001b[1;33m\u001b[0m\u001b[0m\n\u001b[0;32m     98\u001b[0m \u001b[1;31m## C version of hist\u001b[0m\u001b[1;33m\u001b[0m\u001b[1;33m\u001b[0m\u001b[0m\n\u001b[1;32m---> 99\u001b[1;33m \u001b[1;32mfrom\u001b[0m \u001b[0mfast_histogram\u001b[0m \u001b[1;32mimport\u001b[0m \u001b[0mhistogram1d\u001b[0m\u001b[1;33m\u001b[0m\u001b[1;33m\u001b[0m\u001b[0m\n\u001b[0m\u001b[0;32m    100\u001b[0m \u001b[1;32mimport\u001b[0m \u001b[0mh5py\u001b[0m\u001b[1;33m\u001b[0m\u001b[1;33m\u001b[0m\u001b[0m\n\u001b[0;32m    101\u001b[0m \u001b[1;33m\u001b[0m\u001b[0m\n",
      "\u001b[1;31mModuleNotFoundError\u001b[0m: No module named 'fast_histogram'"
     ]
    }
   ],
   "source": [
    "## Import modules used for this Notebook\n",
    "import numpy as np\n",
    "import os\n",
    "\n",
    "## if LaueToolsNN is properly installed\n",
    "try:\n",
    "    from lauetoolsnn.utils_lauenn import generate_classHKL, generate_dataset, \\\n",
    "                                SGLattice, array_generator, rmv_freq_class, \\\n",
    "                                array_generator_verify, vali_array, get_material_detail\n",
    "    from lauetoolsnn.lauetools import dict_LaueTools as dictLT\n",
    "    from lauetoolsnn.lauetools import CrystalParameters as CP\n",
    "except:\n",
    "    # else import from a path where LaueToolsNN files are\n",
    "    import sys\n",
    "    sys.path.append(r\"C:\\Users\\purushot\\Desktop\\github_version_simple\\lauetoolsnn\")\n",
    "    from utils_lauenn import generate_classHKL, generate_dataset, \\\n",
    "                        SGLattice, array_generator, rmv_freq_class, \\\n",
    "                        array_generator_verify, vali_array, get_material_detail\n",
    "    sys.path.append(r\"C:\\Users\\purushot\\Desktop\\github_version_simple\\lauetoolsnn\\lauetools\")\n",
    "    import dict_LaueTools as dictLT\n",
    "    import CrystalParameters as CP"
   ]
  },
  {
   "cell_type": "markdown",
   "id": "ad431ffc",
   "metadata": {},
   "source": [
    "## step 1: define material and other parameters for simulating Laue patterns"
   ]
  },
  {
   "cell_type": "code",
   "execution_count": null,
   "id": "ac3284dc",
   "metadata": {},
   "outputs": [],
   "source": [
    "# =============================================================================\n",
    "## User Input dictionary with parameters\n",
    "## In case of only one phase/material, keep same value for material_ and material1_ key\n",
    "# =============================================================================\n",
    "input_params = {\n",
    "                \"material_\": \"Cu\",             ## same key as used in dict_LaueTools\n",
    "                \"material1_\": \"Cu\",            ## same key as used in dict_LaueTools\n",
    "                \"prefix\" : \"\",                 ## prefix for the folder to be created for training dataset\n",
    "                \"symmetry\": \"cubic\",           ## crystal symmetry of material_\n",
    "                \"symmetry1\": \"cubic\",          ## crystal symmetry of material1_\n",
    "                \"SG\": 225,                     ## Space group of material_ (None if not known)\n",
    "                \"SG1\": 225,                    ## Space group of material1_ (None if not known)\n",
    "                \"hkl_max_identify\" : 5,        ## Maximum hkl index to classify in a Laue pattern\n",
    "                \"maximum_angle_to_search\" : 90,## Angle of radial distribution to reconstruct the histogram (in deg)\n",
    "                \"step_for_binning\" : 0.1,      ## bin widht of angular radial distribution in degree\n",
    "                \"nb_grains_per_lp\" : 5,        ## max grains to be generated in a Laue Image\n",
    "                \"grains_nb_simulate\" : 100,    ## Number of orientations to generate (takes advantage of crystal symmetry)\n",
    "                ## Detector parameters (roughly) of the Experimental setup\n",
    "                ## Sample-detector distance, X center, Y center, two detector angles\n",
    "                \"detectorparameters\" :  [79.553,979.32,932.31,0.37,0.447], \n",
    "                \"pixelsize\" : 0.0734,          ## Detector pixel size\n",
    "                \"dim1\":2018,                   ## Dimensions of detector in pixels\n",
    "                \"dim2\":2016,\n",
    "                \"emin\" : 5,                    ## Minimum and maximum energy to use for simulating Laue Patterns\n",
    "                \"emax\" : 22,\n",
    "                }"
   ]
  },
  {
   "cell_type": "markdown",
   "id": "11a3f3b0",
   "metadata": {},
   "source": [
    "## Step 2: Get material parameters \n",
    "### Generates a folder with material name and gets material unit cell parameters and symmetry object from the get_material_detail function"
   ]
  },
  {
   "cell_type": "code",
   "execution_count": null,
   "id": "98f45b21",
   "metadata": {},
   "outputs": [],
   "source": [
    "material_= input_params[\"material_\"]\n",
    "material1_= input_params[\"material1_\"]\n",
    "n = input_params[\"hkl_max_identify\"]\n",
    "maximum_angle_to_search = input_params[\"maximum_angle_to_search\"]\n",
    "step_for_binning = input_params[\"step_for_binning\"]\n",
    "nb_grains_per_lp = input_params[\"nb_grains_per_lp\"]\n",
    "grains_nb_simulate = input_params[\"grains_nb_simulate\"]\n",
    "detectorparameters = input_params[\"detectorparameters\"]\n",
    "pixelsize = input_params[\"pixelsize\"]\n",
    "emax = input_params[\"emax\"]\n",
    "emin = input_params[\"emin\"]\n",
    "symm_ = input_params[\"symmetry\"]\n",
    "symm1_ = input_params[\"symmetry1\"]\n",
    "SG = input_params[\"SG\"]\n",
    "SG1 = input_params[\"SG1\"]\n",
    "\n",
    "if material_ != material1_:\n",
    "    save_directory = os.getcwd()+\"//\"+material_+\"_\"+material1_+input_params[\"prefix\"]\n",
    "else:\n",
    "    save_directory = os.getcwd()+\"//\"+material_+input_params[\"prefix\"]\n",
    "\n",
    "if not os.path.exists(save_directory):\n",
    "    os.makedirs(save_directory)\n",
    "\n",
    "## get unit cell parameters and other details required for simulating Laue patterns\n",
    "rules, symmetry, lattice_material, \\\n",
    "    crystal, SG, rules1, symmetry1,\\\n",
    "    lattice_material1, crystal1, SG1 = get_material_detail(material_, SG, symm_,\n",
    "                                                           material1_, SG1, symm1_)"
   ]
  },
  {
   "cell_type": "markdown",
   "id": "caac29a6",
   "metadata": {},
   "source": [
    "## Step 3: Generate Neural network output classes (Laue spot hkls) using the generate_classHKL function"
   ]
  },
  {
   "cell_type": "code",
   "execution_count": null,
   "id": "b059eb4e",
   "metadata": {},
   "outputs": [],
   "source": [
    "## procedure for generation of GROUND TRUTH classes\n",
    "# general_diff_cond = True will eliminate the hkl index that does not satisfy the general reflection conditions\n",
    "generate_classHKL(n, rules, lattice_material, symmetry, material_, crystal=crystal, SG=SG, general_diff_cond=False,\n",
    "          save_directory=save_directory, write_to_console=print, ang_maxx = maximum_angle_to_search, \n",
    "          step = step_for_binning)\n",
    "\n",
    "if material_ != material1_:\n",
    "    generate_classHKL(n, rules1, lattice_material1, symmetry1, material1_, crystal=crystal1, SG=SG1, general_diff_cond=False,\n",
    "              save_directory=save_directory, write_to_console=print, ang_maxx = maximum_angle_to_search, \n",
    "              step = step_for_binning)"
   ]
  },
  {
   "cell_type": "markdown",
   "id": "fe9a0365",
   "metadata": {},
   "source": [
    "## Step 4: Generate Training and Testing dataset only for the output classes (Laue spot hkls) calculated in the Step 3\n",
    "### Uses multiprocessing library"
   ]
  },
  {
   "cell_type": "code",
   "execution_count": 3,
   "id": "665a651c",
   "metadata": {},
   "outputs": [
    {
     "ename": "IndentationError",
     "evalue": "expected an indented block (Temp/ipykernel_19104/288445628.py, line 1)",
     "output_type": "error",
     "traceback": [
      "\u001b[1;36m  File \u001b[1;32m\"C:\\Users\\purushot\\AppData\\Local\\Temp/ipykernel_19104/288445628.py\"\u001b[1;36m, line \u001b[1;32m1\u001b[0m\n\u001b[1;33m    if __name__ == '__main__':     #enclosing required because of multiprocessing\u001b[0m\n\u001b[1;37m                                                                                 ^\u001b[0m\n\u001b[1;31mIndentationError\u001b[0m\u001b[1;31m:\u001b[0m expected an indented block\n"
     ]
    }
   ],
   "source": [
    "if __name__ == '__main__':     #enclosing required because of multiprocessing\n",
    "    ############ GENERATING TRAINING DATA ##############\n",
    "    # data_realism =True ; will introduce noise and partial Laue patterns in the training dataset\n",
    "    # modelp can have either \"random\" for random orientation generation or \"uniform\" for uniform orientation generation\n",
    "    # include_scm (if True; misorientation_angle parameter need to be defined): this parameter introduces misoriented crystal of specific angle along a crystal axis in the training dataset\n",
    "    generate_dataset(material_=material_, material1_=material1_, ang_maxx=maximum_angle_to_search,\n",
    "                         step=step_for_binning, mode=0, \n",
    "                         nb_grains=nb_grains_per_lp, nb_grains1=nb_grains_per_lp, \n",
    "                         grains_nb_simulate=grains_nb_simulate, data_realism = True, \n",
    "                         detectorparameters=detectorparameters, pixelsize=pixelsize, type_=\"training_data\",\n",
    "                         var0 = 1, dim1=input_params[\"dim1\"], dim2=input_params[\"dim2\"], \n",
    "                         removeharmonics=1, save_directory=save_directory,\n",
    "                        write_to_console=print, emin=emin, emax=emax, modelp = \"random\",\n",
    "                        misorientation_angle = 1, general_diff_rules = False, \n",
    "                        crystal = crystal, crystal1 = crystal1, include_scm=False,)\n",
    "    \n",
    "    ############ GENERATING TESTING DATA ##############\n",
    "    factor = 5 # validation split for the training dataset  --> corresponds to 20% of total training dataset\n",
    "    generate_dataset(material_=material_, material1_=material1_, ang_maxx=maximum_angle_to_search,\n",
    "                         step=step_for_binning, mode=0, \n",
    "                         nb_grains=nb_grains_per_lp, nb_grains1=nb_grains_per_lp, \n",
    "                         grains_nb_simulate=grains_nb_simulate//factor, data_realism = True, \n",
    "                         detectorparameters=detectorparameters, pixelsize=pixelsize, type_=\"testing_data\",\n",
    "                         var0 = 1, dim1=input_params[\"dim1\"], dim2=input_params[\"dim2\"], \n",
    "                         removeharmonics=1, save_directory=save_directory,\n",
    "                        write_to_console=print, emin=emin, emax=emax, modelp = \"random\",\n",
    "                        misorientation_angle = 1, general_diff_rules = False, \n",
    "                        crystal = crystal, crystal1 = crystal1, include_scm=False,)\n",
    "    \n",
    "    ## Updating the ClassHKL list by removing the non-common HKL or less frequent HKL from the list\n",
    "    ## The non-common HKL can occur as a result of the detector position and energy used\n",
    "    # freq_rmv: remove output hkl if the training dataset has less tha 100 occurances of the considered hkl (freq_rmv1 for second phase)\n",
    "    rmv_freq_class(freq_rmv = 100, freq_rmv1 = 100,\n",
    "                        save_directory=save_directory, material_=material_, \n",
    "                        material1_=material1_, write_to_console=print)\n",
    "    \n",
    "    ## End of data generation for Neural network training: all files are saved in the same folder to be later used for training and prediction"
   ]
  },
  {
   "cell_type": "code",
   "execution_count": null,
   "id": "18bdb903",
   "metadata": {},
   "outputs": [],
   "source": []
  },
  {
   "cell_type": "code",
   "execution_count": null,
   "id": "9108486a",
   "metadata": {},
   "outputs": [],
   "source": []
  },
  {
   "cell_type": "code",
   "execution_count": null,
   "id": "f39199b4",
   "metadata": {},
   "outputs": [],
   "source": []
  },
  {
   "cell_type": "code",
   "execution_count": null,
   "id": "e3105f01",
   "metadata": {},
   "outputs": [],
   "source": []
  },
  {
   "cell_type": "code",
   "execution_count": null,
   "id": "1f2e076c",
   "metadata": {},
   "outputs": [],
   "source": []
  },
  {
   "cell_type": "code",
   "execution_count": null,
   "id": "c757ad03",
   "metadata": {},
   "outputs": [],
   "source": []
  }
 ],
 "metadata": {
  "kernelspec": {
   "display_name": "Python 3 (ipykernel)",
   "language": "python",
   "name": "python3"
  },
  "language_info": {
   "codemirror_mode": {
    "name": "ipython",
    "version": 3
   },
   "file_extension": ".py",
   "mimetype": "text/x-python",
   "name": "python",
   "nbconvert_exporter": "python",
   "pygments_lexer": "ipython3",
   "version": "3.9.7"
  }
 },
 "nbformat": 4,
 "nbformat_minor": 5
}
