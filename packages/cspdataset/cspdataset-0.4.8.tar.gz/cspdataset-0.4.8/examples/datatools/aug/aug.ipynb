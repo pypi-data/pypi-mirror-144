{
 "cells": [
  {
   "cell_type": "markdown",
   "metadata": {
    "collapsed": true
   },
   "source": [
    "# augtools 工具说明"
   ]
  },
  {
   "cell_type": "markdown",
   "metadata": {},
   "source": [
    "# 1 工具简介\n",
    "\n",
    "augtools   \n",
    "图片增强工具，包含在 cspdataset 库中，可通过 pip 安装，命令行的形式调用  \n",
    "可以对 VOC 格式目标检测数据集进行数据增强  \n",
    "增强包括生成新的图片及对应 xml 文件\n",
    "生成的文件位于源文件夹相同位置，并以 imgaug_ 为前缀\n"
   ]
  },
  {
   "cell_type": "markdown",
   "metadata": {},
   "source": [
    "# 2 安装 cspdataset 包"
   ]
  },
  {
   "cell_type": "code",
   "execution_count": null,
   "metadata": {},
   "outputs": [],
   "source": [
    "! pip install cspdataset"
   ]
  },
  {
   "cell_type": "markdown",
   "metadata": {},
   "source": [
    "# 3 下载示例 VOC 数据集"
   ]
  },
  {
   "cell_type": "code",
   "execution_count": null,
   "metadata": {},
   "outputs": [],
   "source": [
    "! wget "
   ]
  },
  {
   "cell_type": "markdown",
   "metadata": {},
   "source": [
    "## 3.1 数据集示例\n",
    "\n",
    "VOC  \n",
    "|------JPEGImages  \n",
    "&nbsp;&nbsp;&nbsp;&nbsp;&nbsp;&nbsp;&nbsp;&nbsp;&nbsp;&nbsp;|----------1.jpg  \n",
    "&nbsp;&nbsp;&nbsp;&nbsp;&nbsp;&nbsp;&nbsp;&nbsp;&nbsp;&nbsp;|----------1.jpg  \n",
    "&nbsp;&nbsp;&nbsp;&nbsp;&nbsp;&nbsp;&nbsp;&nbsp;&nbsp;&nbsp;|----------xxx.jpg  \n",
    "|------Annotations  \n",
    "&nbsp;&nbsp;&nbsp;&nbsp;&nbsp;&nbsp;&nbsp;&nbsp;&nbsp;&nbsp;|----------1.xml  \n",
    "&nbsp;&nbsp;&nbsp;&nbsp;&nbsp;&nbsp;&nbsp;&nbsp;&nbsp;&nbsp;|----------1.xml  \n",
    "&nbsp;&nbsp;&nbsp;&nbsp;&nbsp;&nbsp;&nbsp;&nbsp;&nbsp;&nbsp;|----------xxx.xml  \n",
    "       \n",
    "JPEGImages：图片文件夹  \n",
    "Annotations：标注文件夹  "
   ]
  },
  {
   "cell_type": "markdown",
   "metadata": {},
   "source": [
    "# 4 命令调用"
   ]
  },
  {
   "cell_type": "markdown",
   "metadata": {
    "scrolled": true
   },
   "source": [
    "## 4.1 命令行帮助说明"
   ]
  },
  {
   "cell_type": "code",
   "execution_count": null,
   "metadata": {},
   "outputs": [],
   "source": [
    "! augtools -h"
   ]
  },
  {
   "cell_type": "markdown",
   "metadata": {},
   "source": [
    "## 4.2 调用示例"
   ]
  },
  {
   "cell_type": "code",
   "execution_count": null,
   "metadata": {},
   "outputs": [],
   "source": [
    "! augtools -f aug.yml -i your/dataset"
   ]
  },
  {
   "cell_type": "markdown",
   "metadata": {},
   "source": [
    "# 4.3参数说明\n",
    "\n",
    "-h 查看命令说明  \n",
    "-f 数据增强配置文件（.yml文件）\n",
    "-i 数据集地址"
   ]
  },
  {
   "cell_type": "markdown",
   "metadata": {},
   "source": [
    "# 5 数据增强配置文件说明\n",
    "\n",
    "- 数据增强操作内部调用的是 imgaug\n",
    "- 配置文件中增强方法参数即对应 imgaug 中的相应 API\n",
    "- 除 imgaug 中的增强方法外，还支持背景图片切换\n",
    "- 示例文件见 ./aug\n",
    "- 提供两种增强方式\n",
    "> 方式一. 对每张图片轮流使用配置的增强方法，分别生成新的图片和 xml 文件  \n",
    "> 方式二. 对每张图片顺序执行配置的增强方法，生成新的图片及 xml 文件  \n",
    "- basci 为通用配置项，两种方式都需要配置\n",
    "- 方式一支持在配置的方法中随机选择一种增强（random：true），或执行所有增强方法\n",
    "- 使用方式一，直接在配置文件中输入 key: value 式参数对进行方法配置\n",
    "- 使用方式二，在标志符参数 Sequential 下层配置增强方法，下层的配置方式同方式一\n",
    "- 两种方式支持的增强方法相同，实际使用时，只能选择其中的一种方式增强，配置方法也只能选择一种\n",
    "- 是否启用某种增强方法，可通过注释和取消对应注释的方式实现\n",
    "- 各参数详细说明"
   ]
  },
  {
   "cell_type": "markdown",
   "metadata": {},
   "source": [
    "***aug.yml***    \n",
    "\n",
    "***基础配置项***   \n",
    "basic:                \n",
    "&nbsp;&nbsp;&nbsp;&nbsp;  aug_times: 2       # 增强方法作用次数  \n",
    "&nbsp;&nbsp;&nbsp;&nbsp;  random: false      # 对于方式一，是否随机采取一种方式增强\n",
    "&nbsp;&nbsp;&nbsp;&nbsp;  thread_num: false    # 是否采用多线程\n",
    "\n",
    "\n",
    "***增强方式一配置***  \n",
    "bg_changed:                                  # 背景替换，每次从文件夹中随机抽取一张作为替换背景  \n",
    "&nbsp;&nbsp;&nbsp;&nbsp;  bg_path: \"D:/document/pycharmpro/data_aug/data/bg_imgs\"   # 待替换用背景图片文件夹  \n",
    "\n",
    "Fliplr: 0.5                          # 水平翻转方法配置，0.5的概率  \n",
    "\n",
    "Flipud: 0.5                          # 垂直翻转方法配置，0.5的概率，空值默认为1  \n",
    "\n",
    "Resize: [604, 604]                     # resize 操作，宽、高  \n",
    "\n",
    "CropAndPad:                          # 裁剪/填充增强器  \n",
    "&nbsp;&nbsp;&nbsp;&nbsp;  #px: (0, 16)                        # 与 percent 不得共存  \n",
    "&nbsp;&nbsp;&nbsp;&nbsp;  percent: (0, 0.2)  \n",
    "&nbsp;&nbsp;&nbsp;&nbsp; pad_mode: [\"constant\", \"edge\"]    \n",
    "&nbsp;&nbsp;&nbsp;&nbsp;  pad_cval: (0, 128)  \n",
    "  \n",
    "Rotate: [-90, 90]                      # 旋转  \n",
    "\n",
    "Multiply:  [0.5, 1.5]                  # 颜色亮暗调整  \n",
    "\n",
    "Affine:                            # 仿射变换增强器  \n",
    "&nbsp;&nbsp;&nbsp;&nbsp;  scale: [0.5, 1.5]                     # 缩放    \n",
    "&nbsp;&nbsp;&nbsp;&nbsp;  rotate: [-45, 45]                     # 旋转  \n",
    "\n",
    "Sharpen:                           # 锐化增强器  \n",
    "&nbsp;&nbsp;&nbsp;&nbsp;  alpha: [0.0, 1.0]  \n",
    "&nbsp;&nbsp;&nbsp;&nbsp;  lightness: [0.75, 2.0]     \n",
    "\n",
    "Add: [-100, 100]                      # 加法增强器，像素值增加列表中所列范围的随机值  \n",
    "\n",
    "WithColorspace:                      # 颜色空间转换增强  \n",
    "&nbsp;&nbsp;&nbsp;&nbsp;  to_colorspace: \"HSV\"  \n",
    "&nbsp;&nbsp;&nbsp;&nbsp;  from_colorspace: \"RGB\"  \n",
    "&nbsp;&nbsp;&nbsp;&nbsp;  children:  \n",
    "&nbsp;&nbsp;&nbsp;&nbsp;&nbsp;&nbsp;&nbsp;&nbsp;    WithChannels:  \n",
    "&nbsp;&nbsp;&nbsp;&nbsp;&nbsp;&nbsp;&nbsp;&nbsp;    channels: 0  \n",
    "&nbsp;&nbsp;&nbsp;&nbsp;&nbsp;&nbsp;&nbsp;&nbsp;    children:  \n",
    "&nbsp;&nbsp;&nbsp;&nbsp;&nbsp;&nbsp;&nbsp;&nbsp;&nbsp;&nbsp;&nbsp;&nbsp;      Add: [10, 50]  \n",
    "\n",
    "Invert:                           # 反转增强器, 设置0-1的比例，默认为1，将原始像素值V变成255-V  \n",
    "\n",
    "ContrastNormalization: [0.5, 1.5]          # 对比度增强器  \n",
    "\n",
    "AdditiveGaussianNoise:                 # 高斯噪声, 0.1为比例  \n",
    "&nbsp;&nbsp;&nbsp;&nbsp;  scale: 0.1 * 255  \n",
    "\n",
    "Dropout:                          # 随机丢弃像素点，将其置为0，p为概率值，下同  \n",
    "&nbsp;&nbsp;&nbsp;&nbsp;  p: [0, 0.2]  \n",
    "\n",
    "CoarseDropout:                      # 矩形丢弃增强器，将图片中矩形方块像素值置为0  \n",
    "&nbsp;&nbsp;&nbsp;&nbsp;  p: 0.02  \n",
    "&nbsp;&nbsp;&nbsp;&nbsp;  size_percent: 0.5  \n",
    "\n",
    "Grayscale:                        # 灰度增强器  \n",
    "&nbsp;&nbsp;&nbsp;&nbsp;  alpha: [0.0, 1.0]  \n",
    "\n",
    "GaussianBlur:                     # 高斯模糊  \n",
    "&nbsp;&nbsp;&nbsp;&nbsp;sigma: [0.0, 3.0]  \n",
    "\n",
    "AverageBlur:                      # 均值模糊  \n",
    "&nbsp;&nbsp;&nbsp;&nbsp;  k: [2, 11]  #((5, 11), (1, 3))  \n",
    "\n",
    "MedianBlur:                      # 中值模糊  \n",
    "&nbsp;&nbsp;&nbsp;&nbsp;  k: [3, 11]  \n",
    "\n",
    "Emboss:                        # 浮雕增强器  \n",
    "&nbsp;&nbsp;&nbsp;&nbsp;  alpha: [0.0, 1.0]  \n",
    "&nbsp;&nbsp;&nbsp;&nbsp;  strength: [0.5, 1.5]  \n",
    "\n",
    "EdgeDetect:                     # 边缘增强器  \n",
    "&nbsp;&nbsp;&nbsp;&nbsp;  alpha: [0.0, 1.0]  \n",
    "\n",
    "***增强方式二配置***  \n",
    "Sequential:                    # 顺序增强器标识符  \n",
    "&nbsp;&nbsp;&nbsp;&nbsp;  bg_changed:  \n",
    "&nbsp;&nbsp;&nbsp;&nbsp;&nbsp;&nbsp;    bg_path: \"./data/bg_imgs\"  \n",
    "&nbsp;&nbsp;&nbsp;&nbsp;  Fliplr: 0.5                                \n",
    "&nbsp;&nbsp;&nbsp;&nbsp;  Flipud:                            \n",
    "&nbsp;&nbsp;&nbsp;&nbsp;  Resize: [608, 608]  \n",
    "&nbsp;&nbsp;&nbsp;&nbsp;  CropAndPad:  \n",
    "&nbsp;&nbsp;&nbsp;&nbsp;&nbsp;&nbsp;    #px: (0, 16)  \n",
    "&nbsp;&nbsp;&nbsp;&nbsp;&nbsp;&nbsp;    percent: (0, 0.2)  \n",
    "&nbsp;&nbsp;&nbsp;&nbsp;&nbsp;&nbsp;    pad_mode: [\"constant\", \"edge\"]  \n",
    "&nbsp;&nbsp;&nbsp;&nbsp;&nbsp;&nbsp;    pad_cval: (0, 128)  \n",
    "&nbsp;&nbsp;&nbsp;&nbsp;  Rotate: [-90, 90]   \n",
    "  \n",
    "&nbsp;&nbsp;&nbsp;&nbsp;  WithColorspace: #颜色空间转换增强  \n",
    "&nbsp;&nbsp;&nbsp;&nbsp;&nbsp;&nbsp;    to_colorspace: \"HSV\"  \n",
    "&nbsp;&nbsp;&nbsp;&nbsp;&nbsp;&nbsp;    from_colorspace: \"RGB\"  \n",
    "&nbsp;&nbsp;&nbsp;&nbsp;&nbsp;&nbsp;    children:  \n",
    "&nbsp;&nbsp;&nbsp;&nbsp;&nbsp;&nbsp;&nbsp;&nbsp;      WithChannels:  \n",
    "&nbsp;&nbsp;&nbsp;&nbsp;&nbsp;&nbsp;&nbsp;&nbsp;      channels: 0  \n",
    "&nbsp;&nbsp;&nbsp;&nbsp;&nbsp;&nbsp;&nbsp;&nbsp;      children:  \n",
    "&nbsp;&nbsp;&nbsp;&nbsp;&nbsp;&nbsp;&nbsp;&nbsp;&nbsp;&nbsp;       Add: [10, 50]  \n",
    "\n",
    "&nbsp;&nbsp;&nbsp;&nbsp;  Multiply:   \n",
    "&nbsp;&nbsp;&nbsp;&nbsp;&nbsp;&nbsp;    mul: [0.5, 1.5]  \n",
    "&nbsp;&nbsp;&nbsp;&nbsp;&nbsp;&nbsp;    per_channel: 0.5  \n",
    "&nbsp;&nbsp;&nbsp;&nbsp;  Affine:   \n",
    "&nbsp;&nbsp;&nbsp;&nbsp;&nbsp;&nbsp;  rotate: [-45, 45]   \n",
    "&nbsp;&nbsp;&nbsp;&nbsp;&nbsp;&nbsp;  scale: [0.5, 1.5]   \n",
    "&nbsp;&nbsp;&nbsp;&nbsp;  PiecewiseAffine:                      # 扭曲增强器  \n",
    "&nbsp;&nbsp;&nbsp;&nbsp;&nbsp;&nbsp;  scale: [0.01, 0.05]  \n",
    "&nbsp;&nbsp;&nbsp;&nbsp;  Sharpen:  \n",
    "&nbsp;&nbsp;&nbsp;&nbsp;&nbsp;&nbsp;    alpha: [0.0, 1.0]  \n",
    "&nbsp;&nbsp;&nbsp;&nbsp;&nbsp;&nbsp;    lightness: [0.75, 2.0]  \n",
    "&nbsp;&nbsp;&nbsp;&nbsp;  Add: [-100, 100]  \n",
    "&nbsp;&nbsp;&nbsp;&nbsp;  Invert:   \n",
    "&nbsp;&nbsp;&nbsp;&nbsp;  ContrastNormalization: [0.5, 1.5]            # 对比度增强器  \n",
    "&nbsp;&nbsp;&nbsp;&nbsp;  AdditiveGaussianNoise:   \n",
    "&nbsp;&nbsp;&nbsp;&nbsp;&nbsp;&nbsp;    scale: 0.2 * 255  \n",
    "&nbsp;&nbsp;&nbsp;&nbsp;  Dropout:   \n",
    "&nbsp;&nbsp;&nbsp;&nbsp;&nbsp;&nbsp;    p: [0, 0.2]  \n",
    "&nbsp;&nbsp;&nbsp;&nbsp;  CoarseDropout:  \n",
    "&nbsp;&nbsp;&nbsp;&nbsp;&nbsp;&nbsp;   p: 0.02  \n",
    "&nbsp;&nbsp;&nbsp;&nbsp;&nbsp;&nbsp;    size_percent: 0.5  \n",
    "&nbsp;&nbsp;&nbsp;&nbsp;  Grayscale:                            # 灰度增强器  \n",
    "&nbsp;&nbsp;&nbsp;&nbsp;&nbsp;&nbsp;    alpha: [0.0, 1.0]  \n",
    "&nbsp;&nbsp;&nbsp;&nbsp;  GaussianBlur:   \n",
    "&nbsp;&nbsp;&nbsp;&nbsp;&nbsp;&nbsp;    sigma: [0.0, 3.0]  \n",
    "&nbsp;&nbsp;&nbsp;&nbsp;  AverageBlur:  \n",
    "&nbsp;&nbsp;&nbsp;&nbsp;&nbsp;&nbsp;    k: [2, 11]  \n",
    "&nbsp;&nbsp;&nbsp;&nbsp;  MedianBlur:   \n",
    "&nbsp;&nbsp;&nbsp;&nbsp;&nbsp;&nbsp;    k: [3, 11]  \n",
    "&nbsp;&nbsp;&nbsp;&nbsp;  Emboss:   \n",
    "&nbsp;&nbsp;&nbsp;&nbsp;&nbsp;&nbsp;    alpha: [0.0, 1.0]  \n",
    "&nbsp;&nbsp;&nbsp;&nbsp;&nbsp;&nbsp;    strength: [0.5, 1.5]  \n",
    "&nbsp;&nbsp;&nbsp;&nbsp;  EdgeDetect:  \n",
    "&nbsp;&nbsp;&nbsp;&nbsp;&nbsp;&nbsp;    alpha: [0.0, 1.0]  "
   ]
  }
 ],
 "metadata": {
  "kernelspec": {
   "display_name": "Python 3 (ipykernel)",
   "language": "python",
   "name": "python3"
  },
  "language_info": {
   "codemirror_mode": {
    "name": "ipython",
    "version": 3
   },
   "file_extension": ".py",
   "mimetype": "text/x-python",
   "name": "python",
   "nbconvert_exporter": "python",
   "pygments_lexer": "ipython3",
   "version": "3.7.11"
  }
 },
 "nbformat": 4,
 "nbformat_minor": 1
}